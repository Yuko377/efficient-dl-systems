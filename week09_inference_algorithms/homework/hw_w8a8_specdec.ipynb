{
 "cells": [
  {
   "cell_type": "markdown",
   "metadata": {
    "id": "AtspjpqElmtO"
   },
   "source": [
    "# Inference Speedup"
   ]
  },
  {
   "cell_type": "markdown",
   "metadata": {
    "id": "wKxd_dT3lmtQ"
   },
   "source": [
    "## Seminar\n",
    "\n",
    "Some functions, classes and variables required for the homework part are defined in the seminar's code."
   ]
  },
  {
   "cell_type": "code",
   "execution_count": 1,
   "metadata": {
    "colab": {
     "base_uri": "https://localhost:8080/"
    },
    "id": "axGKC6hXlmtR",
    "outputId": "19a1eba3-c8c9-4945-e501-51e6a6d04d22"
   },
   "outputs": [
    {
     "name": "stdout",
     "output_type": "stream",
     "text": [
      "torch version: 2.5.1+cu124\n",
      "triton version: 3.1.0\n"
     ]
    }
   ],
   "source": [
    "import time\n",
    "from typing import List\n",
    "import os\n",
    "os.environ[\"CUDA_VISIBLE_DEVICES\"] = \"0\"\n",
    "\n",
    "import torch\n",
    "import torch.nn as nn\n",
    "\n",
    "import triton\n",
    "import triton.language as tl\n",
    "\n",
    "print(\"torch version:\", torch.__version__)\n",
    "print(\"triton version:\", triton.__version__)\n",
    "\n",
    "from transformers import AutoModelForCausalLM, AutoTokenizer, TextStreamer"
   ]
  },
  {
   "cell_type": "markdown",
   "metadata": {
    "id": "X3NJfn9nlmtS"
   },
   "source": [
    "### Catch activation and weight"
   ]
  },
  {
   "cell_type": "code",
   "execution_count": 2,
   "metadata": {
    "colab": {
     "base_uri": "https://localhost:8080/",
     "height": 156,
     "referenced_widgets": [
      "64a6f811a9464a6ba846e156a36f8eb4",
      "2479f491efc941b1bc9dd1528590d110",
      "961a7552ea54416ea212ad4712e4152e",
      "e3ffa7dd7b304a50a4e2b635097fa8d6",
      "a6cc4a0982b14ccbab48740d38d1eeda",
      "f190ec8eaa344ef0b23794a286012121",
      "e4d51961bca54086bd00f340a4e868e6",
      "3fecc5547384420095737d76d4b3df2a",
      "1c093e78d07a4076b428d067a66ee46d",
      "055dd68c6fb345dabbcdfdba90a09ae8",
      "2cffdbe02a55467daa14f5402233a2db"
     ]
    },
    "id": "UI2qK8TdlmtT",
    "outputId": "1fa00928-bd5c-4e6c-e258-eed835506582"
   },
   "outputs": [
    {
     "name": "stderr",
     "output_type": "stream",
     "text": [
      "/usr/local/lib/python3.11/dist-packages/huggingface_hub/utils/_auth.py:94: UserWarning: \n",
      "The secret `HF_TOKEN` does not exist in your Colab secrets.\n",
      "To authenticate with the Hugging Face Hub, create a token in your settings tab (https://huggingface.co/settings/tokens), set it as secret in your Google Colab and restart your session.\n",
      "You will be able to reuse this secret in all of your notebooks.\n",
      "Please note that authentication is recommended but still optional to access public models or datasets.\n",
      "  warnings.warn(\n"
     ]
    },
    {
     "data": {
      "application/vnd.jupyter.widget-view+json": {
       "model_id": "64a6f811a9464a6ba846e156a36f8eb4",
       "version_major": 2,
       "version_minor": 0
      },
      "text/plain": [
       "Loading checkpoint shards:   0%|          | 0/2 [00:00<?, ?it/s]"
      ]
     },
     "metadata": {},
     "output_type": "display_data"
    }
   ],
   "source": [
    "model_name = \"Qwen/Qwen2.5-3B-Instruct\"\n",
    "\n",
    "model = AutoModelForCausalLM.from_pretrained(\n",
    "    model_name,\n",
    "    torch_dtype=torch.float16,\n",
    "    device_map=\"auto\"\n",
    ")\n",
    "tokenizer = AutoTokenizer.from_pretrained(model_name)\n",
    "streamer = TextStreamer(tokenizer, skip_prompt=True)"
   ]
  },
  {
   "cell_type": "code",
   "execution_count": 3,
   "metadata": {
    "id": "5GbVOeSXlmtT"
   },
   "outputs": [],
   "source": [
    "# challenging input\n",
    "prompt = \"\"\"\n",
    "# SYSTEM PREAMBLE\n",
    "1) You are an excellent Python software developer with over 10 years of experience. You have a strong understanding of Python related topics, data structures, libraries, frameworks, algorithms, best practices and optimization techniques.\n",
    "2) You are here to help the user (the software developer) by breaking his request in ## TASK into logical steps and writing high-quality and efficient code to implement each step.\n",
    "3) You have to return the entire code.\n",
    "4) Follow \"Answering rules\" without exception.\n",
    "\n",
    "## ANSWERING RULES\n",
    "1) Repeat the question before answering it.\n",
    "2) Always follow \"CHAIN OF THOUGHTS\" to execute the task.\n",
    "\n",
    "## CHAIN OF THOUGHTS\n",
    "1) **OBEY the EXECUTION MODE**\n",
    "2) **TASK ANALYSIS:**\n",
    "   - Understand the user's request thoroughly.\n",
    "   - Identify the key components and requirements of the task.\n",
    "3) **PLANNING: CODDING:**\n",
    "   - Break down the task into logical, sequential steps.\n",
    "   - Outline the strategy for implementing each step.\n",
    "4) **CODING:**\n",
    "   - Explain your thought process before writing any code.\n",
    "   - Write the entire code for each step, ensuring it is clean, optimized, and well-commented.\n",
    "   - Handle edge cases and errors appropriately.\n",
    "5) **VERIFICATION:**\n",
    "   - Review the complete code solution for accuracy and efficiency.\n",
    "   - Ensure the code meets all requirements and is free of errors.\n",
    "\n",
    "## TASK\n",
    "\n",
    "Write a python function that receives the following JSON as input and enters data from it into the Google Sheet.\n",
    "\n",
    "{\n",
    "    'date': '31-05-2024',\n",
    "    'revenue': 90000,\n",
    "    'person' : 'User1',\n",
    "    'expensesList': [30000, 14000, 10000, 2000, 15000],\n",
    "    'expensesDescList': [ 'Ключи', 'Ключи2', 'Счет за такси', 'Клей, пластины', 'Провод 40м'],\n",
    "    'expensesTypeList': ['Закупки', 'Закупки', 'Расходы', 'Ремонт', 'Ремонт']\n",
    "}\n",
    "\n",
    "There is a date in JSON, you can use it to determine the month.\n",
    "The data is entered into a list with the name of the month. If such a list does not exist yet, then you need to create a list with a new month inside the sheet.\n",
    "\n",
    "The list should have the following columns (the first rows are used as headings):\n",
    "A1: Дата расхода,\n",
    "B1: сумма расхода,\n",
    "C1: описание расхода,\n",
    "D1: тип расхода,\n",
    "E1: кто внес данные\n",
    "\n",
    "G1: Дата выручки\n",
    "H1: Сумма выручки\n",
    "I1: Кто внес данные\n",
    "\n",
    "Please separate expenses and profits with a blank column.\n",
    "Please sort expenses by date, including those already listed in Google sheet list.\n",
    "Please sort earnings by date, including those already listed in Google sheet list.\n",
    "\n",
    "It is prohibited to use oauth2client as it is deprecated.\n",
    "\"\"\""
   ]
  },
  {
   "cell_type": "code",
   "execution_count": 4,
   "metadata": {
    "colab": {
     "base_uri": "https://localhost:8080/"
    },
    "id": "scDTImShlmtU",
    "outputId": "265ea5a8-a6e4-4927-86fa-25d8aefb08f7"
   },
   "outputs": [
    {
     "name": "stdout",
     "output_type": "stream",
     "text": [
      "To achieve the described functionality, we will break down the task into several steps:\n",
      "\n",
      "1. Parse the input JSON and extract relevant data.\n",
      "2. Prepare the data for insertion into the Google Sheet.\n",
      "3. Connect to the Google Sheet using the Google Sheets API.\n",
      "4. Insert the data into the appropriate columns.\n",
      "\n",
      "### Step 1: Parse the Input JSON\n",
      "\n",
      "We will parse the provided JSON to extract the necessary fields.\n",
      "\n",
      "```python\n",
      "import json\n",
      "\n",
      "def parse_json(json_data):\n",
      "    parsed_data = {\n",
      "        'date': json_data['date'],\n",
      "        'revenue': json_data['revenue'],\n",
      "        'person': json_data['person'],\n",
      "        'expenses': [\n",
      "            {'amount': expense, 'description': description, 'type': type} \n",
      "            for expense, description, type in zip(\n",
      "                json_data['expensesList'], \n",
      "                json_data['expensesDescList'], \n",
      "                json_data['expensesTypeList']\n",
      "            )\n",
      "        ]\n",
      "    }\n",
      "    return parsed_data\n",
      "```\n",
      "\n",
      "### Step 2: Prepare Data for Insertion\n",
      "\n",
      "We will prepare the data in a format suitable for insertion into the Google Sheet. We'll handle sorting, grouping, and adding a new row if necessary.\n",
      "\n",
      "```python\n",
      "from google.oauth2.service_account import Credentials\n",
      "from googleapiclient.discovery import build\n",
      "from datetime import datetime, timedelta\n",
      "\n",
      "def prepare_data(parsed_data, sheet_id):\n",
      "    # Sort expenses and revenue by date\n",
      "    parsed_data['expenses'].sort(key=lambda x: datetime.strptime(x['date'], '%d-%m-%Y'))\n",
      "    \n",
      "    # Extract month from date\n",
      "    month = parsed_data['date'].split('-')[1]\n",
      "    \n",
      "    # Initialize the profit/loss list\n",
      "    profit_loss_list = []\n",
      "    \n",
      "    # Add profit/loss row\n",
      "    profit_loss_list.append({\n",
      "        'A1': f\"Дата выручки\",\n",
      "        'B1': parsed_data['revenue'],\n",
      "        'C1': f\"Сумма выручки\",\n",
      "        'D1': parsed_data['person'],\n",
      "        'E1': 'Кто внес данные'\n",
      "    })\n",
      "    \n",
      "    # Append expenses\n",
      "    for expense in parsed_data['expenses']:\n",
      "        expense_row = {\n",
      "            'A1': expense['date'],\n",
      "            'B1': expense['amount'],\n",
      "            'C1': expense['description'],\n",
      "            'D1': expense['type'],\n",
      "            'E1': parsed_data['person']\n",
      "        }\n",
      "        profit_loss_list.append(expense_row)\n",
      "    \n",
      "    # Return the prepared data\n",
      "    return month, profit_loss_list\n",
      "```\n",
      "\n",
      "### Step 3: Connect to the Google Sheet\n",
      "\n",
      "We will use the Google Sheets API to connect to the specified sheet ID.\n",
      "\n",
      "```python\n",
      "def get_credentials():\n",
      "    credentials = Credentials.from_service_account_file('path/to/your/service-account-file.json')\n",
      "    scoped_credentials = credentials.with_scopes([\n",
      "        'https://www.googleapis.com/auth/spreadsheets',\n",
      "        'https://www.googleapis.com/auth/drive'\n",
      "    ])\n",
      "    return scoped_credentials\n",
      "\n",
      "def insert_data(service, sheet_id, month, profit_loss_list):\n",
      "    # Get the sheet\n",
      "    spreadsheet = service.spreadsheets()\n",
      "    sheet = spreadsheet.values().get(spreadsheetId=sheet_id, range=f\"A1:E\").execute()\n",
      "    values = sheet.get('values', [])\n",
      "\n",
      "    # Find the last row number\n",
      "    last_row = len(values) + 1 if values else 1\n",
      "\n",
      "    # Prepare the data to be inserted\n",
      "    data_to_insert = [{'range': f'A{last_row}:{chr(65 + last_row - 1)}{last_row}', 'values': profit_loss_list}]\n",
      "    \n",
      "    # Insert the data\n",
      "    result = spreadsheet.values().update(spreadsheetId=sheet_id, range=f\"A1:{chr(65 + len(profit_loss_list))}{last_row}\", valueInputOption='USER_ENTERED', body={'values': profit_loss_list}).execute()\n",
      "\n",
      "    return result\n",
      "```\n",
      "\n",
      "### Step 4: Main Function\n",
      "\n",
      "Now, let's put everything together in a main function.\n",
      "\n",
      "```python\n",
      "def main():\n",
      "    # Load JSON data\n",
      "    json_data = {\n",
      "        'date': '31-05-2024',\n",
      "        'revenue': 90000,\n",
      "        'person': 'User1',\n",
      "        'expensesList': [30000, 14000, 10000, 2000, 15000],\n",
      "        'expensesDescList': ['Ключи', 'Ключи2', 'Счет за такси', 'Клей, пластины', 'Провод 40м'],\n",
      "        'expensesTypeList': ['Закупки', 'Закупки', 'Расходы', 'Ремонт', 'Ремонт']\n",
      "    }\n",
      "    \n",
      "    # Parse JSON\n",
      "    parsed_data = parse_json(json_data)\n",
      "    \n",
      "    # Prepare data for insertion\n",
      "    month, profit\n"
     ]
    }
   ],
   "source": [
    "messages = [\n",
    "    {\"role\": \"system\", \"content\": \"You are Qwen, created by Alibaba Cloud. You are a helpful assistant.\"},\n",
    "    {\"role\": \"user\", \"content\": prompt}\n",
    "]\n",
    "text = tokenizer.apply_chat_template(\n",
    "    messages,\n",
    "    tokenize=False,\n",
    "    add_generation_prompt=True\n",
    ")\n",
    "model_inputs = tokenizer([text], return_tensors=\"pt\").to(model.device)\n",
    "generation_output = model.generate(**model_inputs, streamer=streamer, max_new_tokens=1024)"
   ]
  },
  {
   "cell_type": "code",
   "execution_count": 5,
   "metadata": {
    "id": "GmZ09xWelmtV"
   },
   "outputs": [],
   "source": [
    "class Catcher(nn.Module):\n",
    "    def __init__(self, inps: List, module: nn.Module):\n",
    "        super().__init__()\n",
    "        self.backup = module\n",
    "        self.inps = inps\n",
    "\n",
    "    def forward(self, inp, **kwargs):\n",
    "        self.inps.append(inp.to(\"cpu\"))\n",
    "        raise ValueError"
   ]
  },
  {
   "cell_type": "code",
   "execution_count": 6,
   "metadata": {
    "id": "UaQPJeQMlmtV"
   },
   "outputs": [],
   "source": [
    "layer = model.model.layers[0]\n",
    "inps = []\n",
    "layer.self_attn.q_proj = Catcher(inps, layer.self_attn.q_proj) # wrap"
   ]
  },
  {
   "cell_type": "code",
   "execution_count": 7,
   "metadata": {
    "id": "lDXTyhi4lmtV"
   },
   "outputs": [],
   "source": [
    "try:\n",
    "    model(model_inputs.input_ids)\n",
    "except ValueError as e:\n",
    "    layer.self_attn.q_proj = layer.self_attn.q_proj.backup"
   ]
  },
  {
   "cell_type": "code",
   "execution_count": 8,
   "metadata": {
    "colab": {
     "base_uri": "https://localhost:8080/"
    },
    "id": "N4wTaZR5lmtV",
    "outputId": "7bffa19f-0253-4189-832e-78f8a2ea514b"
   },
   "outputs": [
    {
     "data": {
      "text/plain": [
       "torch.Size([1, 700, 2048])"
      ]
     },
     "execution_count": 8,
     "metadata": {},
     "output_type": "execute_result"
    }
   ],
   "source": [
    "inps[0].shape"
   ]
  },
  {
   "cell_type": "code",
   "execution_count": 9,
   "metadata": {
    "id": "9p1tFHE5lmtV"
   },
   "outputs": [],
   "source": [
    "weight = layer.self_attn.q_proj.weight # unwrap"
   ]
  },
  {
   "cell_type": "markdown",
   "metadata": {
    "id": "pHW-5ajhlmtV"
   },
   "source": [
    "### Triton GeMM"
   ]
  },
  {
   "cell_type": "markdown",
   "metadata": {
    "id": "RIGt7MPM6zEk"
   },
   "source": [
    "#### When to Use Triton\n",
    "- Optimization Steps:\n",
    "1. Use torch.compile():\n",
    "    - Start by using torch.compile() to optimize your code.\n",
    "2. Adapt Your Code:\n",
    "    - Rewrite code to be more suitable for torch.compile().\n",
    "        - E.g., eliminate graph breaks to enable CUDA graphs.\n",
    "3. Profile and Identify Bottlenecks:\n",
    "    - Find slow parts of your code using profiling tools.\n",
    "    - Write custom Triton kernels for these parts.\n",
    "4. Consider CUDA:\n",
    "    - If still not fast enough, write custom CUDA kernels.\n",
    "\n",
    "**Note**: For maximum performance from the start, you may choose CUDA directly.\n",
    "\n",
    "#### Rough Edges in Triton\n",
    "- New-ish Project:\n",
    "    - Contains rough edges; code may not behave as expected.\n",
    "    - Expected to become more polished over time.\n",
    "- Recommendation:\n",
    "    - Debugging is important; use “simulator mode” when possible.\n",
    "    - Be aware of limitations on older GPUs or with certain operations."
   ]
  },
  {
   "cell_type": "markdown",
   "metadata": {
    "id": "pbd8c9876zEl"
   },
   "source": [
    "Resources (most useful):\n",
    "- [GPU MODE Lecture 14: Practitioners Guide to Triton](https://christianjmills.com/posts/cuda-mode-notes/lecture-014/#auto-tuning) – basic description about development on Triton, its pros and cons, practical examples with elaborated comments and something about optimization.\n",
    "- [Flash-Decoding for long-context inference](https://pytorch.org/blog/flash-decoding/) – description of SPLIT_K optimization for fasted inference at autoregressive decoding stage due to better GPU utilization.\n",
    "\n",
    "Less useful, but interesting:\n",
    "- [Deep Dive on the Hopper TMA Unit for FP8 GEMMs](https://pytorch.org/blog/hopper-tma-unit/) – importance of TMA unit for Hopper and BlackWell.\n",
    "- [Persistent Matmul](https://triton-lang.org/main/getting-started/tutorials/09-persistent-matmul.html) – special version of GeMM for Hopper and BlackWell with TMA support.\n"
   ]
  },
  {
   "cell_type": "code",
   "execution_count": 10,
   "metadata": {
    "id": "mH2g_HxalmtV"
   },
   "outputs": [],
   "source": [
    "def is_cuda():\n",
    "    return triton.runtime.driver.active.get_current_target().backend == \"cuda\"\n",
    "\n",
    "assert is_cuda(), \"CUDA only tutorial\"\n",
    "ref_lib = 'cuBLAS'"
   ]
  },
  {
   "cell_type": "code",
   "execution_count": 11,
   "metadata": {
    "id": "I1Il52RRlmtW"
   },
   "outputs": [],
   "source": [
    "def get_cuda_autotune_config():\n",
    "    return [\n",
    "        triton.Config({'SPLIT_K': 1, 'BLOCK_SIZE_M': 128, 'BLOCK_SIZE_N': 256, 'BLOCK_SIZE_K': 64, 'GROUP_SIZE_M': 8}, num_stages=3, num_warps=8),\n",
    "        triton.Config({'SPLIT_K': 1, 'BLOCK_SIZE_M': 64,  'BLOCK_SIZE_N': 256, 'BLOCK_SIZE_K': 32, 'GROUP_SIZE_M': 8}, num_stages=4, num_warps=4),\n",
    "        triton.Config({'SPLIT_K': 1, 'BLOCK_SIZE_M': 128, 'BLOCK_SIZE_N': 128, 'BLOCK_SIZE_K': 32, 'GROUP_SIZE_M': 8}, num_stages=4, num_warps=4),\n",
    "        triton.Config({'SPLIT_K': 1, 'BLOCK_SIZE_M': 128, 'BLOCK_SIZE_N': 64,  'BLOCK_SIZE_K': 32, 'GROUP_SIZE_M': 8}, num_stages=4, num_warps=4),\n",
    "        triton.Config({'SPLIT_K': 1, 'BLOCK_SIZE_M': 64,  'BLOCK_SIZE_N': 128, 'BLOCK_SIZE_K': 32, 'GROUP_SIZE_M': 8}, num_stages=4, num_warps=4),\n",
    "        triton.Config({'SPLIT_K': 1, 'BLOCK_SIZE_M': 128, 'BLOCK_SIZE_N': 32,  'BLOCK_SIZE_K': 32, 'GROUP_SIZE_M': 8}, num_stages=4, num_warps=4),\n",
    "        triton.Config({'SPLIT_K': 1, 'BLOCK_SIZE_M': 64,  'BLOCK_SIZE_N': 32,  'BLOCK_SIZE_K': 32, 'GROUP_SIZE_M': 8}, num_stages=5, num_warps=2),\n",
    "        triton.Config({'SPLIT_K': 1, 'BLOCK_SIZE_M': 32,  'BLOCK_SIZE_N': 64,  'BLOCK_SIZE_K': 32, 'GROUP_SIZE_M': 8}, num_stages=5, num_warps=2),\n",
    "\t    triton.Config({'SPLIT_K': 1, 'BLOCK_SIZE_M': 64, 'BLOCK_SIZE_N': 64, 'BLOCK_SIZE_K': 32,  'GROUP_SIZE_M': 8}, num_stages=4, num_warps=4),\n",
    "\t    triton.Config({'SPLIT_K': 1, 'BLOCK_SIZE_M': 64, 'BLOCK_SIZE_N': 64, 'BLOCK_SIZE_K': 64,  'GROUP_SIZE_M': 8}, num_stages=3, num_warps=8),\n",
    "\t    triton.Config({'SPLIT_K': 1, 'BLOCK_SIZE_M': 32, 'BLOCK_SIZE_N': 32, 'BLOCK_SIZE_K': 128, 'GROUP_SIZE_M': 8}, num_stages=2, num_warps=4),\n",
    "\t    triton.Config({'SPLIT_K': 1, 'BLOCK_SIZE_M': 64, 'BLOCK_SIZE_N': 64, 'BLOCK_SIZE_K': 32,  'GROUP_SIZE_M': 16}, num_stages=4, num_warps=4),\n",
    "\t    triton.Config({'SPLIT_K': 1, 'BLOCK_SIZE_M': 64, 'BLOCK_SIZE_N': 64, 'BLOCK_SIZE_K': 64,  'GROUP_SIZE_M': 16}, num_stages=3, num_warps=8),\n",
    "\t    triton.Config({'SPLIT_K': 1, 'BLOCK_SIZE_M': 32, 'BLOCK_SIZE_N': 32, 'BLOCK_SIZE_K': 128, 'GROUP_SIZE_M': 16}, num_stages=2, num_warps=4),\n",
    "\t    triton.Config({'SPLIT_K': 1, 'BLOCK_SIZE_M': 64, 'BLOCK_SIZE_N': 64, 'BLOCK_SIZE_K': 64,  'GROUP_SIZE_M': 16}, num_stages=4, num_warps=4),\n",
    "\t    triton.Config({'SPLIT_K': 1, 'BLOCK_SIZE_M': 64, 'BLOCK_SIZE_N': 64, 'BLOCK_SIZE_K': 128, 'GROUP_SIZE_M': 16}, num_stages=3, num_warps=8),\n",
    "\t    triton.Config({'SPLIT_K': 1, 'BLOCK_SIZE_M': 32, 'BLOCK_SIZE_N': 32, 'BLOCK_SIZE_K': 256, 'GROUP_SIZE_M': 16}, num_stages=2, num_warps=4),\n",
    "        triton.Config({'SPLIT_K': 2, 'BLOCK_SIZE_M': 128, 'BLOCK_SIZE_N': 256, 'BLOCK_SIZE_K': 64, 'GROUP_SIZE_M': 8}, num_stages=3, num_warps=8),\n",
    "        triton.Config({'SPLIT_K': 2, 'BLOCK_SIZE_M': 64,  'BLOCK_SIZE_N': 256, 'BLOCK_SIZE_K': 32, 'GROUP_SIZE_M': 8}, num_stages=4, num_warps=4),\n",
    "        triton.Config({'SPLIT_K': 2, 'BLOCK_SIZE_M': 128, 'BLOCK_SIZE_N': 128, 'BLOCK_SIZE_K': 32, 'GROUP_SIZE_M': 8}, num_stages=4, num_warps=4),\n",
    "        triton.Config({'SPLIT_K': 2, 'BLOCK_SIZE_M': 128, 'BLOCK_SIZE_N': 64,  'BLOCK_SIZE_K': 32, 'GROUP_SIZE_M': 8}, num_stages=4, num_warps=4),\n",
    "        triton.Config({'SPLIT_K': 2, 'BLOCK_SIZE_M': 64,  'BLOCK_SIZE_N': 128, 'BLOCK_SIZE_K': 32, 'GROUP_SIZE_M': 8}, num_stages=4, num_warps=4),\n",
    "        triton.Config({'SPLIT_K': 2, 'BLOCK_SIZE_M': 128, 'BLOCK_SIZE_N': 32,  'BLOCK_SIZE_K': 32, 'GROUP_SIZE_M': 8}, num_stages=4, num_warps=4),\n",
    "        triton.Config({'SPLIT_K': 2, 'BLOCK_SIZE_M': 64,  'BLOCK_SIZE_N': 32,  'BLOCK_SIZE_K': 32, 'GROUP_SIZE_M': 8}, num_stages=5, num_warps=2),\n",
    "        triton.Config({'SPLIT_K': 2, 'BLOCK_SIZE_M': 32,  'BLOCK_SIZE_N': 64,  'BLOCK_SIZE_K': 32, 'GROUP_SIZE_M': 8}, num_stages=5, num_warps=2),\n",
    "        triton.Config({'SPLIT_K': 2, 'BLOCK_SIZE_M': 64, 'BLOCK_SIZE_N': 64, 'BLOCK_SIZE_K': 32,  'GROUP_SIZE_M': 8}, num_stages=4, num_warps=4),\n",
    "\t\ttriton.Config({'SPLIT_K': 2, 'BLOCK_SIZE_M': 64, 'BLOCK_SIZE_N': 64, 'BLOCK_SIZE_K': 64,  'GROUP_SIZE_M': 8}, num_stages=3, num_warps=8),\n",
    "        triton.Config({'SPLIT_K': 2, 'BLOCK_SIZE_M': 32, 'BLOCK_SIZE_N': 32, 'BLOCK_SIZE_K': 128, 'GROUP_SIZE_M': 8}, num_stages=2, num_warps=4),\n",
    "\t\ttriton.Config({'SPLIT_K': 2, 'BLOCK_SIZE_M': 64, 'BLOCK_SIZE_N': 64, 'BLOCK_SIZE_K': 32,  'GROUP_SIZE_M': 16}, num_stages=4, num_warps=4),\n",
    "\t\ttriton.Config({'SPLIT_K': 2, 'BLOCK_SIZE_M': 64, 'BLOCK_SIZE_N': 64, 'BLOCK_SIZE_K': 64,  'GROUP_SIZE_M': 16}, num_stages=3, num_warps=8),\n",
    "\t\ttriton.Config({'SPLIT_K': 2, 'BLOCK_SIZE_M': 32, 'BLOCK_SIZE_N': 32, 'BLOCK_SIZE_K': 128, 'GROUP_SIZE_M': 16}, num_stages=2, num_warps=4),\n",
    "\t\ttriton.Config({'SPLIT_K': 2, 'BLOCK_SIZE_M': 64, 'BLOCK_SIZE_N': 64, 'BLOCK_SIZE_K': 64,  'GROUP_SIZE_M': 16}, num_stages=4, num_warps=4),\n",
    "\t\ttriton.Config({'SPLIT_K': 2, 'BLOCK_SIZE_M': 64, 'BLOCK_SIZE_N': 64, 'BLOCK_SIZE_K': 128, 'GROUP_SIZE_M': 16}, num_stages=3, num_warps=8),\n",
    "\t\ttriton.Config({'SPLIT_K': 2, 'BLOCK_SIZE_M': 32, 'BLOCK_SIZE_N': 32, 'BLOCK_SIZE_K': 256, 'GROUP_SIZE_M': 16}, num_stages=2, num_warps=4),\n",
    "        # custom\n",
    "        triton.Config({'SPLIT_K': 2, 'BLOCK_SIZE_M': 16,  'BLOCK_SIZE_N': 256, 'BLOCK_SIZE_K': 32, 'GROUP_SIZE_M': 8}, num_stages=4, num_warps=4),\n",
    "        triton.Config({'SPLIT_K': 2, 'BLOCK_SIZE_M': 16,  'BLOCK_SIZE_N': 64,  'BLOCK_SIZE_K': 32, 'GROUP_SIZE_M': 8}, num_stages=5, num_warps=2),\n",
    "        triton.Config({'SPLIT_K': 2, 'BLOCK_SIZE_M': 16, 'BLOCK_SIZE_N': 32, 'BLOCK_SIZE_K': 128, 'GROUP_SIZE_M': 16}, num_stages=2, num_warps=4),\n",
    "        triton.Config({'SPLIT_K': 4, 'BLOCK_SIZE_M': 16, 'BLOCK_SIZE_N': 32, 'BLOCK_SIZE_K': 256, 'GROUP_SIZE_M': 16}, num_stages=2, num_warps=4),\n",
    "        triton.Config({'SPLIT_K': 4, 'BLOCK_SIZE_M': 16,  'BLOCK_SIZE_N': 256, 'BLOCK_SIZE_K': 32, 'GROUP_SIZE_M': 8}, num_stages=4, num_warps=4),\n",
    "        triton.Config({'SPLIT_K': 4, 'BLOCK_SIZE_M': 16,  'BLOCK_SIZE_N': 64,  'BLOCK_SIZE_K': 32, 'GROUP_SIZE_M': 8}, num_stages=5, num_warps=2),\n",
    "        triton.Config({'SPLIT_K': 4, 'BLOCK_SIZE_M': 16, 'BLOCK_SIZE_N': 32, 'BLOCK_SIZE_K': 128, 'GROUP_SIZE_M': 16}, num_stages=2, num_warps=4),\n",
    "        triton.Config({'SPLIT_K': 4, 'BLOCK_SIZE_M': 16, 'BLOCK_SIZE_N': 32, 'BLOCK_SIZE_K': 256, 'GROUP_SIZE_M': 16}, num_stages=2, num_warps=4),\n",
    "    ]\n",
    "\n",
    "\n",
    "def get_autotune_config():\n",
    "    if is_cuda():\n",
    "        return get_cuda_autotune_config()\n",
    "    raise NotImplementedError(\"ooops\")"
   ]
  },
  {
   "cell_type": "code",
   "execution_count": 12,
   "metadata": {
    "id": "Qx7SUeeZlmtW"
   },
   "outputs": [],
   "source": [
    "@triton.autotune(\n",
    "    configs=get_autotune_config(),\n",
    "    key=['M', 'N', 'K'],\n",
    "    reset_to_zero=['c_ptr']\n",
    ")\n",
    "@triton.jit\n",
    "def matmul_kernel(\n",
    "    # Pointers to matrices\n",
    "    a_ptr, b_ptr, c_ptr,\n",
    "    # Matrix dimensions\n",
    "    M, N, K,\n",
    "    # The stride variables represent how much to increase the ptr by when moving by 1\n",
    "    # element in a particular dimension. E.g. `stride_am` is how much to increase `a_ptr`\n",
    "    # by to get the element one row down (A has M rows).\n",
    "    stride_am, stride_ak,\n",
    "    stride_bk, stride_bn,\n",
    "    stride_cm, stride_cn,\n",
    "    # Meta-parameters\n",
    "    BLOCK_SIZE_M: tl.constexpr, BLOCK_SIZE_N: tl.constexpr, BLOCK_SIZE_K: tl.constexpr,\n",
    "    GROUP_SIZE_M: tl.constexpr, SPLIT_K: tl.constexpr,\n",
    "):\n",
    "    \"\"\"Kernel for computing the matmul C = A x B.\n",
    "    A has shape (M, K), B has shape (K, N) and C has shape (M, N)\n",
    "    \"\"\"\n",
    "    # -----------------------------------------------------------\n",
    "    # Map program ids `pid` to the block of C it should compute.\n",
    "    # This is done in a grouped ordering to promote L2 data reuse.\n",
    "    # See above `L2 Cache Optimizations` section for details.\n",
    "    pid = tl.program_id(axis=0)\n",
    "    pid_sp_k = tl.program_id(axis=1)\n",
    "    num_pid_m = tl.cdiv(M, BLOCK_SIZE_M)\n",
    "    num_pid_n = tl.cdiv(N, BLOCK_SIZE_N)\n",
    "    num_pid_in_group = GROUP_SIZE_M * num_pid_n\n",
    "    group_id = pid // num_pid_in_group\n",
    "    first_pid_m = group_id * GROUP_SIZE_M\n",
    "    group_size_m = min(num_pid_m - first_pid_m, GROUP_SIZE_M)\n",
    "    pid_m = first_pid_m + (pid % group_size_m)\n",
    "    pid_n = (pid % num_pid_in_group) // group_size_m\n",
    "\n",
    "    # ----------------------------------------------------------\n",
    "    # Create pointers for the first blocks of A and B.\n",
    "    # We will advance this pointer as we move in the K direction\n",
    "    # and accumulate\n",
    "    # `a_ptrs` is a block of [BLOCK_SIZE_M, BLOCK_SIZE_K] pointers\n",
    "    # `b_ptrs` is a block of [BLOCK_SIZE_K, BLOCK_SIZE_N] pointers\n",
    "    # See above `Pointer Arithmetics` section for details\n",
    "    offs_am = (pid_m * BLOCK_SIZE_M + tl.arange(0, BLOCK_SIZE_M)) % M\n",
    "    offs_bn = (pid_n * BLOCK_SIZE_N + tl.arange(0, BLOCK_SIZE_N)) % N\n",
    "    offs_k = pid_sp_k * BLOCK_SIZE_K + tl.arange(0, BLOCK_SIZE_K)\n",
    "    a_ptrs = a_ptr + (offs_am[:, None] * stride_am + offs_k[None, :] * stride_ak)\n",
    "    b_ptrs = b_ptr + (offs_k[:, None] * stride_bk + offs_bn[None, :] * stride_bn)\n",
    "    # -----------------------------------------------------------\n",
    "    # Iterate to compute a block of the C matrix.\n",
    "    # We accumulate into a `[BLOCK_SIZE_M, BLOCK_SIZE_N]` block\n",
    "    # of fp32 values for higher accuracy.\n",
    "    # `accumulator` will be converted back to fp16 after the loop.\n",
    "    accumulator = tl.zeros((BLOCK_SIZE_M, BLOCK_SIZE_N), dtype=tl.float32)\n",
    "    for k in range(0, tl.cdiv(K, BLOCK_SIZE_K * SPLIT_K)):\n",
    "        # Load the next block of A and B, generate a mask by checking the K dimension.\n",
    "        # If it is out of bounds, set it to 0.\n",
    "        a = tl.load(a_ptrs, mask=offs_k[None, :] < K - k * BLOCK_SIZE_K * SPLIT_K, other=0.0)\n",
    "        b = tl.load(b_ptrs, mask=offs_k[:, None] < K - k * BLOCK_SIZE_K * SPLIT_K, other=0.0)\n",
    "        # We accumulate along the K dimension.\n",
    "        accumulator += tl.dot(a, b, allow_tf32=False)\n",
    "        # Advance the ptrs to the next K block.\n",
    "        a_ptrs += BLOCK_SIZE_K * SPLIT_K * stride_ak\n",
    "        b_ptrs += BLOCK_SIZE_K * SPLIT_K * stride_bk\n",
    "    # You can fuse arbitrary activation functions here\n",
    "    # while the accumulator is still in FP32!\n",
    "    c = accumulator.to(c_ptr.dtype.element_ty)\n",
    "    # -----------------------------------------------------------\n",
    "    # Write back the block of the output matrix C with masks.\n",
    "    offs_cm = pid_m * BLOCK_SIZE_M + tl.arange(0, BLOCK_SIZE_M)\n",
    "    offs_cn = pid_n * BLOCK_SIZE_N + tl.arange(0, BLOCK_SIZE_N)\n",
    "    c_ptrs = c_ptr + stride_cm * offs_cm[:, None] + stride_cn * offs_cn[None, :]\n",
    "    c_mask = (offs_cm[:, None] < M) & (offs_cn[None, :] < N)\n",
    "    if SPLIT_K == 1:\n",
    "        tl.store(c_ptrs, c, mask=c_mask)\n",
    "    else:\n",
    "        tl.atomic_add(c_ptrs, c, mask=c_mask)"
   ]
  },
  {
   "cell_type": "code",
   "execution_count": 13,
   "metadata": {
    "id": "0OuhzgOylmtW"
   },
   "outputs": [],
   "source": [
    "def matmul(a, b):\n",
    "    # Check constraints.\n",
    "    assert a.shape[1] == b.shape[0], \"Incompatible dimensions\"\n",
    "    M, K = a.shape\n",
    "    K, N = b.shape\n",
    "    # Allocates output.\n",
    "    c = torch.zeros((M, N), device=a.device, dtype=torch.float16)\n",
    "    grid = lambda META: (\n",
    "        triton.cdiv(M, META['BLOCK_SIZE_M']) * triton.cdiv(N, META['BLOCK_SIZE_N']),\n",
    "        META['SPLIT_K'],\n",
    "    )\n",
    "    matmul_kernel[grid](\n",
    "        a, b, c,\n",
    "        M, N, K,\n",
    "        a.stride(0), a.stride(1),\n",
    "        b.stride(0), b.stride(1),\n",
    "        c.stride(0), c.stride(1),\n",
    "    )\n",
    "    return c"
   ]
  },
  {
   "cell_type": "markdown",
   "metadata": {
    "id": "Y7THM_iRlmtW"
   },
   "source": [
    "Sanity check on quality:"
   ]
  },
  {
   "cell_type": "code",
   "execution_count": 14,
   "metadata": {
    "colab": {
     "base_uri": "https://localhost:8080/"
    },
    "id": "Zy7cPBh1lmtW",
    "outputId": "634ebde1-be90-44e3-a5f6-02bdef2eb6fb"
   },
   "outputs": [
    {
     "name": "stdout",
     "output_type": "stream",
     "text": [
      "✅ Triton and Torch match\n"
     ]
    }
   ],
   "source": [
    "torch.manual_seed(0)\n",
    "\n",
    "a = inps[0][0].to(torch.float16).cuda()\n",
    "b = weight.to(torch.float16).cuda()\n",
    "\n",
    "triton_output = matmul(a, b)\n",
    "torch_output = torch.matmul(a, b)\n",
    "\n",
    "if torch.allclose(triton_output, torch_output, atol=2e-2):\n",
    "    print(\"✅ Triton and Torch match\")\n",
    "else:\n",
    "    print(\"❌ Triton and Torch differ\")\n",
    "    print(f\"triton_output_with_fp16_inputs={triton_output}\")\n",
    "    print(f\"torch_output_with_fp16_inputs={torch_output}\")\n",
    "    assert False, \"Check quality\""
   ]
  },
  {
   "cell_type": "code",
   "execution_count": 15,
   "metadata": {
    "id": "Wz-10-69lmtW"
   },
   "outputs": [],
   "source": [
    "seqlen = inps[0].shape[1]\n",
    "hidden_size = inps[0].shape[2]\n",
    "seqlen, hidden_size\n",
    "\n",
    "\n",
    "def prepare_a(M: int):\n",
    "    inp = inps[0][0]\n",
    "    if M > seqlen:\n",
    "        n_repeats = M // seqlen + 1\n",
    "        return inp.repeat(n_repeats, 1)[:M]\n",
    "    else:\n",
    "        return inp[:M]\n",
    "\n",
    "\n",
    "def benchmark(M, provider, provider_funcs):\n",
    "    N = weight.shape[0]\n",
    "    K = weight.shape[1]\n",
    "\n",
    "    a = prepare_a(M).to(torch.float16).cuda()\n",
    "    b = weight.T.to(torch.float16)\n",
    "    assert a.shape == (M, K), f\"{a.shape} != {(M, K)}\"\n",
    "    assert b.shape == (K, N), b.shape\n",
    "\n",
    "    quantiles = [0.5, 0.2, 0.8]\n",
    "    ms, min_ms, max_ms = triton.testing.do_bench(lambda: provider_funcs[provider](a, b), quantiles=quantiles)\n",
    "    perf = lambda ms: ms # TFlops = 2 * M * N * K * 1e-12 / (ms * 1e-3)\n",
    "    return perf(ms), perf(max_ms), perf(min_ms)\n"
   ]
  },
  {
   "cell_type": "code",
   "execution_count": 17,
   "metadata": {
    "colab": {
     "base_uri": "https://localhost:8080/",
     "height": 922
    },
    "id": "H9BhixxhlmtW",
    "outputId": "fc00b0e6-dfec-44f2-f77b-5be4369ee9e5"
   },
   "outputs": [
    {
     "data": {
      "image/png": "[encoded data removed]",
      "text/plain": [
       "<Figure size 640x480 with 1 Axes>"
      ]
     },
     "metadata": {},
     "output_type": "display_data"
    },
    {
     "name": "stdout",
     "output_type": "stream",
     "text": [
      "GeMV-performance-fp16:\n",
      "      M    cuBLAS    Triton\n",
      "0   1.0  0.054064  0.051200\n",
      "1   2.0  0.057440  0.051264\n",
      "2   4.0  0.057504  0.051648\n",
      "3   8.0  0.057984  0.051808\n",
      "4  16.0  0.057856  0.051648\n",
      "5  32.0  0.061728  0.052576\n",
      "6  64.0  0.063488  0.062512\n"
     ]
    },
    {
     "ename": "KeyboardInterrupt",
     "evalue": "",
     "output_type": "error",
     "traceback": [
      "\u001b[0;31m---------------------------------------------------------------------------\u001b[0m",
      "\u001b[0;31mKeyboardInterrupt\u001b[0m                         Traceback (most recent call last)",
      "\u001b[0;32m<ipython-input-17-957e6eb8aa9c>\u001b[0m in \u001b[0;36m<cell line: 0>\u001b[0;34m()\u001b[0m\n\u001b[1;32m     27\u001b[0m \u001b[0;34m\u001b[0m\u001b[0m\n\u001b[1;32m     28\u001b[0m \u001b[0;34m\u001b[0m\u001b[0m\n\u001b[0;32m---> 29\u001b[0;31m \u001b[0mtriton\u001b[0m\u001b[0;34m.\u001b[0m\u001b[0mtesting\u001b[0m\u001b[0;34m.\u001b[0m\u001b[0mperf_report\u001b[0m\u001b[0;34m(\u001b[0m\u001b[0mconfigs\u001b[0m\u001b[0;34m)\u001b[0m\u001b[0;34m(\u001b[0m\u001b[0mbenchmark\u001b[0m\u001b[0;34m)\u001b[0m\u001b[0;34m.\u001b[0m\u001b[0mrun\u001b[0m\u001b[0;34m(\u001b[0m\u001b[0mshow_plots\u001b[0m\u001b[0;34m=\u001b[0m\u001b[0;32mTrue\u001b[0m\u001b[0;34m,\u001b[0m \u001b[0mprint_data\u001b[0m\u001b[0;34m=\u001b[0m\u001b[0;32mTrue\u001b[0m\u001b[0;34m)\u001b[0m\u001b[0;34m\u001b[0m\u001b[0;34m\u001b[0m\u001b[0m\n\u001b[0m",
      "\u001b[0;32m/usr/local/lib/python3.11/dist-packages/triton/testing.py\u001b[0m in \u001b[0;36mrun\u001b[0;34m(self, show_plots, print_data, save_path, return_df, **kwargs)\u001b[0m\n\u001b[1;32m    347\u001b[0m             \u001b[0mhtml\u001b[0m\u001b[0;34m.\u001b[0m\u001b[0mwrite\u001b[0m\u001b[0;34m(\u001b[0m\u001b[0;34m\"<html><body>\\n\"\u001b[0m\u001b[0;34m)\u001b[0m\u001b[0;34m\u001b[0m\u001b[0;34m\u001b[0m\u001b[0m\n\u001b[1;32m    348\u001b[0m         \u001b[0;32mfor\u001b[0m \u001b[0mbench\u001b[0m \u001b[0;32min\u001b[0m \u001b[0mbenchmarks\u001b[0m\u001b[0;34m:\u001b[0m\u001b[0;34m\u001b[0m\u001b[0;34m\u001b[0m\u001b[0m\n\u001b[0;32m--> 349\u001b[0;31m             \u001b[0mresult_dfs\u001b[0m\u001b[0;34m.\u001b[0m\u001b[0mappend\u001b[0m\u001b[0;34m(\u001b[0m\u001b[0mself\u001b[0m\u001b[0;34m.\u001b[0m\u001b[0m_run\u001b[0m\u001b[0;34m(\u001b[0m\u001b[0mbench\u001b[0m\u001b[0;34m,\u001b[0m \u001b[0msave_path\u001b[0m\u001b[0;34m,\u001b[0m \u001b[0mshow_plots\u001b[0m\u001b[0;34m,\u001b[0m \u001b[0mprint_data\u001b[0m\u001b[0;34m,\u001b[0m \u001b[0;34m**\u001b[0m\u001b[0mkwargs\u001b[0m\u001b[0;34m)\u001b[0m\u001b[0;34m)\u001b[0m\u001b[0;34m\u001b[0m\u001b[0;34m\u001b[0m\u001b[0m\n\u001b[0m\u001b[1;32m    350\u001b[0m             \u001b[0;32mif\u001b[0m \u001b[0msave_path\u001b[0m\u001b[0;34m:\u001b[0m\u001b[0;34m\u001b[0m\u001b[0;34m\u001b[0m\u001b[0m\n\u001b[1;32m    351\u001b[0m                 \u001b[0mhtml\u001b[0m\u001b[0;34m.\u001b[0m\u001b[0mwrite\u001b[0m\u001b[0;34m(\u001b[0m\u001b[0;34mf\"<image src=\\\"{bench.plot_name}.png\\\"/>\\n\"\u001b[0m\u001b[0;34m)\u001b[0m\u001b[0;34m\u001b[0m\u001b[0;34m\u001b[0m\u001b[0m\n",
      "\u001b[0;32m/usr/local/lib/python3.11/dist-packages/triton/testing.py\u001b[0m in \u001b[0;36m_run\u001b[0;34m(self, bench, save_path, show_plots, print_data, diff_col, save_precision, **kwrags)\u001b[0m\n\u001b[1;32m    290\u001b[0m             \u001b[0mrow_mean\u001b[0m\u001b[0;34m,\u001b[0m \u001b[0mrow_min\u001b[0m\u001b[0;34m,\u001b[0m \u001b[0mrow_max\u001b[0m \u001b[0;34m=\u001b[0m \u001b[0;34m[\u001b[0m\u001b[0;34m]\u001b[0m\u001b[0;34m,\u001b[0m \u001b[0;34m[\u001b[0m\u001b[0;34m]\u001b[0m\u001b[0;34m,\u001b[0m \u001b[0;34m[\u001b[0m\u001b[0;34m]\u001b[0m\u001b[0;34m\u001b[0m\u001b[0;34m\u001b[0m\u001b[0m\n\u001b[1;32m    291\u001b[0m             \u001b[0;32mfor\u001b[0m \u001b[0my\u001b[0m \u001b[0;32min\u001b[0m \u001b[0mbench\u001b[0m\u001b[0;34m.\u001b[0m\u001b[0mline_vals\u001b[0m\u001b[0;34m:\u001b[0m\u001b[0;34m\u001b[0m\u001b[0;34m\u001b[0m\u001b[0m\n\u001b[0;32m--> 292\u001b[0;31m                 \u001b[0mret\u001b[0m \u001b[0;34m=\u001b[0m \u001b[0mself\u001b[0m\u001b[0;34m.\u001b[0m\u001b[0mfn\u001b[0m\u001b[0;34m(\u001b[0m\u001b[0;34m**\u001b[0m\u001b[0mx_args\u001b[0m\u001b[0;34m,\u001b[0m \u001b[0;34m**\u001b[0m\u001b[0;34m{\u001b[0m\u001b[0mbench\u001b[0m\u001b[0;34m.\u001b[0m\u001b[0mline_arg\u001b[0m\u001b[0;34m:\u001b[0m \u001b[0my\u001b[0m\u001b[0;34m}\u001b[0m\u001b[0;34m,\u001b[0m \u001b[0;34m**\u001b[0m\u001b[0mbench\u001b[0m\u001b[0;34m.\u001b[0m\u001b[0margs\u001b[0m\u001b[0;34m,\u001b[0m \u001b[0;34m**\u001b[0m\u001b[0mkwrags\u001b[0m\u001b[0;34m)\u001b[0m\u001b[0;34m\u001b[0m\u001b[0;34m\u001b[0m\u001b[0m\n\u001b[0m\u001b[1;32m    293\u001b[0m                 \u001b[0;32mtry\u001b[0m\u001b[0;34m:\u001b[0m\u001b[0;34m\u001b[0m\u001b[0;34m\u001b[0m\u001b[0m\n\u001b[1;32m    294\u001b[0m                     \u001b[0my_mean\u001b[0m\u001b[0;34m,\u001b[0m \u001b[0my_min\u001b[0m\u001b[0;34m,\u001b[0m \u001b[0my_max\u001b[0m \u001b[0;34m=\u001b[0m \u001b[0mret\u001b[0m\u001b[0;34m\u001b[0m\u001b[0;34m\u001b[0m\u001b[0m\n",
      "\u001b[0;32m<ipython-input-16-ba2cf417f6ad>\u001b[0m in \u001b[0;36mbenchmark\u001b[0;34m(M, provider, provider_funcs)\u001b[0m\n\u001b[1;32m     23\u001b[0m \u001b[0;34m\u001b[0m\u001b[0m\n\u001b[1;32m     24\u001b[0m     \u001b[0mquantiles\u001b[0m \u001b[0;34m=\u001b[0m \u001b[0;34m[\u001b[0m\u001b[0;36m0.5\u001b[0m\u001b[0;34m,\u001b[0m \u001b[0;36m0.2\u001b[0m\u001b[0;34m,\u001b[0m \u001b[0;36m0.8\u001b[0m\u001b[0;34m]\u001b[0m\u001b[0;34m\u001b[0m\u001b[0;34m\u001b[0m\u001b[0m\n\u001b[0;32m---> 25\u001b[0;31m     \u001b[0mms\u001b[0m\u001b[0;34m,\u001b[0m \u001b[0mmin_ms\u001b[0m\u001b[0;34m,\u001b[0m \u001b[0mmax_ms\u001b[0m \u001b[0;34m=\u001b[0m \u001b[0mtriton\u001b[0m\u001b[0;34m.\u001b[0m\u001b[0mtesting\u001b[0m\u001b[0;34m.\u001b[0m\u001b[0mdo_bench\u001b[0m\u001b[0;34m(\u001b[0m\u001b[0;32mlambda\u001b[0m\u001b[0;34m:\u001b[0m \u001b[0mprovider_funcs\u001b[0m\u001b[0;34m[\u001b[0m\u001b[0mprovider\u001b[0m\u001b[0;34m]\u001b[0m\u001b[0;34m(\u001b[0m\u001b[0ma\u001b[0m\u001b[0;34m,\u001b[0m \u001b[0mb\u001b[0m\u001b[0;34m)\u001b[0m\u001b[0;34m,\u001b[0m \u001b[0mquantiles\u001b[0m\u001b[0;34m=\u001b[0m\u001b[0mquantiles\u001b[0m\u001b[0;34m)\u001b[0m\u001b[0;34m\u001b[0m\u001b[0;34m\u001b[0m\u001b[0m\n\u001b[0m\u001b[1;32m     26\u001b[0m     \u001b[0mperf\u001b[0m \u001b[0;34m=\u001b[0m \u001b[0;32mlambda\u001b[0m \u001b[0mms\u001b[0m\u001b[0;34m:\u001b[0m \u001b[0mms\u001b[0m \u001b[0;31m# TFlops = 2 * M * N * K * 1e-12 / (ms * 1e-3)\u001b[0m\u001b[0;34m\u001b[0m\u001b[0;34m\u001b[0m\u001b[0m\n\u001b[1;32m     27\u001b[0m     \u001b[0;32mreturn\u001b[0m \u001b[0mperf\u001b[0m\u001b[0;34m(\u001b[0m\u001b[0mms\u001b[0m\u001b[0;34m)\u001b[0m\u001b[0;34m,\u001b[0m \u001b[0mperf\u001b[0m\u001b[0;34m(\u001b[0m\u001b[0mmax_ms\u001b[0m\u001b[0;34m)\u001b[0m\u001b[0;34m,\u001b[0m \u001b[0mperf\u001b[0m\u001b[0;34m(\u001b[0m\u001b[0mmin_ms\u001b[0m\u001b[0;34m)\u001b[0m\u001b[0;34m\u001b[0m\u001b[0;34m\u001b[0m\u001b[0m\n",
      "\u001b[0;32m/usr/local/lib/python3.11/dist-packages/triton/testing.py\u001b[0m in \u001b[0;36mdo_bench\u001b[0;34m(fn, warmup, rep, grad_to_none, quantiles, fast_flush, return_mode, device_type)\u001b[0m\n\u001b[1;32m    104\u001b[0m     \u001b[0mdi\u001b[0m \u001b[0;34m=\u001b[0m \u001b[0mtorch\u001b[0m\u001b[0;34m.\u001b[0m\u001b[0m_dynamo\u001b[0m\u001b[0;34m.\u001b[0m\u001b[0mdevice_interface\u001b[0m\u001b[0;34m.\u001b[0m\u001b[0mget_interface_for_device\u001b[0m\u001b[0;34m(\u001b[0m\u001b[0mdevice_type\u001b[0m\u001b[0;34m)\u001b[0m\u001b[0;34m\u001b[0m\u001b[0;34m\u001b[0m\u001b[0m\n\u001b[1;32m    105\u001b[0m \u001b[0;34m\u001b[0m\u001b[0m\n\u001b[0;32m--> 106\u001b[0;31m     \u001b[0mfn\u001b[0m\u001b[0;34m(\u001b[0m\u001b[0;34m)\u001b[0m\u001b[0;34m\u001b[0m\u001b[0;34m\u001b[0m\u001b[0m\n\u001b[0m\u001b[1;32m    107\u001b[0m     \u001b[0mdi\u001b[0m\u001b[0;34m.\u001b[0m\u001b[0msynchronize\u001b[0m\u001b[0;34m(\u001b[0m\u001b[0;34m)\u001b[0m\u001b[0;34m\u001b[0m\u001b[0;34m\u001b[0m\u001b[0m\n\u001b[1;32m    108\u001b[0m \u001b[0;34m\u001b[0m\u001b[0m\n",
      "\u001b[0;32m<ipython-input-16-ba2cf417f6ad>\u001b[0m in \u001b[0;36m<lambda>\u001b[0;34m()\u001b[0m\n\u001b[1;32m     23\u001b[0m \u001b[0;34m\u001b[0m\u001b[0m\n\u001b[1;32m     24\u001b[0m     \u001b[0mquantiles\u001b[0m \u001b[0;34m=\u001b[0m \u001b[0;34m[\u001b[0m\u001b[0;36m0.5\u001b[0m\u001b[0;34m,\u001b[0m \u001b[0;36m0.2\u001b[0m\u001b[0;34m,\u001b[0m \u001b[0;36m0.8\u001b[0m\u001b[0;34m]\u001b[0m\u001b[0;34m\u001b[0m\u001b[0;34m\u001b[0m\u001b[0m\n\u001b[0;32m---> 25\u001b[0;31m     \u001b[0mms\u001b[0m\u001b[0;34m,\u001b[0m \u001b[0mmin_ms\u001b[0m\u001b[0;34m,\u001b[0m \u001b[0mmax_ms\u001b[0m \u001b[0;34m=\u001b[0m \u001b[0mtriton\u001b[0m\u001b[0;34m.\u001b[0m\u001b[0mtesting\u001b[0m\u001b[0;34m.\u001b[0m\u001b[0mdo_bench\u001b[0m\u001b[0;34m(\u001b[0m\u001b[0;32mlambda\u001b[0m\u001b[0;34m:\u001b[0m \u001b[0mprovider_funcs\u001b[0m\u001b[0;34m[\u001b[0m\u001b[0mprovider\u001b[0m\u001b[0;34m]\u001b[0m\u001b[0;34m(\u001b[0m\u001b[0ma\u001b[0m\u001b[0;34m,\u001b[0m \u001b[0mb\u001b[0m\u001b[0;34m)\u001b[0m\u001b[0;34m,\u001b[0m \u001b[0mquantiles\u001b[0m\u001b[0;34m=\u001b[0m\u001b[0mquantiles\u001b[0m\u001b[0;34m)\u001b[0m\u001b[0;34m\u001b[0m\u001b[0;34m\u001b[0m\u001b[0m\n\u001b[0m\u001b[1;32m     26\u001b[0m     \u001b[0mperf\u001b[0m \u001b[0;34m=\u001b[0m \u001b[0;32mlambda\u001b[0m \u001b[0mms\u001b[0m\u001b[0;34m:\u001b[0m \u001b[0mms\u001b[0m \u001b[0;31m# TFlops = 2 * M * N * K * 1e-12 / (ms * 1e-3)\u001b[0m\u001b[0;34m\u001b[0m\u001b[0;34m\u001b[0m\u001b[0m\n\u001b[1;32m     27\u001b[0m     \u001b[0;32mreturn\u001b[0m \u001b[0mperf\u001b[0m\u001b[0;34m(\u001b[0m\u001b[0mms\u001b[0m\u001b[0;34m)\u001b[0m\u001b[0;34m,\u001b[0m \u001b[0mperf\u001b[0m\u001b[0;34m(\u001b[0m\u001b[0mmax_ms\u001b[0m\u001b[0;34m)\u001b[0m\u001b[0;34m,\u001b[0m \u001b[0mperf\u001b[0m\u001b[0;34m(\u001b[0m\u001b[0mmin_ms\u001b[0m\u001b[0;34m)\u001b[0m\u001b[0;34m\u001b[0m\u001b[0;34m\u001b[0m\u001b[0m\n",
      "\u001b[0;32m<ipython-input-14-640c69582fd3>\u001b[0m in \u001b[0;36mmatmul\u001b[0;34m(a, b)\u001b[0m\n\u001b[1;32m     10\u001b[0m         \u001b[0mMETA\u001b[0m\u001b[0;34m[\u001b[0m\u001b[0;34m'SPLIT_K'\u001b[0m\u001b[0;34m]\u001b[0m\u001b[0;34m,\u001b[0m\u001b[0;34m\u001b[0m\u001b[0;34m\u001b[0m\u001b[0m\n\u001b[1;32m     11\u001b[0m     )\n\u001b[0;32m---> 12\u001b[0;31m     matmul_kernel[grid](\n\u001b[0m\u001b[1;32m     13\u001b[0m         \u001b[0ma\u001b[0m\u001b[0;34m,\u001b[0m \u001b[0mb\u001b[0m\u001b[0;34m,\u001b[0m \u001b[0mc\u001b[0m\u001b[0;34m,\u001b[0m\u001b[0;34m\u001b[0m\u001b[0;34m\u001b[0m\u001b[0m\n\u001b[1;32m     14\u001b[0m         \u001b[0mM\u001b[0m\u001b[0;34m,\u001b[0m \u001b[0mN\u001b[0m\u001b[0;34m,\u001b[0m \u001b[0mK\u001b[0m\u001b[0;34m,\u001b[0m\u001b[0;34m\u001b[0m\u001b[0;34m\u001b[0m\u001b[0m\n",
      "\u001b[0;32m/usr/local/lib/python3.11/dist-packages/triton/runtime/jit.py\u001b[0m in \u001b[0;36m<lambda>\u001b[0;34m(*args, **kwargs)\u001b[0m\n\u001b[1;32m    343\u001b[0m         \u001b[0mmemorizes\u001b[0m \u001b[0mthe\u001b[0m \u001b[0mgrid\u001b[0m\u001b[0;34m.\u001b[0m\u001b[0;34m\u001b[0m\u001b[0;34m\u001b[0m\u001b[0m\n\u001b[1;32m    344\u001b[0m         \"\"\"\n\u001b[0;32m--> 345\u001b[0;31m         \u001b[0;32mreturn\u001b[0m \u001b[0;32mlambda\u001b[0m \u001b[0;34m*\u001b[0m\u001b[0margs\u001b[0m\u001b[0;34m,\u001b[0m \u001b[0;34m**\u001b[0m\u001b[0mkwargs\u001b[0m\u001b[0;34m:\u001b[0m \u001b[0mself\u001b[0m\u001b[0;34m.\u001b[0m\u001b[0mrun\u001b[0m\u001b[0;34m(\u001b[0m\u001b[0mgrid\u001b[0m\u001b[0;34m=\u001b[0m\u001b[0mgrid\u001b[0m\u001b[0;34m,\u001b[0m \u001b[0mwarmup\u001b[0m\u001b[0;34m=\u001b[0m\u001b[0;32mFalse\u001b[0m\u001b[0;34m,\u001b[0m \u001b[0;34m*\u001b[0m\u001b[0margs\u001b[0m\u001b[0;34m,\u001b[0m \u001b[0;34m**\u001b[0m\u001b[0mkwargs\u001b[0m\u001b[0;34m)\u001b[0m\u001b[0;34m\u001b[0m\u001b[0;34m\u001b[0m\u001b[0m\n\u001b[0m\u001b[1;32m    346\u001b[0m         \u001b[0;31m# return cast(T, functools.partial(cast(Callable, self.run), grid=grid))\u001b[0m\u001b[0;34m\u001b[0m\u001b[0;34m\u001b[0m\u001b[0m\n\u001b[1;32m    347\u001b[0m \u001b[0;34m\u001b[0m\u001b[0m\n",
      "\u001b[0;32m/usr/local/lib/python3.11/dist-packages/triton/runtime/autotuner.py\u001b[0m in \u001b[0;36mrun\u001b[0;34m(self, *args, **kwargs)\u001b[0m\n\u001b[1;32m    154\u001b[0m                 \u001b[0mpruned_configs\u001b[0m \u001b[0;34m=\u001b[0m \u001b[0mself\u001b[0m\u001b[0;34m.\u001b[0m\u001b[0mprune_configs\u001b[0m\u001b[0;34m(\u001b[0m\u001b[0mkwargs\u001b[0m\u001b[0;34m)\u001b[0m\u001b[0;34m\u001b[0m\u001b[0;34m\u001b[0m\u001b[0m\n\u001b[1;32m    155\u001b[0m                 \u001b[0mbench_start\u001b[0m \u001b[0;34m=\u001b[0m \u001b[0mtime\u001b[0m\u001b[0;34m.\u001b[0m\u001b[0mtime\u001b[0m\u001b[0;34m(\u001b[0m\u001b[0;34m)\u001b[0m\u001b[0;34m\u001b[0m\u001b[0;34m\u001b[0m\u001b[0m\n\u001b[0;32m--> 156\u001b[0;31m                 \u001b[0mtimings\u001b[0m \u001b[0;34m=\u001b[0m \u001b[0;34m{\u001b[0m\u001b[0mconfig\u001b[0m\u001b[0;34m:\u001b[0m \u001b[0mself\u001b[0m\u001b[0;34m.\u001b[0m\u001b[0m_bench\u001b[0m\u001b[0;34m(\u001b[0m\u001b[0;34m*\u001b[0m\u001b[0margs\u001b[0m\u001b[0;34m,\u001b[0m \u001b[0mconfig\u001b[0m\u001b[0;34m=\u001b[0m\u001b[0mconfig\u001b[0m\u001b[0;34m,\u001b[0m \u001b[0;34m**\u001b[0m\u001b[0mkwargs\u001b[0m\u001b[0;34m)\u001b[0m \u001b[0;32mfor\u001b[0m \u001b[0mconfig\u001b[0m \u001b[0;32min\u001b[0m \u001b[0mpruned_configs\u001b[0m\u001b[0;34m}\u001b[0m\u001b[0;34m\u001b[0m\u001b[0;34m\u001b[0m\u001b[0m\n\u001b[0m\u001b[1;32m    157\u001b[0m                 \u001b[0mbench_end\u001b[0m \u001b[0;34m=\u001b[0m \u001b[0mtime\u001b[0m\u001b[0;34m.\u001b[0m\u001b[0mtime\u001b[0m\u001b[0;34m(\u001b[0m\u001b[0;34m)\u001b[0m\u001b[0;34m\u001b[0m\u001b[0;34m\u001b[0m\u001b[0m\n\u001b[1;32m    158\u001b[0m                 \u001b[0mself\u001b[0m\u001b[0;34m.\u001b[0m\u001b[0mbench_time\u001b[0m \u001b[0;34m=\u001b[0m \u001b[0mbench_end\u001b[0m \u001b[0;34m-\u001b[0m \u001b[0mbench_start\u001b[0m\u001b[0;34m\u001b[0m\u001b[0;34m\u001b[0m\u001b[0m\n",
      "\u001b[0;32m/usr/local/lib/python3.11/dist-packages/triton/runtime/autotuner.py\u001b[0m in \u001b[0;36m<dictcomp>\u001b[0;34m(.0)\u001b[0m\n\u001b[1;32m    154\u001b[0m                 \u001b[0mpruned_configs\u001b[0m \u001b[0;34m=\u001b[0m \u001b[0mself\u001b[0m\u001b[0;34m.\u001b[0m\u001b[0mprune_configs\u001b[0m\u001b[0;34m(\u001b[0m\u001b[0mkwargs\u001b[0m\u001b[0;34m)\u001b[0m\u001b[0;34m\u001b[0m\u001b[0;34m\u001b[0m\u001b[0m\n\u001b[1;32m    155\u001b[0m                 \u001b[0mbench_start\u001b[0m \u001b[0;34m=\u001b[0m \u001b[0mtime\u001b[0m\u001b[0;34m.\u001b[0m\u001b[0mtime\u001b[0m\u001b[0;34m(\u001b[0m\u001b[0;34m)\u001b[0m\u001b[0;34m\u001b[0m\u001b[0;34m\u001b[0m\u001b[0m\n\u001b[0;32m--> 156\u001b[0;31m                 \u001b[0mtimings\u001b[0m \u001b[0;34m=\u001b[0m \u001b[0;34m{\u001b[0m\u001b[0mconfig\u001b[0m\u001b[0;34m:\u001b[0m \u001b[0mself\u001b[0m\u001b[0;34m.\u001b[0m\u001b[0m_bench\u001b[0m\u001b[0;34m(\u001b[0m\u001b[0;34m*\u001b[0m\u001b[0margs\u001b[0m\u001b[0;34m,\u001b[0m \u001b[0mconfig\u001b[0m\u001b[0;34m=\u001b[0m\u001b[0mconfig\u001b[0m\u001b[0;34m,\u001b[0m \u001b[0;34m**\u001b[0m\u001b[0mkwargs\u001b[0m\u001b[0;34m)\u001b[0m \u001b[0;32mfor\u001b[0m \u001b[0mconfig\u001b[0m \u001b[0;32min\u001b[0m \u001b[0mpruned_configs\u001b[0m\u001b[0;34m}\u001b[0m\u001b[0;34m\u001b[0m\u001b[0;34m\u001b[0m\u001b[0m\n\u001b[0m\u001b[1;32m    157\u001b[0m                 \u001b[0mbench_end\u001b[0m \u001b[0;34m=\u001b[0m \u001b[0mtime\u001b[0m\u001b[0;34m.\u001b[0m\u001b[0mtime\u001b[0m\u001b[0;34m(\u001b[0m\u001b[0;34m)\u001b[0m\u001b[0;34m\u001b[0m\u001b[0;34m\u001b[0m\u001b[0m\n\u001b[1;32m    158\u001b[0m                 \u001b[0mself\u001b[0m\u001b[0;34m.\u001b[0m\u001b[0mbench_time\u001b[0m \u001b[0;34m=\u001b[0m \u001b[0mbench_end\u001b[0m \u001b[0;34m-\u001b[0m \u001b[0mbench_start\u001b[0m\u001b[0;34m\u001b[0m\u001b[0;34m\u001b[0m\u001b[0m\n",
      "\u001b[0;32m/usr/local/lib/python3.11/dist-packages/triton/runtime/autotuner.py\u001b[0m in \u001b[0;36m_bench\u001b[0;34m(self, config, *args, **meta)\u001b[0m\n\u001b[1;32m    131\u001b[0m                     \u001b[0mbench_res\u001b[0m \u001b[0;34m=\u001b[0m \u001b[0mdo_bench_cudagraph\u001b[0m\u001b[0;34m(\u001b[0m\u001b[0mkernel_call\u001b[0m\u001b[0;34m,\u001b[0m \u001b[0mrep\u001b[0m\u001b[0;34m=\u001b[0m\u001b[0mself\u001b[0m\u001b[0;34m.\u001b[0m\u001b[0mnum_reps\u001b[0m\u001b[0;34m,\u001b[0m \u001b[0mreturn_mode\u001b[0m\u001b[0;34m=\u001b[0m\u001b[0;34m\"median\"\u001b[0m\u001b[0;34m)\u001b[0m\u001b[0;34m\u001b[0m\u001b[0;34m\u001b[0m\u001b[0m\n\u001b[1;32m    132\u001b[0m                 \u001b[0;32mreturn\u001b[0m \u001b[0mbench_res\u001b[0m\u001b[0;34m\u001b[0m\u001b[0;34m\u001b[0m\u001b[0m\n\u001b[0;32m--> 133\u001b[0;31m             \u001b[0;32mreturn\u001b[0m \u001b[0mdo_bench\u001b[0m\u001b[0;34m(\u001b[0m\u001b[0mkernel_call\u001b[0m\u001b[0;34m,\u001b[0m \u001b[0mwarmup\u001b[0m\u001b[0;34m=\u001b[0m\u001b[0mself\u001b[0m\u001b[0;34m.\u001b[0m\u001b[0mnum_warmups\u001b[0m\u001b[0;34m,\u001b[0m \u001b[0mrep\u001b[0m\u001b[0;34m=\u001b[0m\u001b[0mself\u001b[0m\u001b[0;34m.\u001b[0m\u001b[0mnum_reps\u001b[0m\u001b[0;34m,\u001b[0m \u001b[0mquantiles\u001b[0m\u001b[0;34m=\u001b[0m\u001b[0;34m(\u001b[0m\u001b[0;36m0.5\u001b[0m\u001b[0;34m,\u001b[0m \u001b[0;36m0.2\u001b[0m\u001b[0;34m,\u001b[0m \u001b[0;36m0.8\u001b[0m\u001b[0;34m)\u001b[0m\u001b[0;34m)\u001b[0m\u001b[0;34m\u001b[0m\u001b[0;34m\u001b[0m\u001b[0m\n\u001b[0m\u001b[1;32m    134\u001b[0m         \u001b[0;32mexcept\u001b[0m \u001b[0;34m(\u001b[0m\u001b[0mOutOfResources\u001b[0m\u001b[0;34m,\u001b[0m \u001b[0mCompileTimeAssertionFailure\u001b[0m\u001b[0;34m)\u001b[0m\u001b[0;34m:\u001b[0m\u001b[0;34m\u001b[0m\u001b[0;34m\u001b[0m\u001b[0m\n\u001b[1;32m    135\u001b[0m             \u001b[0;32mreturn\u001b[0m \u001b[0mfloat\u001b[0m\u001b[0;34m(\u001b[0m\u001b[0;34m\"inf\"\u001b[0m\u001b[0;34m)\u001b[0m \u001b[0;32mif\u001b[0m \u001b[0mself\u001b[0m\u001b[0;34m.\u001b[0m\u001b[0muse_cuda_graph\u001b[0m \u001b[0;32melse\u001b[0m \u001b[0;34m[\u001b[0m\u001b[0mfloat\u001b[0m\u001b[0;34m(\u001b[0m\u001b[0;34m\"inf\"\u001b[0m\u001b[0;34m)\u001b[0m\u001b[0;34m,\u001b[0m \u001b[0mfloat\u001b[0m\u001b[0;34m(\u001b[0m\u001b[0;34m\"inf\"\u001b[0m\u001b[0;34m)\u001b[0m\u001b[0;34m,\u001b[0m \u001b[0mfloat\u001b[0m\u001b[0;34m(\u001b[0m\u001b[0;34m\"inf\"\u001b[0m\u001b[0;34m)\u001b[0m\u001b[0;34m]\u001b[0m\u001b[0;34m\u001b[0m\u001b[0;34m\u001b[0m\u001b[0m\n",
      "\u001b[0;32m/usr/local/lib/python3.11/dist-packages/triton/testing.py\u001b[0m in \u001b[0;36mdo_bench\u001b[0;34m(fn, warmup, rep, grad_to_none, quantiles, fast_flush, return_mode, device_type)\u001b[0m\n\u001b[1;32m    149\u001b[0m         \u001b[0mend_event\u001b[0m\u001b[0;34m[\u001b[0m\u001b[0mi\u001b[0m\u001b[0;34m]\u001b[0m\u001b[0;34m.\u001b[0m\u001b[0mrecord\u001b[0m\u001b[0;34m(\u001b[0m\u001b[0;34m)\u001b[0m\u001b[0;34m\u001b[0m\u001b[0;34m\u001b[0m\u001b[0m\n\u001b[1;32m    150\u001b[0m     \u001b[0;31m# Record clocks\u001b[0m\u001b[0;34m\u001b[0m\u001b[0;34m\u001b[0m\u001b[0m\n\u001b[0;32m--> 151\u001b[0;31m     \u001b[0mdi\u001b[0m\u001b[0;34m.\u001b[0m\u001b[0msynchronize\u001b[0m\u001b[0;34m(\u001b[0m\u001b[0;34m)\u001b[0m\u001b[0;34m\u001b[0m\u001b[0;34m\u001b[0m\u001b[0m\n\u001b[0m\u001b[1;32m    152\u001b[0m     \u001b[0mtimes\u001b[0m \u001b[0;34m=\u001b[0m \u001b[0mtorch\u001b[0m\u001b[0;34m.\u001b[0m\u001b[0mtensor\u001b[0m\u001b[0;34m(\u001b[0m\u001b[0;34m[\u001b[0m\u001b[0ms\u001b[0m\u001b[0;34m.\u001b[0m\u001b[0melapsed_time\u001b[0m\u001b[0;34m(\u001b[0m\u001b[0me\u001b[0m\u001b[0;34m)\u001b[0m \u001b[0;32mfor\u001b[0m \u001b[0ms\u001b[0m\u001b[0;34m,\u001b[0m \u001b[0me\u001b[0m \u001b[0;32min\u001b[0m \u001b[0mzip\u001b[0m\u001b[0;34m(\u001b[0m\u001b[0mstart_event\u001b[0m\u001b[0;34m,\u001b[0m \u001b[0mend_event\u001b[0m\u001b[0;34m)\u001b[0m\u001b[0;34m]\u001b[0m\u001b[0;34m,\u001b[0m \u001b[0mdtype\u001b[0m\u001b[0;34m=\u001b[0m\u001b[0mtorch\u001b[0m\u001b[0;34m.\u001b[0m\u001b[0mfloat\u001b[0m\u001b[0;34m)\u001b[0m\u001b[0;34m\u001b[0m\u001b[0;34m\u001b[0m\u001b[0m\n\u001b[1;32m    153\u001b[0m     \u001b[0;32mif\u001b[0m \u001b[0mquantiles\u001b[0m \u001b[0;32mis\u001b[0m \u001b[0;32mnot\u001b[0m \u001b[0;32mNone\u001b[0m\u001b[0;34m:\u001b[0m\u001b[0;34m\u001b[0m\u001b[0;34m\u001b[0m\u001b[0m\n",
      "\u001b[0;32m/usr/local/lib/python3.11/dist-packages/torch/cuda/__init__.py\u001b[0m in \u001b[0;36msynchronize\u001b[0;34m(device)\u001b[0m\n\u001b[1;32m    952\u001b[0m     \u001b[0m_lazy_init\u001b[0m\u001b[0;34m(\u001b[0m\u001b[0;34m)\u001b[0m\u001b[0;34m\u001b[0m\u001b[0;34m\u001b[0m\u001b[0m\n\u001b[1;32m    953\u001b[0m     \u001b[0;32mwith\u001b[0m \u001b[0mtorch\u001b[0m\u001b[0;34m.\u001b[0m\u001b[0mcuda\u001b[0m\u001b[0;34m.\u001b[0m\u001b[0mdevice\u001b[0m\u001b[0;34m(\u001b[0m\u001b[0mdevice\u001b[0m\u001b[0;34m)\u001b[0m\u001b[0;34m:\u001b[0m\u001b[0;34m\u001b[0m\u001b[0;34m\u001b[0m\u001b[0m\n\u001b[0;32m--> 954\u001b[0;31m         \u001b[0;32mreturn\u001b[0m \u001b[0mtorch\u001b[0m\u001b[0;34m.\u001b[0m\u001b[0m_C\u001b[0m\u001b[0;34m.\u001b[0m\u001b[0m_cuda_synchronize\u001b[0m\u001b[0;34m(\u001b[0m\u001b[0;34m)\u001b[0m\u001b[0;34m\u001b[0m\u001b[0;34m\u001b[0m\u001b[0m\n\u001b[0m\u001b[1;32m    955\u001b[0m \u001b[0;34m\u001b[0m\u001b[0m\n\u001b[1;32m    956\u001b[0m \u001b[0;34m\u001b[0m\u001b[0m\n",
      "\u001b[0;31mKeyboardInterrupt\u001b[0m: "
     ]
    }
   ],
   "source": [
    "configs = [\n",
    "    triton.testing.Benchmark(\n",
    "        x_names=[\"M\"],  # Argument names to use as an x-axis for the plot\n",
    "        x_vals=[2 ** i for i in range(7)],  # Different possible values for `x_name`\n",
    "        line_arg=\"provider\",  # Argument name whose value corresponds to a different line in the plot\n",
    "        # Possible values for `line_arg`\n",
    "        line_vals=[ref_lib.lower(), \"triton\"],  # Label name for the lines\n",
    "        line_names=[ref_lib, \"Triton\"],  # Line styles\n",
    "        styles=[(\"green\", \"-\"), (\"blue\", \"-\")],\n",
    "        ylabel=\"ms\",  # Label name for the y-axis\n",
    "        plot_name=\"GeMV-performance-\" + (\"fp16\"),  # Name for the plot, used also as a file name for saving the plot.\n",
    "        args={\"provider_funcs\": {\"triton\": matmul, \"cublas\": torch.matmul}},\n",
    "    ),\n",
    "    triton.testing.Benchmark(\n",
    "        x_names=[\"M\"],  # Argument names to use as an x-axis for the plot\n",
    "        x_vals=[1024 * i for i in range(4, 21)],  # Different possible values for `x_name`\n",
    "        line_arg=\"provider\",  # Argument name whose value corresponds to a different line in the plot\n",
    "        # Possible values for `line_arg`\n",
    "        line_vals=[ref_lib.lower(), \"triton\"],  # Label name for the lines\n",
    "        line_names=[ref_lib, \"Triton\"],  # Line styles\n",
    "        styles=[(\"green\", \"-\"), (\"blue\", \"-\")],\n",
    "        ylabel=\"ms\",  # Label name for the y-axis\n",
    "        plot_name=\"GeMM-performance-\" + (\"fp16\"),  # Name for the plot, used also as a file name for saving the plot.\n",
    "        args={\"provider_funcs\": {\"triton\": matmul, \"cublas\": torch.matmul}},\n",
    "    ),\n",
    "]\n",
    "\n",
    "\n",
    "triton.testing.perf_report(configs)(benchmark).run(show_plots=True, print_data=True)"
   ]
  },
  {
   "cell_type": "markdown",
   "metadata": {
    "id": "2lZEDKGdlmtW"
   },
   "source": [
    "## HW    (10 points total, 4 bonus points)"
   ]
  },
  {
   "cell_type": "markdown",
   "metadata": {
    "id": "QXEdxgI0lmtW"
   },
   "source": [
    "### Dynamic W8A8 GeMM (6 points)"
   ]
  },
  {
   "cell_type": "markdown",
   "metadata": {
    "id": "7ta2qTDz6zEm"
   },
   "source": [
    "> **Important disclaimer:** please do the assignment in Google Colab on Nvidia Tesla T4 GPU -- it has all the required dependecies pre-installed and will save you lots of time.\n",
    "\n",
    "For the disobedient: on other GPU types (H100) the code will need to be significantly rewritten to account for architectural features for maximum performance (see \"less useful but interesting\" above in the seminar).\n",
    "\n",
    "> **Important disclaimer 2:** to complete the homework, you need to run the seminar code above, it contains the necessary helper functions."
   ]
  },
  {
   "cell_type": "markdown",
   "metadata": {
    "id": "1WLBIKEelmtX"
   },
   "source": [
    "Useful resources:\n",
    "- [Matrix Multiplication Background User's Guide](https://docs.nvidia.com/deeplearning/performance/dl-performance-matrix-multiplication/index.html)\n",
    "- [Deep Dive on CUTLASS Ping-Pong GEMM Kernel](https://pytorch.org/blog/cutlass-ping-pong-gemm-kernel/)\n",
    "- [Accelerating 2D Dynamic Block Quantized Float8 GEMMs in Triton](https://pytorch.org/blog/accelerating-gemms-triton/)"
   ]
  },
  {
   "cell_type": "markdown",
   "metadata": {
    "id": "NlC8mx8h6zEm"
   },
   "source": [
    "![](https://habrastorage.org/webt/xq/r5/8a/xqr58aw0gd6tdm-j45yqad67w1a.png)"
   ]
  },
  {
   "cell_type": "markdown",
   "metadata": {
    "id": "DdfmyUbM6zEm"
   },
   "source": [
    "#### Quantization kernel (2 points)"
   ]
  },
  {
   "cell_type": "markdown",
   "metadata": {
    "id": "IGXsnB586zEm"
   },
   "source": [
    "In this task you will need to implement fast quantization operation in per-row mode:\n",
    "1. You need to fill in the gaps marked with `YOUR CODE HERE`, please do not delete these comments with the task and marking as it makes checking easier\n",
    "2. Next to each gap there is a comment with `# !!! TASK: ...` that will help understand what exactly needs to be written\n",
    "3. The illustration above shows exactly which dimensions are used to calculate scales for activation and weight matrices\n",
    "4. The formula is `scales = tensor.abs().max(axis=axis) / INT8_max_value`"
   ]
  },
  {
   "cell_type": "code",
   "execution_count": 16,
   "metadata": {
    "id": "1_BCSvnblmtX"
   },
   "outputs": [],
   "source": [
    "@triton.autotune(\n",
    "    configs=[\n",
    "        triton.Config({}, num_stages=2, num_warps=8),\n",
    "        triton.Config({}, num_stages=2, num_warps=4),\n",
    "        triton.Config({}, num_stages=2, num_warps=2),\n",
    "        triton.Config({}, num_stages=2, num_warps=1),\n",
    "     ],\n",
    "    key=['K'],\n",
    ")\n",
    "@triton.jit\n",
    "def quantize_int8_perrow_kernel(\n",
    "    fpa_ptr, a_ptr, as_ptr,\n",
    "    M, K,\n",
    "    stride_fpam, stride_fpak,\n",
    "    stride_am, stride_ak,\n",
    "    stride_asm,\n",
    "    # Meta-parameters\n",
    "    BLOCK_SIZE_M: tl.constexpr, BLOCK_SIZE_K: tl.constexpr,\n",
    "):\n",
    "    pid_m = tl.program_id(axis=0)\n",
    "    offs_k = tl.arange(0, BLOCK_SIZE_K)\n",
    "    offs_am = (pid_m * BLOCK_SIZE_M + tl.arange(0, BLOCK_SIZE_M)) % M\n",
    "\n",
    "    fpa_ptrs = fpa_ptr + offs_am[:, None] * stride_fpam + offs_k[None, :] * stride_fpak\n",
    "    a_ptrs = a_ptr + offs_am[:, None] * stride_am + offs_k[None, :] * stride_ak\n",
    "    a_max = tl.zeros((BLOCK_SIZE_M,), dtype=tl.float32)\n",
    "    for k in range(0, tl.cdiv(K, BLOCK_SIZE_K)):\n",
    "        fpa = tl.load(fpa_ptrs, mask=offs_k[None, :] < K - k * BLOCK_SIZE_K, other=0.0)\n",
    "\n",
    "        # !!! TASK: calc maximum absolute value of each row of fpa and update a_max\n",
    "        # YOUR CODE HERE\n",
    "        a_max = tl.maximum(a_max, tl.max(fpa.abs(), axis=-1))\n",
    "        # YOUR CODE HERE\n",
    "\n",
    "        fpa_ptrs += BLOCK_SIZE_K * stride_fpak\n",
    "\n",
    "    # !!! TASK: divide a_max by max positive INT8 value\n",
    "    # YOUR CODE HERE\n",
    "    a_scale = a_max / 127\n",
    "    # YOUR CODE HERE\n",
    "\n",
    "    fpa_ptrs = fpa_ptr + offs_am[:, None] * stride_fpam + offs_k[None, :] * stride_fpak\n",
    "    for k in range(0, tl.cdiv(K, BLOCK_SIZE_K)):\n",
    "        fpa = tl.load(fpa_ptrs, mask=offs_k[None, :] < K - k * BLOCK_SIZE_K, other=0.0)\n",
    "\n",
    "        # !!! TASK: divide fpa by a_scale and convert to INT8\n",
    "        # YOUR CODE HERE\n",
    "        inta = (fpa / a_scale).to(tl.int8)\n",
    "        # YOUR CODE HERE\n",
    "\n",
    "        tl.store(a_ptrs, inta, mask=offs_k[None, :] < K - k * BLOCK_SIZE_K)\n",
    "        fpa_ptrs += BLOCK_SIZE_K * stride_fpak\n",
    "        a_ptrs += BLOCK_SIZE_K * stride_ak\n",
    "    as_offs = pid_m * BLOCK_SIZE_M * stride_asm + tl.arange(0, BLOCK_SIZE_M)\n",
    "    tl.store(as_ptr + as_offs, a_scale)\n",
    "\n",
    "\n",
    "def quantize_int8_perrow(fpa):\n",
    "    a = torch.empty(fpa.shape, device=fpa.device, dtype=torch.int8)\n",
    "    a_scale = torch.empty(fpa.shape[0], device=fpa.device, dtype=fpa.dtype)\n",
    "    M, K = fpa.shape\n",
    "    BLOCK_SIZE_M = 1\n",
    "    BLOCK_SIZE_K = triton.next_power_of_2(K)\n",
    "    grid = (M // BLOCK_SIZE_M,)\n",
    "    quantize_int8_perrow_kernel[grid](\n",
    "        fpa, a, a_scale,\n",
    "        M, K,\n",
    "        fpa.stride(0), fpa.stride(1),\n",
    "        a.stride(0), a.stride(1),\n",
    "        a_scale.stride(0),\n",
    "        BLOCK_SIZE_M, BLOCK_SIZE_K,\n",
    "    )\n",
    "    return a, a_scale\n",
    "\n",
    "\n",
    "def quantize_int8(weight, axis=0, tp_rank=0):\n",
    "    # Weight shape: [H1, H2]\n",
    "    # Scale shape: [H2]\n",
    "\n",
    "    # !!! TASK: calculate scale by taking maximum over axis and saving dims and divide on maximum positive INT8 value\n",
    "    # YOUR CODE HERE\n",
    "    scale = torch.max(weight.abs(), dim=0, keepdim=True)[0] / 127\n",
    "    # YOUR CODE HERE\n",
    "\n",
    "    # !!! TASK: divide weight by scale and convert to int8\n",
    "    # YOUR CODE HERE\n",
    "    weight = (weight / scale).to(torch.int8)\n",
    "    # YOUR CODE HERE\n",
    "\n",
    "    # col major will accelerate i8xi8 kernel.\n",
    "    if axis == 0:\n",
    "        weight = weight.t().contiguous().t()\n",
    "    scale = scale.squeeze(axis)\n",
    "    return weight.contiguous().cuda(tp_rank), scale.contiguous().cuda(tp_rank)\n"
   ]
  },
  {
   "cell_type": "markdown",
   "metadata": {
    "id": "r4MPgwIi6zEm"
   },
   "source": [
    "#### Per-row W8A8 GeMM (4 points)"
   ]
  },
  {
   "cell_type": "markdown",
   "metadata": {
    "id": "uq6jdwil6zEm"
   },
   "source": [
    "Next we need to implement a fast operation for per-row W8A8 GeMM:\n",
    "1. To do this, you need to fill in the gaps marked with `YOUR CODE HERE`. Please do not delete these comments with the task and marking as it makes checking easier\n",
    "2. Next to each gap there is a comment with `# !!! TASK: ...` that will help understand what exactly needs to be written"
   ]
  },
  {
   "cell_type": "code",
   "execution_count": 38,
   "metadata": {
    "id": "Qee3RRE4lmtX"
   },
   "outputs": [],
   "source": [
    "@triton.autotune(\n",
    "    configs=get_autotune_config(),\n",
    "    key=['M', 'N', 'K'],\n",
    "    reset_to_zero=['c_ptr']\n",
    ")\n",
    "@triton.jit\n",
    "def perrow_w8a8_matmul_kernel(\n",
    "    # Pointers to matrices\n",
    "    a_ptr, as_ptr, b_ptr, bs_ptr, c_ptr,\n",
    "    # Matrix dimensions\n",
    "    M, N, K,\n",
    "    # The stride variables represent how much to increase the ptr by when moving by 1\n",
    "    # element in a particular dimension. E.g. `stride_am` is how much to increase `a_ptr`\n",
    "    # by to get the element one row down (A has M rows).\n",
    "    stride_am, stride_ak,\n",
    "    stride_asm,\n",
    "    stride_bk, stride_bn,\n",
    "    stride_bsn,\n",
    "    stride_cm, stride_cn,\n",
    "    # Meta-parameters\n",
    "    BLOCK_SIZE_M: tl.constexpr, BLOCK_SIZE_N: tl.constexpr, BLOCK_SIZE_K: tl.constexpr,\n",
    "    GROUP_SIZE_M: tl.constexpr, SPLIT_K: tl.constexpr,\n",
    "):\n",
    "    \"\"\"Kernel for computing the matmul C = A x B.\n",
    "    A has shape (M, K), B has shape (K, N) and C has shape (M, N)\n",
    "    \"\"\"\n",
    "    # -----------------------------------------------------------\n",
    "    # Map program ids `pid` to the block of C it should compute.\n",
    "    # This is done in a grouped ordering to promote L2 data reuse.\n",
    "    # See above `L2 Cache Optimizations` section for details.\n",
    "    pid = tl.program_id(axis=0)\n",
    "    pid_sp_k = tl.program_id(axis=1)\n",
    "    num_pid_m = tl.cdiv(M, BLOCK_SIZE_M)\n",
    "    num_pid_n = tl.cdiv(N, BLOCK_SIZE_N)\n",
    "    num_pid_in_group = GROUP_SIZE_M * num_pid_n\n",
    "    group_id = pid // num_pid_in_group\n",
    "    first_pid_m = group_id * GROUP_SIZE_M\n",
    "    group_size_m = min(num_pid_m - first_pid_m, GROUP_SIZE_M)\n",
    "    pid_m = first_pid_m + (pid % group_size_m)\n",
    "    pid_n = (pid % num_pid_in_group) // group_size_m\n",
    "\n",
    "    # ----------------------------------------------------------\n",
    "    # Create pointers for the first blocks of A and B.\n",
    "    # We will advance this pointer as we move in the K direction\n",
    "    # and accumulate\n",
    "    # `a_ptrs` is a block of [BLOCK_SIZE_M, BLOCK_SIZE_K] pointers\n",
    "    # `b_ptrs` is a block of [BLOCK_SIZE_K, BLOCK_SIZE_N] pointers\n",
    "    # See above `Pointer Arithmetics` section for details\n",
    "    offs_am = (pid_m * BLOCK_SIZE_M + tl.arange(0, BLOCK_SIZE_M)) % M\n",
    "    offs_bn = (pid_n * BLOCK_SIZE_N + tl.arange(0, BLOCK_SIZE_N)) % N\n",
    "    offs_k = pid_sp_k * BLOCK_SIZE_K + tl.arange(0, BLOCK_SIZE_K)\n",
    "    a_ptrs = a_ptr + (offs_am[:, None] * stride_am + offs_k[None, :] * stride_ak)\n",
    "    b_ptrs = b_ptr + (offs_k[:, None] * stride_bk + offs_bn[None, :] * stride_bn)\n",
    "    as_ptrs = as_ptr + offs_am * stride_asm\n",
    "    bs_ptrs = bs_ptr + offs_bn * stride_bsn\n",
    "    a_scale = tl.load(as_ptrs, mask=offs_am < M, other=0.0)\n",
    "    b_scale = tl.load(bs_ptrs, mask=offs_bn < N, other=0.0)\n",
    "\n",
    "    # -----------------------------------------------------------\n",
    "    # Iterate to compute a block of the C matrix.\n",
    "    # We accumulate into a `[BLOCK_SIZE_M, BLOCK_SIZE_N]` block\n",
    "    # of fp32 values for higher accuracy.\n",
    "    # `accumulator` will be converted back to fp16 after the loop.\n",
    "\n",
    "    # !!! TASK: create accumulator of int32 dtype\n",
    "    # YOUR CODE HERE\n",
    "    accumulator = tl.zeros((BLOCK_SIZE_M, BLOCK_SIZE_N), dtype=tl.int32)\n",
    "    # YOUR CODE HERE\n",
    "\n",
    "    # !!! TASK: implement the loop over K dimension.\n",
    "    # In the loop first load next blocks of A and B, using an appropriate mask over K dimension.\n",
    "    # Then, multiply blocks and update the accumulator\n",
    "    # Finally, update the pointers to A and B matrix.\n",
    "    # You can rely on implementation of regular matmul from the seminar\n",
    "\n",
    "    # YOUR CODE HERE\n",
    "    for k in range(0, tl.cdiv(K, BLOCK_SIZE_K * SPLIT_K)):\n",
    "        # Load the next block of A and B, generate a mask by checking the K dimension.\n",
    "        # If it is out of bounds, set it to 0.\n",
    "        a = tl.load(a_ptrs, mask=offs_k[None, :] < K - k * BLOCK_SIZE_K * SPLIT_K, other=0)\n",
    "        b = tl.load(b_ptrs, mask=offs_k[:, None] < K - k * BLOCK_SIZE_K * SPLIT_K, other=0)\n",
    "        # We accumulate along the K dimension.\n",
    "        accumulator += tl.dot(a, b, out_dtype=tl.int32)\n",
    "        # tl.dot(a, b, acc=accumulator)\n",
    "        # Advance the ptrs to the next K block.\n",
    "        a_ptrs += BLOCK_SIZE_K * SPLIT_K * stride_ak\n",
    "        b_ptrs += BLOCK_SIZE_K * SPLIT_K * stride_bk\n",
    "    # YOUR CODE HERE\n",
    "\n",
    "    # You can fuse arbitrary activation functions here\n",
    "    # while the accumulator is still in FP32!\n",
    "\n",
    "    # !!! TASK: dequantize the accumulator with a_scale and b_scale (outer product) and convert to c_ptr.dtype.element_ty\n",
    "    # YOUR CODE HERE\n",
    "    c = (a_scale[:, None] * accumulator.to(tl.float32) * b_scale).to(c_ptr.dtype.element_ty)\n",
    "    # c = (accumulator).to(c_ptr.dtype.element_ty)\n",
    "\n",
    "    # YOUR CODE HERE\n",
    "\n",
    "    # -----------------------------------------------------------\n",
    "    # Write back the block of the output matrix C with masks.\n",
    "    offs_cm = pid_m * BLOCK_SIZE_M + tl.arange(0, BLOCK_SIZE_M)\n",
    "    offs_cn = pid_n * BLOCK_SIZE_N + tl.arange(0, BLOCK_SIZE_N)\n",
    "    c_ptrs = c_ptr + stride_cm * offs_cm[:, None] + stride_cn * offs_cn[None, :]\n",
    "    c_mask = (offs_cm[:, None] < M) & (offs_cn[None, :] < N)\n",
    "    if SPLIT_K == 1:\n",
    "        tl.store(c_ptrs, c, mask=c_mask)\n",
    "    else:\n",
    "        tl.atomic_add(c_ptrs, c, mask=c_mask)\n",
    "\n",
    "\n",
    "def matmul_int8(a, a_scale, b, b_scale, out=None):\n",
    "    # Check constraints.\n",
    "    assert a.shape[1] == b.shape[0], \"Incompatible dimensions\"\n",
    "    M, K = a.shape\n",
    "    K, N = b.shape\n",
    "    # Allocates output.\n",
    "    if out == None:\n",
    "        c = torch.zeros((M, N), device=a.device, dtype=torch.float16)\n",
    "    else:\n",
    "        c = out.fill_(0.)\n",
    "    grid = lambda META: (\n",
    "        triton.cdiv(M, META['BLOCK_SIZE_M']) * triton.cdiv(N, META['BLOCK_SIZE_N']),\n",
    "        META['SPLIT_K'],\n",
    "    )\n",
    "    perrow_w8a8_matmul_kernel[grid](\n",
    "        a, a_scale, b, b_scale, c,\n",
    "        M, N, K,\n",
    "        a.stride(0), a.stride(1),\n",
    "        a_scale.stride(0),\n",
    "        b.stride(0), b.stride(1),\n",
    "        b_scale.stride(0),\n",
    "        c.stride(0), c.stride(1),\n",
    "    )\n",
    "    return c\n",
    "\n",
    "\n",
    "def matmul_quantize_int8(fpa, b, b_scale, out=None):\n",
    "    # !!! TASK: quantize fpa to int8 and call matmul_int8\n",
    "    # YOUR CODE HERE\n",
    "    a, a_scale = quantize_int8_perrow(fpa)\n",
    "    return matmul_int8(a, a_scale, b, b_scale, out=out)\n",
    "    # YOUR CODE HERE\n"
   ]
  },
  {
   "cell_type": "code",
   "execution_count": 109,
   "metadata": {
    "colab": {
     "base_uri": "https://localhost:8080/"
    },
    "id": "SjFYStbcK7bV",
    "outputId": "bf4cfcad-55cb-4e8f-c250-07e255f6cfd1"
   },
   "outputs": [
    {
     "data": {
      "text/plain": [
       "(torch.Size([700, 2048]), torch.Size([2048, 2048]))"
      ]
     },
     "execution_count": 109,
     "metadata": {},
     "output_type": "execute_result"
    }
   ],
   "source": [
    "a.shape, b.shape"
   ]
  },
  {
   "cell_type": "markdown",
   "metadata": {
    "id": "jtcILz_IlmtX"
   },
   "source": [
    "Sanity check (heavily relaxed for non-smoothed case):"
   ]
  },
  {
   "cell_type": "code",
   "execution_count": 39,
   "metadata": {
    "colab": {
     "base_uri": "https://localhost:8080/"
    },
    "id": "mvuppE_4lmtX",
    "outputId": "b7770e43-1ae9-4192-f910-6d3c898e73fe"
   },
   "outputs": [
    {
     "name": "stdout",
     "output_type": "stream",
     "text": [
      "✅ Triton FP8 and Torch match\n"
     ]
    }
   ],
   "source": [
    "torch.manual_seed(42)\n",
    "cos = torch.nn.CosineSimilarity(0)\n",
    "\n",
    "a = inps[0][0].to(torch.float16).cuda()\n",
    "b = weight.to(torch.float16).cuda()\n",
    "\n",
    "int_a, scale_a = quantize_int8_perrow(a)\n",
    "int_b, scale_b = quantize_int8(b, axis=0)\n",
    "\n",
    "\n",
    "triton_output = matmul_int8(int_a, scale_a, int_b, scale_b)\n",
    "torch_output = torch.matmul(a, b)\n",
    "\n",
    "if (torch_output.float() - triton_output.float()).abs().mean() < 0.03 and torch.quantile((torch_output.float() - triton_output.float()).abs(), 0.95) < 0.07:\n",
    "    print(\"✅ Triton FP8 and Torch match\")\n",
    "else:\n",
    "    print(\"❌ Triton FP8 and Torch differ\")\n",
    "    print(\"Quantization cos: \", cos((int_a * scale_a.unsqueeze(1)).flatten().to(torch.float32), a.flatten().to(torch.float32)).item())\n",
    "\n",
    "    print('=' * 50)\n",
    "    print(f\"triton_output_with_fp8={triton_output}\")\n",
    "    print(f\"torch_output={torch_output}\")\n",
    "\n",
    "    print('=' * 50)\n",
    "    print(\"infs in triton:\", (triton_output).isinf().sum())\n",
    "    print(\"infs in torch:\", (torch_output).isinf().sum())\n",
    "\n",
    "    print('=' * 50)\n",
    "    print(\"Output cos:\", cos(triton_output.flatten().to(torch.float32), torch_output.flatten().to(torch.float32)).item())\n",
    "    print(((triton_output - torch_output).abs() >= 0.5).sum())\n",
    "    print(((triton_output - torch_output).abs() / (torch_output.abs() + 1e-5)))\n",
    "    assert False, \"Triton and Torch differ\""
   ]
  },
  {
   "cell_type": "markdown",
   "metadata": {
    "id": "KBItEEG0lmtX"
   },
   "source": [
    "Sanity checks on perf:"
   ]
  },
  {
   "cell_type": "code",
   "execution_count": 40,
   "metadata": {
    "id": "EDGVPDjRlmtX"
   },
   "outputs": [],
   "source": [
    "def test_perf_quantize(M: int, K: int, iters: int = 256, thr: float = 1.3):\n",
    "    torch.manual_seed(0)\n",
    "    print(f\"M: {M} K: {K}\")\n",
    "\n",
    "    a = torch.randn((M, K), device='cuda', dtype=torch.float16)\n",
    "    # warmup\n",
    "    for _ in range(10):\n",
    "        int_a, a_scale = quantize_int8(a, 1)\n",
    "        int_a, a_scale = quantize_int8_perrow(a)\n",
    "    torch.cuda.synchronize()\n",
    "\n",
    "    t1 = time.time()\n",
    "    for _ in range(iters):\n",
    "        int_a, a_scale = quantize_int8_perrow(a)\n",
    "    torch.cuda.synchronize()\n",
    "    t2 = time.time()\n",
    "    for _ in range(iters):\n",
    "        int_a, a_scale = quantize_int8(a, axis=1)\n",
    "    torch.cuda.synchronize()\n",
    "    t3 = time.time()\n",
    "\n",
    "    torch_time = (t3 - t2) / iters\n",
    "    triton_time = (t2 - t1) / iters\n",
    "\n",
    "    print(f\"Torch time cost: {torch_time}\")\n",
    "    print(f\"Triton time cost: {triton_time}\")\n",
    "    assert torch_time / triton_time > thr, f\"Must get at least {thr}x speedup\"\n",
    "    return triton_time, torch_time\n",
    "\n",
    "\n",
    "def test_perf_matmul_int8(M, K, N, iters: int = 512, thr: float = 0.99):\n",
    "    print(\"M: {} K: {} N: {}\".format(M, K, N))\n",
    "    torch.manual_seed(0)\n",
    "    a = torch.randn((M, K), device='cuda', dtype=torch.float16)\n",
    "    b = torch.randn((K, N), device='cuda', dtype=torch.float16).contiguous()\n",
    "    int_b, scale_b = quantize_int8(b, axis=0)\n",
    "    for _ in range(10):\n",
    "        # int_a, a_scale = quantize_int8(a, 1)\n",
    "        int_a, a_scale = quantize_int8_perrow(a)\n",
    "        triton_output = matmul_int8(int_a, a_scale, int_b, scale_b)\n",
    "    torch.cuda.synchronize()\n",
    "    t1 = time.time()\n",
    "    for _ in range(iters):\n",
    "        #int_a, a_scale, _ = quantize_int8(a, 1)\n",
    "        int_a, a_scale = quantize_int8_perrow(a)\n",
    "    torch.cuda.synchronize()\n",
    "    qt2 = time.time()\n",
    "    for _ in range(iters):\n",
    "        triton_output = matmul_int8(int_a, a_scale, int_b, scale_b)\n",
    "    torch.cuda.synchronize()\n",
    "    t2 = time.time()\n",
    "    quant_time = qt2 - t1\n",
    "    triton_time = t2 - qt2\n",
    "    triton_tflops = 2 * M * N * K * 1e-12 / (triton_time / iters)\n",
    "    quant_bandwith = 2 * M * K * 1e-9 / (quant_time / iters)\n",
    "    print(\"Triton time cost: {} (tflops {}) + quant: {} (bandwidth {})\".format(\n",
    "        triton_time, triton_tflops, quant_time, quant_bandwith))\n",
    "    for _ in range(10):\n",
    "        torch_output = torch.matmul(a, b)\n",
    "    torch.cuda.synchronize()\n",
    "    iters = 512\n",
    "    t1 = time.time()\n",
    "    for _ in range(iters):\n",
    "        torch_output = torch.matmul(a, b)\n",
    "    torch.cuda.synchronize()\n",
    "    t2 = time.time()\n",
    "    torch_time = t2 - t1\n",
    "    torch_tflops = 2 * M * N * K * 1e-12 / (torch_time / iters)\n",
    "    print(\"Torch time cost: {} (tflops {})\".format(t2 - t1, torch_tflops))\n",
    "\n",
    "    assert torch_time / triton_time > thr, f\"Must get at least {thr}x speedup\"\n",
    "    return triton_time, torch_time, quant_time\n",
    "\n",
    "\n",
    "def test_perf_model_layer(bs, seq_len, hidden, inter, tp, thr: float = 0.99):\n",
    "    st1 = 0\n",
    "    st2 = 0\n",
    "    st3 = 0\n",
    "    t1, t2, t3 = test_perf_matmul_int8(bs * seq_len, hidden, hidden * 3 // tp, thr=thr)\n",
    "    test_perf_quantize(bs * seq_len, hidden, thr=thr)\n",
    "    st1 += t1\n",
    "    st2 += t2\n",
    "    st3 += t3\n",
    "    t1, t2, t3 = test_perf_matmul_int8(bs * seq_len, hidden // tp, hidden, thr=thr)\n",
    "    test_perf_quantize(bs * seq_len, hidden // tp, thr=thr)\n",
    "    st1 += t1\n",
    "    st2 += t2\n",
    "    st3 += t3\n",
    "    t1, t2, t3 = test_perf_matmul_int8(bs * seq_len, hidden, inter * 2 // tp, thr=thr)\n",
    "    st1 += t1\n",
    "    st2 += t2\n",
    "    st3 += t3\n",
    "    t1, t2, t3 = test_perf_matmul_int8(bs * seq_len, inter // tp, hidden, thr=thr)\n",
    "    test_perf_quantize(bs * seq_len, inter // tp, thr=thr)\n",
    "    st1 += t1\n",
    "    st2 += t2\n",
    "    st3 += t3\n",
    "    print(\"Triton time {} Torch time {} Quant time {}\".format(st1, st2, st3))\n",
    "    assert st2 / st1 > thr, f\"Must get at least {thr}x speedup\""
   ]
  },
  {
   "cell_type": "code",
   "execution_count": 41,
   "metadata": {
    "id": "p8lfPXCJlmtX"
   },
   "outputs": [],
   "source": [
    "bs = 32\n",
    "hidden = model.config.hidden_size\n",
    "inter  = model.config.intermediate_size\n",
    "prefill_len = 512\n",
    "decode_len = 1\n",
    "tp = 1"
   ]
  },
  {
   "cell_type": "code",
   "execution_count": 42,
   "metadata": {
    "colab": {
     "base_uri": "https://localhost:8080/"
    },
    "id": "TjCbfQOolmtX",
    "outputId": "f01a7558-f71b-407b-f94e-775ac834512e"
   },
   "outputs": [
    {
     "name": "stdout",
     "output_type": "stream",
     "text": [
      "M: 16384 K: 2048 N: 6144\n",
      "Triton time cost: 7.741472482681274 (tflops 27.269519203906665) + quant: 0.2225949764251709 (bandwidth 154.35990029878602)\n",
      "Torch time cost: 10.65448546409607 (tflops 19.813836458305435)\n",
      "M: 16384 K: 2048\n",
      "Torch time cost: 0.002474013715982437\n",
      "Triton time cost: 0.0004185568541288376\n",
      "M: 16384 K: 2048 N: 2048\n",
      "Triton time cost: 2.383049726486206 (tflops 29.528861020211412) + quant: 0.22102046012878418 (bandwidth 155.459536859073)\n",
      "Torch time cost: 3.2085819244384766 (tflops 21.931415757750678)\n",
      "M: 16384 K: 2048\n",
      "Torch time cost: 0.002456286922097206\n",
      "Triton time cost: 0.0004271911457180977\n",
      "M: 16384 K: 2048 N: 22016\n",
      "Triton time cost: 25.069923877716064 (tflops 30.174164213649135) + quant: 0.22312092781066895 (bandwidth 153.99603571546743)\n",
      "Torch time cost: 42.283515214920044 (tflops 17.890281734262345)\n",
      "M: 16384 K: 11008 N: 2048\n",
      "Triton time cost: 12.06530499458313 (tflops 31.348730937573148) + quant: 1.527789831161499 (bandwidth 120.8828531000201)\n",
      "Torch time cost: 20.813440084457397 (tflops 18.172488469957052)\n",
      "M: 16384 K: 11008\n",
      "Torch time cost: 0.012946254573762417\n",
      "Triton time cost: 0.0028425883501768112\n",
      "Triton time 47.259751081466675 Torch time 76.96002268791199 Quant time 2.194526195526123\n"
     ]
    }
   ],
   "source": [
    "test_perf_model_layer(bs, prefill_len, hidden, inter, tp, thr=1.3)"
   ]
  },
  {
   "cell_type": "markdown",
   "metadata": {
    "id": "ongg-VdS6zEo"
   },
   "source": [
    "Note: The last line should show the overall speedup per layer at the prefill stage. For Nvidia Tesla T4 and fixed library versions, our implementation is about 1.6x faster."
   ]
  },
  {
   "cell_type": "code",
   "execution_count": 43,
   "metadata": {
    "colab": {
     "base_uri": "https://localhost:8080/"
    },
    "id": "SQKwB1pqlmtY",
    "outputId": "c5656c7d-4986-4979-e551-153895748781"
   },
   "outputs": [
    {
     "name": "stdout",
     "output_type": "stream",
     "text": [
      "M: 32 K: 2048 N: 6144\n",
      "Triton time cost: 0.04182744026184082 (tflops 9.857568568262513) + quant: 0.028662919998168945 (bandwidth 2.34131288802003)\n",
      "Torch time cost: 0.0617215633392334 (tflops 6.680272470576101)\n",
      "M: 32 K: 2048\n",
      "Torch time cost: 6.809551268815994e-05\n",
      "Triton time cost: 5.3233467042446136e-05\n",
      "M: 32 K: 2048 N: 2048\n",
      "Triton time cost: 0.07812714576721191 (tflops 1.7591702873865875) + quant: 0.05276036262512207 (bandwidth 1.2719560795445677)\n",
      "Torch time cost: 0.021044492721557617 (tflops 6.530875098320136)\n",
      "M: 32 K: 2048\n",
      "Torch time cost: 9.969808161258698e-05\n",
      "Triton time cost: 8.71485099196434e-05\n",
      "M: 32 K: 2048 N: 22016\n",
      "Triton time cost: 0.15679526329040527 (tflops 9.422916986258285) + quant: 0.028576135635375977 (bandwidth 2.3484233437400905)\n",
      "Torch time cost: 0.21704483032226562 (tflops 6.807205440600781)\n",
      "M: 32 K: 11008 N: 2048\n",
      "Triton time cost: 0.10643649101257324 (tflops 6.940611888687067) + quant: 0.027135133743286133 (bandwidth 13.293103598181016)\n",
      "Torch time cost: 0.10500216484069824 (tflops 7.035420422357528)\n",
      "M: 32 K: 11008\n",
      "Torch time cost: 8.70218500494957e-05\n",
      "Triton time cost: 8.782465010881424e-05\n",
      "Triton time 0.38318634033203125 Torch time 0.4048130512237549 Quant time 0.13713455200195312\n"
     ]
    }
   ],
   "source": [
    "test_perf_model_layer(bs, decode_len, hidden, inter, tp, thr=0.1)"
   ]
  },
  {
   "cell_type": "markdown",
   "metadata": {
    "id": "6jGETmtE6zEo"
   },
   "source": [
    "Note: The last line shows the per-layer comparison at the decode stage. For the same Nvidia Tesla T4 and libraries, the speedup turned out to be much lower (x1.03). To speed up decode, a CUDA implementation is needed."
   ]
  },
  {
   "cell_type": "markdown",
   "metadata": {
    "id": "Cmp2zvP7lmtb"
   },
   "source": [
    "Benchmarks:"
   ]
  },
  {
   "cell_type": "code",
   "execution_count": 44,
   "metadata": {
    "id": "6JLgqBVblmtb"
   },
   "outputs": [],
   "source": [
    "@torch.no_grad()\n",
    "def benchmark_quant_gemm(M, provider, provider_funcs):\n",
    "    N = weight.shape[0]\n",
    "    K = weight.shape[1]\n",
    "\n",
    "    fpa = prepare_a(M).to(torch.float16).cuda().contiguous()\n",
    "    fpb = weight.data.T.to(torch.float16).contiguous()\n",
    "    b, b_scale = quantize_int8(fpb, axis=0)\n",
    "\n",
    "    assert fpa.shape == (M, K), f\"{fpa.shape} != {(M, K)}\"\n",
    "    assert b.shape == (K, N), b.shape\n",
    "\n",
    "    quantiles = [0.5, 0.2, 0.8]\n",
    "    ms, min_ms, max_ms = triton.testing.do_bench(lambda: provider_funcs[provider](fpa, fpb, b, b_scale), quantiles=quantiles)\n",
    "    perf = lambda ms: ms # TFlops = 2 * M * N * K * 1e-12 / (ms * 1e-3)\n",
    "    return perf(ms), perf(max_ms), perf(min_ms)"
   ]
  },
  {
   "cell_type": "code",
   "execution_count": 45,
   "metadata": {
    "id": "53fTTwSTlmtc"
   },
   "outputs": [],
   "source": [
    "provider_funcs = {\n",
    "    \"triton int8\": lambda fpa, fpb, b, b_scale: matmul_quantize_int8(fpa, b, b_scale),\n",
    "    \"triton fp16\": lambda fpa, fpb, b, b_scale: matmul(fpa, fpb),\n",
    "    \"cublas fp16\": lambda fpa, fpb, b, b_scale: torch.matmul(fpa, fpb)\n",
    "}"
   ]
  },
  {
   "cell_type": "code",
   "execution_count": 46,
   "metadata": {
    "colab": {
     "base_uri": "https://localhost:8080/",
     "height": 1000
    },
    "id": "n8BR7sj2lmtc",
    "outputId": "b6b8a94f-5f9d-4afe-f0ac-e44d06931125"
   },
   "outputs": [
    {
     "data": {
      "image/png": "[encoded data removed]",
      "text/plain": [
       "<Figure size 640x480 with 1 Axes>"
      ]
     },
     "metadata": {},
     "output_type": "display_data"
    },
    {
     "name": "stdout",
     "output_type": "stream",
     "text": [
      "GeMV-performance-FP16 vs INT8:\n",
      "      M  cuBLAS FP16  Triton INT8  Triton FP16\n",
      "0   1.0     0.042016     0.037184     0.054976\n",
      "1   2.0     0.055136     0.038784     0.055520\n",
      "2   4.0     0.055296     0.038912     0.055296\n",
      "3   8.0     0.055520     0.039216     0.054816\n",
      "4  16.0     0.055296     0.039488     0.055296\n",
      "5  32.0     0.052704     0.044512     0.057056\n",
      "6  64.0     0.053472     0.058496     0.059968\n"
     ]
    },
    {
     "data": {
      "image/png": "[encoded data removed]",
      "text/plain": [
       "<Figure size 640x480 with 1 Axes>"
      ]
     },
     "metadata": {},
     "output_type": "display_data"
    },
    {
     "name": "stdout",
     "output_type": "stream",
     "text": [
      "GeMM-performance-FP16 vs INT8:\n",
      "          M  cuBLAS FP16  Triton INT8  Triton FP16\n",
      "0    4096.0     1.123264     1.217232     1.556736\n",
      "1    5120.0     1.538272     1.427904     1.920560\n",
      "2    6144.0     1.827712     1.767776     2.440480\n",
      "3    7168.0     2.253952     2.091888     2.911904\n",
      "4    8192.0     2.493616     2.333968     3.137216\n",
      "5    9216.0     2.799168     2.734080     3.560592\n",
      "6   10240.0     3.174400     3.007584     3.928064\n",
      "7   11264.0     3.515872     3.359296     4.337664\n",
      "8   12288.0     3.835776     3.668560     5.572640\n",
      "9   13312.0     4.456448     3.960832     5.108544\n",
      "10  14336.0     4.627120     4.286848     5.594128\n",
      "11  15360.0     5.084736     4.495168     5.809696\n",
      "12  16384.0     5.726224     4.822416     6.231024\n",
      "13  17408.0     5.949472     5.229472     6.691776\n",
      "14  18432.0     6.403328     5.519360     7.049152\n",
      "15  19456.0     7.194656     5.711824     7.688512\n",
      "16  20480.0     7.208880     6.021872     8.003584\n"
     ]
    }
   ],
   "source": [
    "configs = [\n",
    "    triton.testing.Benchmark(\n",
    "        x_names=[\"M\"],  # Argument names to use as an x-axis for the plot\n",
    "        x_vals=[2 ** i for i in range(7)],  # Different possible values for `x_name`\n",
    "        line_arg=\"provider\",  # Argument name whose value corresponds to a different line in the plot\n",
    "        # Possible values for `line_arg`\n",
    "        line_vals=[\"cublas fp16\", \"triton int8\", \"triton fp16\"],  # Label name for the lines\n",
    "        line_names=[\"cuBLAS FP16\", \"Triton INT8\", \"Triton FP16\"],  # Line styles\n",
    "        styles=[(\"green\", \"-\"), (\"blue\", \"-\"), (\"red\", \"-\")],\n",
    "        ylabel=\"ms\",  # Label name for the y-axis\n",
    "        plot_name=\"GeMV-performance-\" + (\"FP16 vs INT8\"),  # Name for the plot, used also as a file name for saving the plot.\n",
    "        args={\"provider_funcs\": provider_funcs},\n",
    "    ),\n",
    "    triton.testing.Benchmark(\n",
    "        x_names=[\"M\"],  # Argument names to use as an x-axis for the plot\n",
    "        x_vals=[1024 * i for i in range(4, 21)],  # Different possible values for `x_name`\n",
    "        line_arg=\"provider\",  # Argument name whose value corresponds to a different line in the plot\n",
    "        # Possible values for `line_arg`\n",
    "        line_vals=[\"cublas fp16\", \"triton int8\", \"triton fp16\"],  # Label name for the lines\n",
    "        line_names=[\"cuBLAS FP16\", \"Triton INT8\", \"Triton FP16\"],  # Line styles\n",
    "        styles=[(\"green\", \"-\"), (\"blue\", \"-\"), (\"red\", \"-\")],\n",
    "        ylabel=\"ms\",  # Label name for the y-axis\n",
    "        plot_name=\"GeMM-performance-\" + (\"FP16 vs INT8\"),  # Name for the plot, used also as a file name for saving the plot.\n",
    "        args={\"provider_funcs\": provider_funcs},\n",
    "    ),\n",
    "]\n",
    "\n",
    "\n",
    "triton.testing.perf_report(configs)(benchmark_quant_gemm).run(show_plots=True, print_data=True)"
   ]
  },
  {
   "cell_type": "markdown",
   "metadata": {
    "id": "aYaKX9LA6zEo"
   },
   "source": [
    "**Note:** We significantly outperformed Triton FP16 in terms of speed, and even managed to accelerate on prefill with large contexts compared to cuBLAS."
   ]
  },
  {
   "cell_type": "code",
   "execution_count": 47,
   "metadata": {
    "id": "FV3wWlMOlmtc"
   },
   "outputs": [],
   "source": [
    "provider_funcs = {\n",
    "    \"torch\": lambda a, b: quantize_int8(a),\n",
    "    \"triton\": lambda a, b: quantize_int8_perrow(a)\n",
    "}"
   ]
  },
  {
   "cell_type": "code",
   "execution_count": 48,
   "metadata": {
    "colab": {
     "base_uri": "https://localhost:8080/",
     "height": 1000
    },
    "id": "kPWhpciPlmtc",
    "outputId": "9fe9d72e-b1a9-4d53-cff0-96265384d9ca"
   },
   "outputs": [
    {
     "data": {
      "image/png": "[encoded data removed]",
      "text/plain": [
       "<Figure size 640x480 with 1 Axes>"
      ]
     },
     "metadata": {},
     "output_type": "display_data"
    },
    {
     "name": "stdout",
     "output_type": "stream",
     "text": [
      "Quantize-performance-decoding:\n",
      "      M     Torch    Triton\n",
      "0   1.0  0.025344  0.004672\n",
      "1   2.0  0.030624  0.004896\n",
      "2   4.0  0.031840  0.004768\n",
      "3   8.0  0.032768  0.005184\n",
      "4  16.0  0.036784  0.005312\n",
      "5  32.0  0.047008  0.005792\n",
      "6  64.0  0.045056  0.006688\n"
     ]
    },
    {
     "data": {
      "image/png": "[encoded data removed]",
      "text/plain": [
       "<Figure size 640x480 with 1 Axes>"
      ]
     },
     "metadata": {},
     "output_type": "display_data"
    },
    {
     "name": "stdout",
     "output_type": "stream",
     "text": [
      "Quantize-performance-prefill:\n",
      "         M     Torch    Triton\n",
      "0   1024.0  0.344448  0.030432\n",
      "1   1280.0  0.441888  0.036736\n",
      "2   1536.0  0.528448  0.042944\n",
      "3   1792.0  0.611888  0.049152\n",
      "4   2048.0  0.707584  0.055232\n",
      "5   2304.0  0.775584  0.061440\n",
      "6   2560.0  0.857792  0.067584\n",
      "7   2816.0  0.935520  0.073728\n",
      "8   3072.0  1.067008  0.079872\n",
      "9   3328.0  1.122128  0.085968\n",
      "10  3584.0  1.192272  0.092144\n",
      "11  3840.0  1.295040  0.098240\n",
      "12  4096.0  1.381312  0.104448\n",
      "13  4352.0  1.514512  0.110592\n",
      "14  4608.0  1.557328  0.116704\n",
      "15  4864.0  1.637088  0.122880\n",
      "16  5120.0  1.735552  0.129024\n"
     ]
    }
   ],
   "source": [
    "configs = [\n",
    "    triton.testing.Benchmark(\n",
    "        x_names=[\"M\"],  # Argument names to use as an x-axis for the plot\n",
    "        x_vals=[2 ** i for i in range(7)],  # Different possible values for `x_name`\n",
    "        line_arg=\"provider\",  # Argument name whose value corresponds to a different line in the plot\n",
    "        # Possible values for `line_arg`\n",
    "        line_vals=[\"torch\", \"triton\"],  # Label name for the lines\n",
    "        line_names=[\"Torch\", \"Triton\"],  # Line styles\n",
    "        styles=[(\"green\", \"-\"), (\"blue\", \"-\")],\n",
    "        ylabel=\"ms\",  # Label name for the y-axis\n",
    "        plot_name=\"Quantize-performance-\" + (\"decoding\"),  # Name for the plot, used also as a file name for saving the plot.\n",
    "        args={\"provider_funcs\": provider_funcs},\n",
    "    ),\n",
    "    triton.testing.Benchmark(\n",
    "        x_names=[\"M\"],  # Argument names to use as an x-axis for the plot\n",
    "        x_vals=[256 * i for i in range(4, 21)],  # Different possible values for `x_name`\n",
    "        line_arg=\"provider\",  # Argument name whose value corresponds to a different line in the plot\n",
    "        # Possible values for `line_arg`\n",
    "        line_vals=[\"torch\", \"triton\"],  # Label name for the lines\n",
    "        line_names=[\"Torch\", \"Triton\"],  # Line styles\n",
    "        styles=[(\"green\", \"-\"), (\"blue\", \"-\")],\n",
    "        ylabel=\"ms\",  # Label name for the y-axis\n",
    "        plot_name=\"Quantize-performance-\" + (\"prefill\"),  # Name for the plot, used also as a file name for saving the plot.\n",
    "        args={\"provider_funcs\": provider_funcs},\n",
    "    ),\n",
    "]\n",
    "\n",
    "\n",
    "triton.testing.perf_report(configs)(benchmark).run(show_plots=True, print_data=True)"
   ]
  },
  {
   "cell_type": "markdown",
   "metadata": {
    "id": "2tTIwwE66zEo"
   },
   "source": [
    "**Note:** The PyTorch implementation for quantization is extremely inefficient and Triton quantization performs significantly better on both prefill and decode"
   ]
  },
  {
   "cell_type": "markdown",
   "metadata": {
    "id": "2R9vd2NOlmtc"
   },
   "source": [
    "### Bonus task: SmoothQuant (4 points)"
   ]
  },
  {
   "cell_type": "markdown",
   "metadata": {
    "id": "PpxqtWaYlmtc"
   },
   "source": [
    "Your task is to use your implementation of dynamic w8a8 GeMM for real-world LLM inference speedup. Read the paper below and implement the algorithm:\n",
    "1. Smooth your model. You may want to write custom triton kernel for fast activation smoothing in runtime (or leave it in torch).\n",
    "2. After that validate the model quality (e.g. perplexity).\n",
    "3. Create `W8A8Linear` module, which smooths and dynamically quantizes activations and performs quantized GeMM with already smoothed and quantized INT8 weights.\n",
    "4. Replace all linear layers with `W8A8Linear` (quantize your smoothed weight).\n",
    "5. Validate quantized model. Your should experience no drop in quality.\n",
    "6. Measure end-to-end speedup.\n",
    "7. 🤝🏻 Get my personal respect\n",
    "\n",
    "Resources:\n",
    "- https://arxiv.org/abs/2211.10438\n",
    "- [SmoothQuant repo](https://github.com/mit-han-lab/smoothquant)"
   ]
  },
  {
   "cell_type": "markdown",
   "metadata": {
    "id": "Mpjv2L6U6zEo"
   },
   "source": [
    "### Vanilla SpecDec (4 points)\n",
    "\n",
    "_Special thanks to @hawkeoni for this part of HW._"
   ]
  },
  {
   "cell_type": "code",
   "execution_count": 1,
   "metadata": {
    "execution": {
     "iopub.execute_input": "2025-03-26T11:17:22.460210Z",
     "iopub.status.busy": "2025-03-26T11:17:22.459882Z",
     "iopub.status.idle": "2025-03-26T11:17:44.108746Z",
     "shell.execute_reply": "2025-03-26T11:17:44.107808Z",
     "shell.execute_reply.started": "2025-03-26T11:17:22.460183Z"
    },
    "id": "OTrG3KoU6zEo",
    "tags": []
   },
   "outputs": [
    {
     "name": "stderr",
     "output_type": "stream",
     "text": [
      "/home/jupyter/.local/lib/python3.10/site-packages/transformers/utils/hub.py:128: FutureWarning: Using `TRANSFORMERS_CACHE` is deprecated and will be removed in v5 of Transformers. Use `HF_HOME` instead.\n",
      "  warnings.warn(\n"
     ]
    },
    {
     "name": "stdout",
     "output_type": "stream",
     "text": [
      "Using device cuda\n"
     ]
    }
   ],
   "source": [
    "# You might want to reload the notebook. In such case, run this cell.\n",
    "import os\n",
    "# os.environ[\"CUDA_VISIBLE_DEVICES\"] = \"0\"\n",
    "\n",
    "import torch\n",
    "from transformers import AutoModelForCausalLM, AutoTokenizer\n",
    "\n",
    "device = torch.device(\"cuda\") if torch.cuda.is_available() else torch.device(\"cpu\")\n",
    "print(\"Using device\", device)"
   ]
  },
  {
   "cell_type": "markdown",
   "metadata": {
    "id": "GVZfnUq66zEo"
   },
   "source": [
    "#### Init"
   ]
  },
  {
   "cell_type": "code",
   "execution_count": 2,
   "metadata": {
    "execution": {
     "iopub.execute_input": "2025-03-26T11:17:44.110626Z",
     "iopub.status.busy": "2025-03-26T11:17:44.110101Z",
     "iopub.status.idle": "2025-03-26T11:23:01.209137Z",
     "shell.execute_reply": "2025-03-26T11:23:01.208367Z",
     "shell.execute_reply.started": "2025-03-26T11:17:44.110599Z"
    },
    "id": "4FRrIORs6zEo",
    "tags": []
   },
   "outputs": [
    {
     "name": "stderr",
     "output_type": "stream",
     "text": [
      "/usr/local/lib/python3.10/dist-packages/torchvision/io/image.py:13: UserWarning: Failed to load image Python extension: '/usr/local/lib/python3.10/dist-packages/torchvision/image.so: undefined symbol: _ZN3c1017RegisterOperatorsD1Ev'If you don't plan on using image functionality from `torchvision.io`, you can ignore this warning. Otherwise, there might be something wrong with your environment. Did you have `libjpeg` or `libpng` installed before building `torchvision` from source?\n",
      "  warn(\n",
      "2025-03-26 11:17:51.417564: I tensorflow/core/platform/cpu_feature_guard.cc:182] This TensorFlow binary is optimized to use available CPU instructions in performance-critical operations.\n",
      "To enable the following instructions: AVX2 FMA, in other operations, rebuild TensorFlow with the appropriate compiler flags.\n",
      "2025-03-26 11:17:55.861799: W tensorflow/compiler/tf2tensorrt/utils/py_utils.cc:38] TF-TRT Warning: Could not find TensorRT\n",
      "/usr/local/lib/python3.10/dist-packages/torchvision/datapoints/__init__.py:12: UserWarning: The torchvision.datapoints and torchvision.transforms.v2 namespaces are still Beta. While we do not expect major breaking changes, some APIs may still change according to user feedback. Please submit any feedback you may have in this issue: https://github.com/pytorch/vision/issues/6753, and you can also check out https://github.com/pytorch/vision/issues/7319 to learn more about the APIs that we suspect might involve future changes. You can silence this warning by calling torchvision.disable_beta_transforms_warning().\n",
      "  warnings.warn(_BETA_TRANSFORMS_WARNING)\n",
      "/usr/local/lib/python3.10/dist-packages/torchvision/transforms/v2/__init__.py:54: UserWarning: The torchvision.datapoints and torchvision.transforms.v2 namespaces are still Beta. While we do not expect major breaking changes, some APIs may still change according to user feedback. Please submit any feedback you may have in this issue: https://github.com/pytorch/vision/issues/6753, and you can also check out https://github.com/pytorch/vision/issues/7319 to learn more about the APIs that we suspect might involve future changes. You can silence this warning by calling torchvision.disable_beta_transforms_warning().\n",
      "  warnings.warn(_BETA_TRANSFORMS_WARNING)\n"
     ]
    }
   ],
   "source": [
    "if True:\n",
    "    name_big = \"unsloth/Llama-3.2-3B-Instruct\"\n",
    "    name_small = \"unsloth/Llama-3.2-1B-Instruct\"\n",
    "else:\n",
    "    name_big = \"openai-community/gpt2-medium\"\n",
    "    name_small = \"openai-community/gpt2\"\n",
    "\n",
    "model_3b = AutoModelForCausalLM.from_pretrained(name_big).to(device)\n",
    "model_1b = AutoModelForCausalLM.from_pretrained(name_small).to(device)\n",
    "\n",
    "\n",
    "tokenizer = AutoTokenizer.from_pretrained(name_big)"
   ]
  },
  {
   "cell_type": "code",
   "execution_count": 33,
   "metadata": {
    "execution": {
     "iopub.execute_input": "2025-03-26T11:51:51.408966Z",
     "iopub.status.busy": "2025-03-26T11:51:51.408527Z",
     "iopub.status.idle": "2025-03-26T11:51:51.457610Z",
     "shell.execute_reply": "2025-03-26T11:51:51.456827Z",
     "shell.execute_reply.started": "2025-03-26T11:51:51.408945Z"
    },
    "id": "1petN_pu6zEp",
    "tags": []
   },
   "outputs": [],
   "source": [
    "prompt = \"\"\"\n",
    "# SYSTEM PREAMBLE\n",
    "1) You are an excellent Python software developer with over 10 years of experience. You have a strong understanding of Python related topics, data structures, libraries, frameworks, algorithms, best practices and optimization techniques.\n",
    "2) You are here to help the user (the software developer) by breaking his request in ## TASK into logical steps and writing high-quality and efficient code to implement each step.\n",
    "3) You have to return the entire code.\n",
    "4) Follow \"Answering rules\" without exception.\n",
    "\n",
    "## ANSWERING RULES\n",
    "1) Repeat the question before answering it.\n",
    "2) Always follow \"CHAIN OF THOUGHTS\" to execute the task.\n",
    "\n",
    "## CHAIN OF THOUGHTS\n",
    "1) **OBEY the EXECUTION MODE**\n",
    "2) **TASK ANALYSIS:**\n",
    "   - Understand the user's request thoroughly.\n",
    "   - Identify the key components and requirements of the task.\n",
    "3) **PLANNING: CODDING:**\n",
    "   - Break down the task into logical, sequential steps.\n",
    "   - Outline the strategy for implementing each step.\n",
    "4) **CODING:**\n",
    "   - Explain your thought process before writing any code.\n",
    "   - Write the entire code for each step, ensuring it is clean, optimized, and well-commented.\n",
    "   - Handle edge cases and errors appropriately.\n",
    "5) **VERIFICATION:**\n",
    "   - Review the complete code solution for accuracy and efficiency.\n",
    "   - Ensure the code meets all requirements and is free of errors.\n",
    "\n",
    "## TASK\n",
    "\n",
    "Write a python function that receives the following JSON as input and enters data from it into the Google Sheet.\n",
    "\n",
    "{\n",
    "    'date': '31-05-2024',\n",
    "    'revenue': 90000,\n",
    "    'person' : 'User1',\n",
    "    'expensesList': [30000, 14000, 10000, 2000, 15000],\n",
    "    'expensesDescList': [ 'Ключи', 'Ключи2', 'Счет за такси', 'Клей, пластины', 'Провод 40м'],\n",
    "    'expensesTypeList': ['Закупки', 'Закупки', 'Расходы', 'Ремонт', 'Ремонт']\n",
    "}\n",
    "\n",
    "There is a date in JSON, you can use it to determine the month.\n",
    "The data is entered into a list with the name of the month. If such a list does not exist yet, then you need to create a list with a new month inside the sheet.\n",
    "\n",
    "The list should have the following columns (the first rows are used as headings):\n",
    "A1: Дата расхода,\n",
    "B1: сумма расхода,\n",
    "C1: описание расхода,\n",
    "D1: тип расхода,\n",
    "E1: кто внес данные\n",
    "\n",
    "G1: Дата выручки\n",
    "H1: Сумма выручки\n",
    "I1: Кто внес данные\n",
    "\n",
    "Please separate expenses and profits with a blank column.\n",
    "Please sort expenses by date, including those already listed in Google sheet list.\n",
    "Please sort earnings by date, including those already listed in Google sheet list.\n",
    "\n",
    "It is prohibited to use oauth2client as it is deprecated.\n",
    "\"\"\""
   ]
  },
  {
   "cell_type": "markdown",
   "metadata": {
    "id": "RwaTraKZ6zEp"
   },
   "source": [
    "#### Greedy SpecDec (3 points)"
   ]
  },
  {
   "cell_type": "markdown",
   "metadata": {
    "id": "2Kl6IMbH6zEp"
   },
   "source": [
    "In this task, you need to implement speculative decoding in PyTorch. **Generation must be done greedily.**\n",
    "\n",
    "1. Generate n tokens using the small model\n",
    "2. Check if the big model would choose these same tokens during greedy generation (only one forward pass of the big model should be called, using big_model.generate is not allowed at this stage)\n",
    "3. If all tokens are chosen by the big model, accept them and return to step 1\n",
    "4. If any token is chosen incorrectly, use the correct token from step 2 instead and return to step 1."
   ]
  },
  {
   "cell_type": "code",
   "execution_count": 58,
   "metadata": {
    "execution": {
     "iopub.execute_input": "2025-03-26T12:10:54.609889Z",
     "iopub.status.busy": "2025-03-26T12:10:54.609376Z",
     "iopub.status.idle": "2025-03-26T12:10:54.650069Z",
     "shell.execute_reply": "2025-03-26T12:10:54.649293Z",
     "shell.execute_reply.started": "2025-03-26T12:10:54.609862Z"
    },
    "id": "ycXQ6_oq6zEp",
    "tags": []
   },
   "outputs": [],
   "source": [
    "@torch.no_grad()\n",
    "def speculative_generate(big_model, small_model, prefix: str, max_num_tokens: int, n: int) -> tuple[str, int, int]:\n",
    "    \"\"\"Vanilla speculative decoding for greedy generation.\n",
    "\n",
    "    Args:\n",
    "        big_model: original big HF model (verifier).\n",
    "        small_model: small HF model (draft).\n",
    "        prefix (str): prompt.\n",
    "        max_num_tokens (int): max tokens to generate.\n",
    "        n (int): number of tokens to speculate.\n",
    "\n",
    "    Returns: generated text, number of accepted tokens, number of all tokens.\n",
    "    \"\"\"\n",
    "\n",
    "    input_ids = tokenizer(prefix, return_tensors=\"pt\").input_ids.to(device)\n",
    "    start_size = input_ids.size(1)\n",
    "    cnt_accepted = 0\n",
    "    cnt_all = 0\n",
    "    while input_ids.size(1) - start_size < max_num_tokens:\n",
    "        # !!! TASK: Generate a sequence using the small model\n",
    "        small_generation = small_model.generate(input_ids, max_new_tokens=n)\n",
    "        num_generated_tokens = small_generation.size(1) - input_ids.size(1)\n",
    "        # print(f\"Generated {num_generated_tokens} new tokens\")\n",
    "\n",
    "        # !!! TASK: Check the sequence using the big model\n",
    "        big_model_logits = big_model(small_generation).logits\n",
    "        big_model_generations = torch.argmax(big_model_logits[:, input_ids.size(1) - 1:, :], dim=-1)\n",
    "        # print(big_model_generations.shape)\n",
    "\n",
    "        mismatch = False\n",
    "        for i in range(num_generated_tokens):\n",
    "            # !!! TASK: found a mismatch at position i\n",
    "            if big_model_generations[0, i] != small_generation[0, input_ids.size(1) + i]:\n",
    "                mismatch = True\n",
    "                # !!! TASK: if the first token is incorrect, take the first token predicted by the big model\n",
    "                if i == 0:\n",
    "                    input_ids = torch.cat(\n",
    "                        [input_ids, big_model_generations[:, 0].reshape(-1, 1)],\n",
    "                        dim=1\n",
    "                    )\n",
    "                # !!! TASK: otherwise take previous tokens predicted by the small model + the correct token from the big model\n",
    "                else:\n",
    "                    input_ids = torch.cat(\n",
    "                        [input_ids, \n",
    "                         small_generation[:, input_ids.size(1)].reshape(-1, 1), \n",
    "                         big_model_generations[:, 1].reshape(-1, 1)],\n",
    "                        dim=1\n",
    "                    )\n",
    "                print(f\"Accepted {i}/{n} tokens\")\n",
    "                cnt_accepted += i\n",
    "                cnt_all += n\n",
    "                break\n",
    "\n",
    "        if not mismatch:\n",
    "            # !!! TASK: if there was no mismatch, accept the entire sequence + the last token from the big model\n",
    "            input_ids = torch.cat([input_ids, small_generation[:, input_ids.size(1):], big_model_generations[:, 2].reshape(-1, 1)], dim=1)\n",
    "        # print(input_ids.shape)\n",
    "\n",
    "    # !!! TASK: use tokenizer to decode generated ids\n",
    "    decoded_text = tokenizer.decode(input_ids[0, start_size:start_size+max_num_tokens])\n",
    "    return decoded_text, cnt_accepted, cnt_all, input_ids"
   ]
  },
  {
   "cell_type": "code",
   "execution_count": 59,
   "metadata": {
    "execution": {
     "iopub.execute_input": "2025-03-26T12:10:55.399003Z",
     "iopub.status.busy": "2025-03-26T12:10:55.398076Z",
     "iopub.status.idle": "2025-03-26T12:11:17.667242Z",
     "shell.execute_reply": "2025-03-26T12:11:17.666346Z",
     "shell.execute_reply.started": "2025-03-26T12:10:55.398972Z"
    },
    "id": "75c9QTiK6zEp",
    "tags": []
   },
   "outputs": [
    {
     "name": "stdout",
     "output_type": "stream",
     "text": [
      "Accepted 1/2 tokens\n",
      "Accepted 0/2 tokens\n",
      "Accepted 1/2 tokens\n",
      "Accepted 0/2 tokens\n",
      "Accepted 0/2 tokens\n",
      "Accepted 1/2 tokens\n",
      "Accepted 0/2 tokens\n",
      "Accepted 0/2 tokens\n",
      "Accepted 0/2 tokens\n",
      "Accepted 0/2 tokens\n",
      "Accepted 0/2 tokens\n",
      "Accepted 1/2 tokens\n",
      "Accepted 0/2 tokens\n",
      "Accepted 1/2 tokens\n",
      "Accepted 1/2 tokens\n",
      "Accepted 1/2 tokens\n",
      "Accepted 0/2 tokens\n",
      "Accepted 1/2 tokens\n",
      "Accepted 0/2 tokens\n",
      "Accepted 1/2 tokens\n",
      "Accepted 0/2 tokens\n",
      "Accepted 1/2 tokens\n",
      "Accepted 0/2 tokens\n",
      "Accepted 0/2 tokens\n",
      "Accepted 1/2 tokens\n"
     ]
    }
   ],
   "source": [
    "res_spec, cnt_accepted, cnt_all, res_ids = speculative_generate(big_model=model_3b, small_model=model_1b, prefix=prompt, max_num_tokens=128, n=2)"
   ]
  },
  {
   "cell_type": "code",
   "execution_count": 60,
   "metadata": {
    "execution": {
     "iopub.execute_input": "2025-03-26T12:11:19.483917Z",
     "iopub.status.busy": "2025-03-26T12:11:19.483135Z",
     "iopub.status.idle": "2025-03-26T12:11:19.498318Z",
     "shell.execute_reply": "2025-03-26T12:11:19.497532Z",
     "shell.execute_reply.started": "2025-03-26T12:11:19.483886Z"
    },
    "tags": []
   },
   "outputs": [
    {
     "data": {
      "text/plain": [
       "torch.Size([1, 773])"
      ]
     },
     "execution_count": 60,
     "metadata": {},
     "output_type": "execute_result"
    }
   ],
   "source": [
    "res_ids.shape"
   ]
  },
  {
   "cell_type": "code",
   "execution_count": 53,
   "metadata": {
    "execution": {
     "iopub.execute_input": "2025-03-26T12:09:13.729554Z",
     "iopub.status.busy": "2025-03-26T12:09:13.728061Z",
     "iopub.status.idle": "2025-03-26T12:09:17.022830Z",
     "shell.execute_reply": "2025-03-26T12:09:17.021958Z",
     "shell.execute_reply.started": "2025-03-26T12:09:13.729522Z"
    },
    "id": "-4Nfeejt6zEp",
    "tags": []
   },
   "outputs": [
    {
     "name": "stderr",
     "output_type": "stream",
     "text": [
      "/home/jupyter/.local/lib/python3.10/site-packages/transformers/generation/configuration_utils.py:590: UserWarning: `do_sample` is set to `False`. However, `temperature` is set to `0.6` -- this flag is only used in sample-based generation modes. You should set `do_sample=True` or unset `temperature`.\n",
      "  warnings.warn(\n",
      "/home/jupyter/.local/lib/python3.10/site-packages/transformers/generation/configuration_utils.py:595: UserWarning: `do_sample` is set to `False`. However, `top_p` is set to `0.9` -- this flag is only used in sample-based generation modes. You should set `do_sample=True` or unset `top_p`.\n",
      "  warnings.warn(\n"
     ]
    }
   ],
   "source": [
    "model_inputs = tokenizer([prompt], return_tensors=\"pt\").to(device)\n",
    "res_big = tokenizer.batch_decode(\n",
    "    model_3b.generate(**model_inputs, do_sample=False, max_new_tokens=128)[:, model_inputs.input_ids.shape[1]:],\n",
    "    skip_special_tokens=True\n",
    ")[0]"
   ]
  },
  {
   "cell_type": "code",
   "execution_count": 54,
   "metadata": {
    "execution": {
     "iopub.execute_input": "2025-03-26T12:09:21.053875Z",
     "iopub.status.busy": "2025-03-26T12:09:21.053416Z",
     "iopub.status.idle": "2025-03-26T12:09:21.085553Z",
     "shell.execute_reply": "2025-03-26T12:09:21.084809Z",
     "shell.execute_reply.started": "2025-03-26T12:09:21.053839Z"
    },
    "tags": []
   },
   "outputs": [
    {
     "data": {
      "text/plain": [
       "\"Instead, use the service account credentials file to authenticate.\\n\\n## QUESTION\\n\\nHow can I write a python function that receives the JSON data and enters it into the Google Sheet using service account credentials file?\\n\\n## ANSWER\\n\\n### CHAIN OF THOUGHTS\\n\\n1. **OBEY the EXECUTION MODE**\\n2. **TASK ANALYSIS:**\\n   - Understand the user's request thoroughly.\\n   - Identify the key components and requirements of the task.\\n   - The task is to write a python function that receives the JSON data and enters it into the Google Sheet using service account credentials file.\\n3.  **PLANNING:\""
      ]
     },
     "execution_count": 54,
     "metadata": {},
     "output_type": "execute_result"
    }
   ],
   "source": [
    "res_big"
   ]
  },
  {
   "cell_type": "code",
   "execution_count": 61,
   "metadata": {
    "execution": {
     "iopub.execute_input": "2025-03-26T12:11:57.713579Z",
     "iopub.status.busy": "2025-03-26T12:11:57.713074Z",
     "iopub.status.idle": "2025-03-26T12:11:57.742999Z",
     "shell.execute_reply": "2025-03-26T12:11:57.742213Z",
     "shell.execute_reply.started": "2025-03-26T12:11:57.713544Z"
    },
    "tags": []
   },
   "outputs": [
    {
     "data": {
      "text/plain": [
       "\"Instead, use the service account credentials file to authenticate.\\n\\n## QUESTION\\n\\nHow can I write a python function that receives the JSON data and enters it into the Google Sheet using service account credentials file?\\n\\n## ANSWER\\n\\n### CHAIN OF THOUGHTS\\n\\n1. **OBEY the EXECUTION MODE**\\n2. **TASK ANALYSIS:**\\n   - Understand the user's request thoroughly.\\n   - Identify the key components and requirements of the task.\\n   - The task is to write a python function that receives the JSON data and enters it into the Google Sheet using service account credentials file.\\n3.  **PLANNING:\""
      ]
     },
     "execution_count": 61,
     "metadata": {},
     "output_type": "execute_result"
    }
   ],
   "source": [
    "res_spec"
   ]
  },
  {
   "cell_type": "code",
   "execution_count": 62,
   "metadata": {
    "execution": {
     "iopub.execute_input": "2025-03-26T12:12:01.047097Z",
     "iopub.status.busy": "2025-03-26T12:12:01.046752Z",
     "iopub.status.idle": "2025-03-26T12:12:01.092894Z",
     "shell.execute_reply": "2025-03-26T12:12:01.092096Z",
     "shell.execute_reply.started": "2025-03-26T12:12:01.047078Z"
    },
    "tags": []
   },
   "outputs": [
    {
     "data": {
      "text/plain": [
       "(580, 580)"
      ]
     },
     "execution_count": 62,
     "metadata": {},
     "output_type": "execute_result"
    }
   ],
   "source": [
    "len(res_big), len(res_spec)"
   ]
  },
  {
   "cell_type": "code",
   "execution_count": 63,
   "metadata": {
    "execution": {
     "iopub.execute_input": "2025-03-26T12:12:03.493625Z",
     "iopub.status.busy": "2025-03-26T12:12:03.492659Z",
     "iopub.status.idle": "2025-03-26T12:12:03.535009Z",
     "shell.execute_reply": "2025-03-26T12:12:03.534193Z",
     "shell.execute_reply.started": "2025-03-26T12:12:03.493605Z"
    },
    "id": "RSqsmH0g6zEp",
    "tags": []
   },
   "outputs": [],
   "source": [
    "assert res_big == res_spec and len(res_big) == len(res_spec)"
   ]
  },
  {
   "cell_type": "code",
   "execution_count": 64,
   "metadata": {
    "execution": {
     "iopub.execute_input": "2025-03-26T12:12:05.390769Z",
     "iopub.status.busy": "2025-03-26T12:12:05.389827Z",
     "iopub.status.idle": "2025-03-26T12:12:05.425638Z",
     "shell.execute_reply": "2025-03-26T12:12:05.424566Z",
     "shell.execute_reply.started": "2025-03-26T12:12:05.390732Z"
    },
    "id": "cLg3VOg16zEp"
   },
   "outputs": [],
   "source": [
    "assert cnt_accepted / cnt_all > 0.19"
   ]
  },
  {
   "cell_type": "markdown",
   "metadata": {
    "id": "V9KfpqXh6zEp"
   },
   "source": [
    "#### HF SpecDec (1 point)"
   ]
  },
  {
   "cell_type": "markdown",
   "metadata": {
    "id": "4tX28c-16zEp"
   },
   "source": [
    "Now try using the speculative decoding function from [transformers](https://huggingface.co/docs/transformers/main/en/generation_strategies#speculative-decoding)"
   ]
  },
  {
   "cell_type": "code",
   "execution_count": 68,
   "metadata": {
    "execution": {
     "iopub.execute_input": "2025-03-26T12:38:02.457257Z",
     "iopub.status.busy": "2025-03-26T12:38:02.456311Z",
     "iopub.status.idle": "2025-03-26T12:38:16.045005Z",
     "shell.execute_reply": "2025-03-26T12:38:16.044102Z",
     "shell.execute_reply.started": "2025-03-26T12:38:02.457222Z"
    },
    "id": "QI4pngNt6zEp",
    "tags": []
   },
   "outputs": [
    {
     "name": "stdout",
     "output_type": "stream",
     "text": [
      "['\\n# SYSTEM PREAMBLE\\n1) You are an excellent Python software developer with over 10 years of experience. You have a strong understanding of Python related topics, data structures, libraries, frameworks, algorithms, best practices and optimization techniques.\\n2) You are here to help the user (the software developer) by breaking his request in ## TASK into logical steps and writing high-quality and efficient code to implement each step.\\n3) You have to return the entire code.\\n4) Follow \"Answering rules\" without exception.\\n\\n## ANSWERING RULES\\n1) Repeat the question before answering it.\\n2) Always follow \"CHAIN OF THOUGHTS\" to execute the task.\\n\\n## CHAIN OF THOUGHTS\\n1) **OBEY the EXECUTION MODE**\\n2) **TASK ANALYSIS:**\\n   - Understand the user\\'s request thoroughly.\\n   - Identify the key components and requirements of the task.\\n3) **PLANNING: CODDING:**\\n   - Break down the task into logical, sequential steps.\\n   - Outline the strategy for implementing each step.\\n4) **CODING:**\\n   - Explain your thought process before writing any code.\\n   - Write the entire code for each step, ensuring it is clean, optimized, and well-commented.\\n   - Handle edge cases and errors appropriately.\\n5) **VERIFICATION:**\\n   - Review the complete code solution for accuracy and efficiency.\\n   - Ensure the code meets all requirements and is free of errors.\\n\\n## TASK\\n\\nWrite a python function that receives the following JSON as input and enters data from it into the Google Sheet.\\n\\n{\\n    \\'date\\': \\'31-05-2024\\',\\n   \\'revenue\\': 90000,\\n    \\'person\\' : \\'User1\\',\\n    \\'expensesList\\': [30000, 14000, 10000, 2000, 15000],\\n    \\'expensesDescList\\': [ \\'Ключи\\', \\'Ключи2\\', \\'Счет за такси\\', \\'Клей, пластины\\', \\'Провод 40м\\'],\\n    \\'expensesTypeList\\': [\\'Закупки\\', \\'Закупки\\', \\'Расходы\\', \\'Ремонт\\', \\'Ремонт\\']\\n}\\n\\nThere is a date in JSON, you can use it to determine the month.\\nThe data is entered into a list with the name of the month. If such a list does not exist yet, then you need to create a list with a new month inside the sheet.\\n\\nThe list should have the following columns (the first rows are used as headings):\\nA1: Дата расхода,\\nB1: сумма расхода,\\nC1: описание расхода,\\nD1: тип расхода,\\nE1: кто внес данные\\n\\nG1: Дата выручки\\nH1: Сумма выручки\\nI1: Кто внес данные\\n\\nPlease separate expenses and profits with a blank column.\\nPlease sort expenses by date, including those already listed in Google sheet list.\\nPlease sort earnings by date, including those already listed in Google sheet list.\\n\\nIt is prohibited to use oauth2client as it is deprecated.\\nInstead, use the service account credentials file to authenticate.\\n\\n## QUESTION\\n\\nHere is the python function that receives the JSON input and enters data from it into the Google Sheet. However, it does not sort the expenses and profits by date. I need to modify this function to add this functionality.\\n\\n## FUNCTION\\n\\n```python\\nimport json\\nfrom googleapiclient.discovery import build\\nfrom google_auth_oauthlib.flow import InstalledAppFlow\\nfrom google.auth.transport.requests import Request\\nimport pickle\\nimport os.path\\nfrom datetime import datetime\\nfrom googleapiclient.errors import HttpError\\n\\n# If modifying these scopes, delete the file token.pickle.\\nSCOPES = [\\'https://www.googleapis.com/auth/spreadsheets\\']\\n\\ndef get_service():\\n    \"\"\"Shows basic usage of the Sheets API.\\n    Prints values from a sample spreadsheet.\\n    \"\"\"\\n    creds = None\\n    # The file token.pickle stores the user\\'s access and refresh tokens, and is\\n    # created automatically when the authorization flow completes for the first\\n    # time.\\n    if os.path.exists(\\'token.pickle\\'):\\n        with open(\\'token.pickle\\', \\'rb\\') as token:\\n            creds = pickle.load(token)\\n    # If there are no (valid) credentials available, let the user log in.\\n']\n",
      "Elapsed time for speculative 7.117539644241333\n",
      "['\\n# SYSTEM PREAMBLE\\n1) You are an excellent Python software developer with over 10 years of experience. You have a strong understanding of Python related topics, data structures, libraries, frameworks, algorithms, best practices and optimization techniques.\\n2) You are here to help the user (the software developer) by breaking his request in ## TASK into logical steps and writing high-quality and efficient code to implement each step.\\n3) You have to return the entire code.\\n4) Follow \"Answering rules\" without exception.\\n\\n## ANSWERING RULES\\n1) Repeat the question before answering it.\\n2) Always follow \"CHAIN OF THOUGHTS\" to execute the task.\\n\\n## CHAIN OF THOUGHTS\\n1) **OBEY the EXECUTION MODE**\\n2) **TASK ANALYSIS:**\\n   - Understand the user\\'s request thoroughly.\\n   - Identify the key components and requirements of the task.\\n3) **PLANNING: CODDING:**\\n   - Break down the task into logical, sequential steps.\\n   - Outline the strategy for implementing each step.\\n4) **CODING:**\\n   - Explain your thought process before writing any code.\\n   - Write the entire code for each step, ensuring it is clean, optimized, and well-commented.\\n   - Handle edge cases and errors appropriately.\\n5) **VERIFICATION:**\\n   - Review the complete code solution for accuracy and efficiency.\\n   - Ensure the code meets all requirements and is free of errors.\\n\\n## TASK\\n\\nWrite a python function that receives the following JSON as input and enters data from it into the Google Sheet.\\n\\n{\\n    \\'date\\': \\'31-05-2024\\',\\n   \\'revenue\\': 90000,\\n    \\'person\\' : \\'User1\\',\\n    \\'expensesList\\': [30000, 14000, 10000, 2000, 15000],\\n    \\'expensesDescList\\': [ \\'Ключи\\', \\'Ключи2\\', \\'Счет за такси\\', \\'Клей, пластины\\', \\'Провод 40м\\'],\\n    \\'expensesTypeList\\': [\\'Закупки\\', \\'Закупки\\', \\'Расходы\\', \\'Ремонт\\', \\'Ремонт\\']\\n}\\n\\nThere is a date in JSON, you can use it to determine the month.\\nThe data is entered into a list with the name of the month. If such a list does not exist yet, then you need to create a list with a new month inside the sheet.\\n\\nThe list should have the following columns (the first rows are used as headings):\\nA1: Дата расхода,\\nB1: сумма расхода,\\nC1: описание расхода,\\nD1: тип расхода,\\nE1: кто внес данные\\n\\nG1: Дата выручки\\nH1: Сумма выручки\\nI1: Кто внес данные\\n\\nPlease separate expenses and profits with a blank column.\\nPlease sort expenses by date, including those already listed in Google sheet list.\\nPlease sort earnings by date, including those already listed in Google sheet list.\\n\\nIt is prohibited to use oauth2client as it is deprecated.\\nInstead, use the service account credentials to authenticate.\\n\\n## ANSWER\\n\\n### Step 1: Install the required libraries\\n\\nTo solve this problem, we will need to install the `google-api-python-client` and `google-auth` libraries. We will also need to install `google-auth-oauthlib` to handle the authentication with the service account credentials.\\n\\n```bash\\npip install google-api-python-client google-auth google-auth-oauthlib\\n```\\n\\n### Step 2: Set up the service account credentials\\n\\nWe need to set up the service account credentials by creating a JSON key file. You can follow the instructions on the [Google Cloud Console](https://console.cloud.google.com/) to create a new service account and download the JSON key file.\\n\\n```python\\nimport os\\nfrom google.oauth2 import service_account\\nfrom googleapiclient.discovery import build\\nfrom googleapiclient.errors import HttpError\\nfrom datetime import datetime\\nfrom typing import List\\n```\\n\\n### Step 3: Authenticate with the Google Sheets API\\n\\nWe will use the `service_account` library to authenticate with the Google Sheets API using the service account credentials.\\n\\n```python\\n# Replace with your service account credentials file\\nSCOPES = [\\'https://www.googleapis.com/auth/spreadsheets']\n",
      "Elapsed time for big model inference 6.335230588912964\n"
     ]
    }
   ],
   "source": [
    "import time\n",
    "\n",
    "# !!! TASK: generate with assistant_model and compare with big model inference time\n",
    "inputs = model_inputs\n",
    "max_new_tokens = 256\n",
    "\n",
    "# SpecDec from HF\n",
    "start = time.time()\n",
    "outputs = model_3b.generate(**inputs, max_new_tokens=max_new_tokens, assistant_model=model_1b)\n",
    "print(tokenizer.batch_decode(outputs, skip_special_tokens=True))\n",
    "print(f\"Elapsed time for speculative {time.time() - start}\")\n",
    "\n",
    "# ordinary\n",
    "start = time.time()\n",
    "outputs = model_3b.generate(**inputs, max_new_tokens=max_new_tokens)\n",
    "print(tokenizer.batch_decode(outputs, skip_special_tokens=True))\n",
    "print(f\"Elapsed time for big model inference {time.time() - start}\")"
   ]
  },
  {
   "cell_type": "markdown",
   "metadata": {
    "id": "_oCRYxhu6zEp"
   },
   "source": [
    "Make a conclusion about the efficiency of SpecDec implementation in HF."
   ]
  },
  {
   "cell_type": "markdown",
   "metadata": {
    "id": "3Pu3VZn16zEp"
   },
   "source": [
    "**Conslusion:**\n",
    "-  SpecDec implementation in HF is shit lol"
   ]
  },
  {
   "cell_type": "code",
   "execution_count": null,
   "metadata": {},
   "outputs": [],
   "source": []
  }
 ],
 "metadata": {
  "accelerator": "GPU",
  "colab": {
   "collapsed_sections": [
    "2R9vd2NOlmtc"
   ],
   "gpuType": "T4",
   "provenance": []
  },
  "kernelspec": {
   "display_name": "DataSphere Kernel",
   "language": "python",
   "name": "python3"
  },
  "language_info": {
   "codemirror_mode": {
    "name": "ipython",
    "version": 3
   },
   "file_extension": ".py",
   "mimetype": "text/x-python",
   "name": "python",
   "nbconvert_exporter": "python",
   "pygments_lexer": "ipython3",
   "version": "3.10.12"
  },
  "widgets": {
   "application/vnd.jupyter.widget-state+json": {
    "055dd68c6fb345dabbcdfdba90a09ae8": {
     "model_module": "@jupyter-widgets/base",
     "model_module_version": "1.2.0",
     "model_name": "LayoutModel",
     "state": {
      "_model_module": "@jupyter-widgets/base",
      "_model_module_version": "1.2.0",
      "_model_name": "LayoutModel",
      "_view_count": null,
      "_view_module": "@jupyter-widgets/base",
      "_view_module_version": "1.2.0",
      "_view_name": "LayoutView",
      "align_content": null,
      "align_items": null,
      "align_self": null,
      "border": null,
      "bottom": null,
      "display": null,
      "flex": null,
      "flex_flow": null,
      "grid_area": null,
      "grid_auto_columns": null,
      "grid_auto_flow": null,
      "grid_auto_rows": null,
      "grid_column": null,
      "grid_gap": null,
      "grid_row": null,
      "grid_template_areas": null,
      "grid_template_columns": null,
      "grid_template_rows": null,
      "height": null,
      "justify_content": null,
      "justify_items": null,
      "left": null,
      "margin": null,
      "max_height": null,
      "max_width": null,
      "min_height": null,
      "min_width": null,
      "object_fit": null,
      "object_position": null,
      "order": null,
      "overflow": null,
      "overflow_x": null,
      "overflow_y": null,
      "padding": null,
      "right": null,
      "top": null,
      "visibility": null,
      "width": null
     }
    },
    "1c093e78d07a4076b428d067a66ee46d": {
     "model_module": "@jupyter-widgets/controls",
     "model_module_version": "1.5.0",
     "model_name": "ProgressStyleModel",
     "state": {
      "_model_module": "@jupyter-widgets/controls",
      "_model_module_version": "1.5.0",
      "_model_name": "ProgressStyleModel",
      "_view_count": null,
      "_view_module": "@jupyter-widgets/base",
      "_view_module_version": "1.2.0",
      "_view_name": "StyleView",
      "bar_color": null,
      "description_width": ""
     }
    },
    "2479f491efc941b1bc9dd1528590d110": {
     "model_module": "@jupyter-widgets/controls",
     "model_module_version": "1.5.0",
     "model_name": "HTMLModel",
     "state": {
      "_dom_classes": [],
      "_model_module": "@jupyter-widgets/controls",
      "_model_module_version": "1.5.0",
      "_model_name": "HTMLModel",
      "_view_count": null,
      "_view_module": "@jupyter-widgets/controls",
      "_view_module_version": "1.5.0",
      "_view_name": "HTMLView",
      "description": "",
      "description_tooltip": null,
      "layout": "IPY_MODEL_f190ec8eaa344ef0b23794a286012121",
      "placeholder": "​",
      "style": "IPY_MODEL_e4d51961bca54086bd00f340a4e868e6",
      "value": "Loading checkpoint shards: 100%"
     }
    },
    "2cffdbe02a55467daa14f5402233a2db": {
     "model_module": "@jupyter-widgets/controls",
     "model_module_version": "1.5.0",
     "model_name": "DescriptionStyleModel",
     "state": {
      "_model_module": "@jupyter-widgets/controls",
      "_model_module_version": "1.5.0",
      "_model_name": "DescriptionStyleModel",
      "_view_count": null,
      "_view_module": "@jupyter-widgets/base",
      "_view_module_version": "1.2.0",
      "_view_name": "StyleView",
      "description_width": ""
     }
    },
    "3fecc5547384420095737d76d4b3df2a": {
     "model_module": "@jupyter-widgets/base",
     "model_module_version": "1.2.0",
     "model_name": "LayoutModel",
     "state": {
      "_model_module": "@jupyter-widgets/base",
      "_model_module_version": "1.2.0",
      "_model_name": "LayoutModel",
      "_view_count": null,
      "_view_module": "@jupyter-widgets/base",
      "_view_module_version": "1.2.0",
      "_view_name": "LayoutView",
      "align_content": null,
      "align_items": null,
      "align_self": null,
      "border": null,
      "bottom": null,
      "display": null,
      "flex": null,
      "flex_flow": null,
      "grid_area": null,
      "grid_auto_columns": null,
      "grid_auto_flow": null,
      "grid_auto_rows": null,
      "grid_column": null,
      "grid_gap": null,
      "grid_row": null,
      "grid_template_areas": null,
      "grid_template_columns": null,
      "grid_template_rows": null,
      "height": null,
      "justify_content": null,
      "justify_items": null,
      "left": null,
      "margin": null,
      "max_height": null,
      "max_width": null,
      "min_height": null,
      "min_width": null,
      "object_fit": null,
      "object_position": null,
      "order": null,
      "overflow": null,
      "overflow_x": null,
      "overflow_y": null,
      "padding": null,
      "right": null,
      "top": null,
      "visibility": null,
      "width": null
     }
    },
    "64a6f811a9464a6ba846e156a36f8eb4": {
     "model_module": "@jupyter-widgets/controls",
     "model_module_version": "1.5.0",
     "model_name": "HBoxModel",
     "state": {
      "_dom_classes": [],
      "_model_module": "@jupyter-widgets/controls",
      "_model_module_version": "1.5.0",
      "_model_name": "HBoxModel",
      "_view_count": null,
      "_view_module": "@jupyter-widgets/controls",
      "_view_module_version": "1.5.0",
      "_view_name": "HBoxView",
      "box_style": "",
      "children": [
       "IPY_MODEL_2479f491efc941b1bc9dd1528590d110",
       "IPY_MODEL_961a7552ea54416ea212ad4712e4152e",
       "IPY_MODEL_e3ffa7dd7b304a50a4e2b635097fa8d6"
      ],
      "layout": "IPY_MODEL_a6cc4a0982b14ccbab48740d38d1eeda"
     }
    },
    "961a7552ea54416ea212ad4712e4152e": {
     "model_module": "@jupyter-widgets/controls",
     "model_module_version": "1.5.0",
     "model_name": "FloatProgressModel",
     "state": {
      "_dom_classes": [],
      "_model_module": "@jupyter-widgets/controls",
      "_model_module_version": "1.5.0",
      "_model_name": "FloatProgressModel",
      "_view_count": null,
      "_view_module": "@jupyter-widgets/controls",
      "_view_module_version": "1.5.0",
      "_view_name": "ProgressView",
      "bar_style": "success",
      "description": "",
      "description_tooltip": null,
      "layout": "IPY_MODEL_3fecc5547384420095737d76d4b3df2a",
      "max": 2,
      "min": 0,
      "orientation": "horizontal",
      "style": "IPY_MODEL_1c093e78d07a4076b428d067a66ee46d",
      "value": 2
     }
    },
    "a6cc4a0982b14ccbab48740d38d1eeda": {
     "model_module": "@jupyter-widgets/base",
     "model_module_version": "1.2.0",
     "model_name": "LayoutModel",
     "state": {
      "_model_module": "@jupyter-widgets/base",
      "_model_module_version": "1.2.0",
      "_model_name": "LayoutModel",
      "_view_count": null,
      "_view_module": "@jupyter-widgets/base",
      "_view_module_version": "1.2.0",
      "_view_name": "LayoutView",
      "align_content": null,
      "align_items": null,
      "align_self": null,
      "border": null,
      "bottom": null,
      "display": null,
      "flex": null,
      "flex_flow": null,
      "grid_area": null,
      "grid_auto_columns": null,
      "grid_auto_flow": null,
      "grid_auto_rows": null,
      "grid_column": null,
      "grid_gap": null,
      "grid_row": null,
      "grid_template_areas": null,
      "grid_template_columns": null,
      "grid_template_rows": null,
      "height": null,
      "justify_content": null,
      "justify_items": null,
      "left": null,
      "margin": null,
      "max_height": null,
      "max_width": null,
      "min_height": null,
      "min_width": null,
      "object_fit": null,
      "object_position": null,
      "order": null,
      "overflow": null,
      "overflow_x": null,
      "overflow_y": null,
      "padding": null,
      "right": null,
      "top": null,
      "visibility": null,
      "width": null
     }
    },
    "e3ffa7dd7b304a50a4e2b635097fa8d6": {
     "model_module": "@jupyter-widgets/controls",
     "model_module_version": "1.5.0",
     "model_name": "HTMLModel",
     "state": {
      "_dom_classes": [],
      "_model_module": "@jupyter-widgets/controls",
      "_model_module_version": "1.5.0",
      "_model_name": "HTMLModel",
      "_view_count": null,
      "_view_module": "@jupyter-widgets/controls",
      "_view_module_version": "1.5.0",
      "_view_name": "HTMLView",
      "description": "",
      "description_tooltip": null,
      "layout": "IPY_MODEL_055dd68c6fb345dabbcdfdba90a09ae8",
      "placeholder": "​",
      "style": "IPY_MODEL_2cffdbe02a55467daa14f5402233a2db",
      "value": " 2/2 [00:32&lt;00:00, 15.65s/it]"
     }
    },
    "e4d51961bca54086bd00f340a4e868e6": {
     "model_module": "@jupyter-widgets/controls",
     "model_module_version": "1.5.0",
     "model_name": "DescriptionStyleModel",
     "state": {
      "_model_module": "@jupyter-widgets/controls",
      "_model_module_version": "1.5.0",
      "_model_name": "DescriptionStyleModel",
      "_view_count": null,
      "_view_module": "@jupyter-widgets/base",
      "_view_module_version": "1.2.0",
      "_view_name": "StyleView",
      "description_width": ""
     }
    },
    "f190ec8eaa344ef0b23794a286012121": {
     "model_module": "@jupyter-widgets/base",
     "model_module_version": "1.2.0",
     "model_name": "LayoutModel",
     "state": {
      "_model_module": "@jupyter-widgets/base",
      "_model_module_version": "1.2.0",
      "_model_name": "LayoutModel",
      "_view_count": null,
      "_view_module": "@jupyter-widgets/base",
      "_view_module_version": "1.2.0",
      "_view_name": "LayoutView",
      "align_content": null,
      "align_items": null,
      "align_self": null,
      "border": null,
      "bottom": null,
      "display": null,
      "flex": null,
      "flex_flow": null,
      "grid_area": null,
      "grid_auto_columns": null,
      "grid_auto_flow": null,
      "grid_auto_rows": null,
      "grid_column": null,
      "grid_gap": null,
      "grid_row": null,
      "grid_template_areas": null,
      "grid_template_columns": null,
      "grid_template_rows": null,
      "height": null,
      "justify_content": null,
      "justify_items": null,
      "left": null,
      "margin": null,
      "max_height": null,
      "max_width": null,
      "min_height": null,
      "min_width": null,
      "object_fit": null,
      "object_position": null,
      "order": null,
      "overflow": null,
      "overflow_x": null,
      "overflow_y": null,
      "padding": null,
      "right": null,
      "top": null,
      "visibility": null,
      "width": null
     }
    }
   }
  }
 },
 "nbformat": 4,
 "nbformat_minor": 4
}
