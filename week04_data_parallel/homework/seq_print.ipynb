{
 "cells": [
  {
   "cell_type": "code",
   "execution_count": 2,
   "id": "8f26f9ca-cb7e-4d7d-849f-8ebcce93ee65",
   "metadata": {
    "execution": {
     "iopub.execute_input": "2025-02-20T12:02:22.160192Z",
     "iopub.status.busy": "2025-02-20T12:02:22.159136Z",
     "iopub.status.idle": "2025-02-20T12:02:29.095685Z",
     "shell.execute_reply": "2025-02-20T12:02:29.094922Z",
     "shell.execute_reply.started": "2025-02-20T12:02:22.160151Z"
    },
    "tags": []
   },
   "outputs": [
    {
     "name": "stdout",
     "output_type": "stream",
     "text": [
      "Process 0\n",
      "Process 1\n",
      "Process 2\n",
      "Process 3\n",
      "Process 4\n",
      "---\n",
      "Process 0\n",
      "Process 1\n",
      "Process 2\n",
      "Process 3\n",
      "Process 4\n",
      "---\n",
      "Process 0\n",
      "Process 1\n",
      "Process 2\n",
      "Process 3\n",
      "Process 4\n",
      "---\n",
      "Process 0\n",
      "Process 1\n",
      "Process 2\n",
      "Process 3\n",
      "Process 4\n",
      "---\n",
      "Process 0\n",
      "Process 1\n",
      "Process 2\n",
      "Process 3\n",
      "Process 4\n",
      "---\n",
      "Process 0\n",
      "Process 1\n",
      "Process 2\n",
      "Process 3\n",
      "Process 4\n",
      "---\n",
      "Process 0\n",
      "Process 1\n",
      "Process 2\n",
      "Process 3\n",
      "Process 4\n",
      "---\n",
      "Process 0\n",
      "Process 1\n",
      "Process 2\n",
      "Process 3\n",
      "Process 4\n",
      "---\n",
      "Process 0\n",
      "Process 1\n",
      "Process 2\n",
      "Process 3\n",
      "Process 4\n",
      "---\n",
      "Process 0\n",
      "Process 1\n",
      "Process 2\n",
      "Process 3\n",
      "Process 4\n",
      "---\n"
     ]
    },
    {
     "name": "stderr",
     "output_type": "stream",
     "text": [
      "WARNING:torch.distributed.run:\n",
      "*****************************************\n",
      "Setting OMP_NUM_THREADS environment variable for each process to be 1 in default, to avoid your system being overloaded, please further tune the variable for optimal performance in your application as needed. \n",
      "*****************************************\n"
     ]
    }
   ],
   "source": [
    "!torchrun --nproc_per_node 5 sequential_print.py"
   ]
  },
  {
   "cell_type": "code",
   "execution_count": null,
   "id": "a9d65668-5a24-4208-b200-715610b983a8",
   "metadata": {},
   "outputs": [],
   "source": []
  }
 ],
 "metadata": {
  "kernelspec": {
   "display_name": "DataSphere Kernel",
   "language": "python",
   "name": "python3"
  },
  "language_info": {
   "codemirror_mode": {
    "name": "ipython",
    "version": 3
   },
   "file_extension": ".py",
   "mimetype": "text/x-python",
   "name": "python",
   "nbconvert_exporter": "python",
   "pygments_lexer": "ipython3",
   "version": "3.10.12"
  }
 },
 "nbformat": 4,
 "nbformat_minor": 5
}
