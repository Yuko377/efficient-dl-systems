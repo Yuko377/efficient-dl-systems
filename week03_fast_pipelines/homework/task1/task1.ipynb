{
 "cells": [
  {
   "cell_type": "markdown",
   "id": "f3ec9efe-a81c-4248-a93b-f9c399276bf6",
   "metadata": {},
   "source": [
    "## Задача 1\n",
    "\n",
    "Реализовал оба вида скейлинга, пример запуска ниже, нужные результаты по метрике получены"
   ]
  },
  {
   "cell_type": "code",
   "execution_count": 7,
   "id": "2eac4eb1-0ec5-409c-8761-67318756c151",
   "metadata": {
    "execution": {
     "iopub.execute_input": "2025-02-12T13:48:47.286608Z",
     "iopub.status.busy": "2025-02-12T13:48:47.285542Z",
     "iopub.status.idle": "2025-02-12T13:48:55.861437Z",
     "shell.execute_reply": "2025-02-12T13:48:55.860578Z",
     "shell.execute_reply.started": "2025-02-12T13:48:47.286564Z"
    },
    "tags": []
   },
   "outputs": [],
   "source": [
    "from train import train"
   ]
  },
  {
   "cell_type": "code",
   "execution_count": 13,
   "id": "aef54bf3-f6e0-436e-8e49-a55e69072cb8",
   "metadata": {
    "execution": {
     "iopub.execute_input": "2025-02-12T14:09:05.546169Z",
     "iopub.status.busy": "2025-02-12T14:09:05.545139Z",
     "iopub.status.idle": "2025-02-12T14:14:54.434503Z",
     "shell.execute_reply": "2025-02-12T14:14:54.433596Z",
     "shell.execute_reply.started": "2025-02-12T14:09:05.546118Z"
    },
    "tags": []
   },
   "outputs": [
    {
     "name": "stderr",
     "output_type": "stream",
     "text": [
      "Loss: 0.6091 Accuracy: 95.1053: 100%|██████████| 40/40 [01:09<00:00,  1.74s/it]\n",
      "Loss: 0.591 Accuracy: 97.8578: 100%|██████████| 40/40 [01:10<00:00,  1.75s/it] \n",
      "Loss: 0.5865 Accuracy: 98.3957: 100%|██████████| 40/40 [01:09<00:00,  1.73s/it]\n",
      "Loss: 0.5857 Accuracy: 98.8765: 100%|██████████| 40/40 [01:09<00:00,  1.73s/it]\n",
      "Loss: 0.5825 Accuracy: 99.0084: 100%|██████████| 40/40 [01:09<00:00,  1.73s/it]\n"
     ]
    }
   ],
   "source": [
    "train(\"static\")"
   ]
  },
  {
   "cell_type": "code",
   "execution_count": 14,
   "id": "10c19dd1-13d4-474d-961e-82941354f9cd",
   "metadata": {
    "execution": {
     "iopub.execute_input": "2025-02-12T14:15:47.499068Z",
     "iopub.status.busy": "2025-02-12T14:15:47.497948Z",
     "iopub.status.idle": "2025-02-12T14:21:28.846468Z",
     "shell.execute_reply": "2025-02-12T14:21:28.845462Z",
     "shell.execute_reply.started": "2025-02-12T14:15:47.499019Z"
    },
    "tags": []
   },
   "outputs": [
    {
     "name": "stderr",
     "output_type": "stream",
     "text": [
      "Loss: 0.61 Accuracy: 94.3446: 100%|██████████| 40/40 [01:08<00:00,  1.70s/it]  \n",
      "Loss: 0.5907 Accuracy: 97.0719: 100%|██████████| 40/40 [01:07<00:00,  1.68s/it]\n",
      "Loss: 0.5909 Accuracy: 98.2046: 100%|██████████| 40/40 [01:07<00:00,  1.70s/it]\n",
      "Loss: 0.5878 Accuracy: 98.6017: 100%|██████████| 40/40 [01:07<00:00,  1.69s/it]\n",
      "Loss: 0.5826 Accuracy: 98.8079: 100%|██████████| 40/40 [01:07<00:00,  1.69s/it]\n"
     ]
    }
   ],
   "source": [
    "train(\"dynamic\")"
   ]
  },
  {
   "cell_type": "code",
   "execution_count": null,
   "id": "2a3563bd-8a3e-43d4-9936-889d9b030656",
   "metadata": {},
   "outputs": [],
   "source": []
  }
 ],
 "metadata": {
  "kernelspec": {
   "display_name": "DataSphere Kernel",
   "language": "python",
   "name": "python3"
  },
  "language_info": {
   "codemirror_mode": {
    "name": "ipython",
    "version": 3
   },
   "file_extension": ".py",
   "mimetype": "text/x-python",
   "name": "python",
   "nbconvert_exporter": "python",
   "pygments_lexer": "ipython3",
   "version": "3.10.12"
  }
 },
 "nbformat": 4,
 "nbformat_minor": 5
}
