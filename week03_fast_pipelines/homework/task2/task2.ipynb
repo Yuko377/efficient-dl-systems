{
 "cells": [
  {
   "cell_type": "markdown",
   "id": "d7fd6800-4faf-422a-a7d7-9e5db5e8bd60",
   "metadata": {},
   "source": [
    "## Задача 2\n",
    "\n",
    "Я реализовал все необходимые виды батчинга (см. dataset.py). Также написал свою GPT2-like модель (gpt2like.py) и вычисление масок для последнего из подходов (dataset.py). Запуск производится с помощью функции measure_epoch_time, она костыльная, не успел красиво раскрутить проблему того, что у меня последний подход еще маски генерирует. Третий подход запускал с k=640, но оно не совсем сошлось, хз почему. Результаты в принципе логичные, первый и последний подходы дают сильно больше времени из-за размера батча"
   ]
  },
  {
   "cell_type": "code",
   "execution_count": null,
   "id": "7af5719b-946d-44ad-83d0-e08d0d972ab7",
   "metadata": {
    "tags": []
   },
   "outputs": [],
   "source": [
    "from run_epoch import measure_epoch_time, DataMode"
   ]
  },
  {
   "cell_type": "code",
   "execution_count": null,
   "id": "5601a24c-b66b-4b6b-96ca-322286f9ef80",
   "metadata": {
    "tags": []
   },
   "outputs": [],
   "source": [
    "logs = {}\n",
    "measure_epoch_time(DataMode.BRAIN, logs)"
   ]
  },
  {
   "cell_type": "code",
   "execution_count": null,
   "id": "1b52fa40-e3a7-43f3-9ede-821233175ecc",
   "metadata": {
    "tags": []
   },
   "outputs": [],
   "source": [
    "measure_epoch_time(DataMode.BIG_BRAIN, logs)"
   ]
  },
  {
   "cell_type": "code",
   "execution_count": null,
   "id": "c4c82cf2-8372-4273-9a36-f4670b8b7b14",
   "metadata": {
    "tags": []
   },
   "outputs": [],
   "source": [
    "measure_epoch_time(DataMode.ULTRA_BIG_BRAIN, logs)"
   ]
  },
  {
   "cell_type": "code",
   "execution_count": null,
   "id": "09887f9f-727c-4fb9-a898-366744db639b",
   "metadata": {
    "tags": []
   },
   "outputs": [],
   "source": [
    "measure_epoch_time(DataMode.ULTRA_DUPER_BIG_BRAIN, logs)"
   ]
  },
  {
   "cell_type": "code",
   "execution_count": null,
   "id": "02f4b4c1-b735-46b1-9652-911f7e7404df",
   "metadata": {
    "tags": []
   },
   "outputs": [],
   "source": [
    "import pandas as pd"
   ]
  },
  {
   "cell_type": "code",
   "execution_count": null,
   "id": "73b0b02a-7ead-4651-83ec-e7aa0cc22234",
   "metadata": {},
   "outputs": [],
   "source": [
    "df = pd.DataFrame.from_dict(logs)"
   ]
  },
  {
   "cell_type": "code",
   "execution_count": 10,
   "id": "346935da-1506-4932-8afa-dbcbad6f295b",
   "metadata": {
    "execution": {
     "iopub.execute_input": "2025-02-16T14:10:34.786060Z",
     "iopub.status.busy": "2025-02-16T14:10:34.785088Z",
     "iopub.status.idle": "2025-02-16T14:10:34.812601Z",
     "shell.execute_reply": "2025-02-16T14:10:34.811736Z",
     "shell.execute_reply.started": "2025-02-16T14:10:34.786017Z"
    }
   },
   "outputs": [
    {
     "data": {
      "text/html": [
       "<div>\n",
       "<style scoped>\n",
       "    .dataframe tbody tr th:only-of-type {\n",
       "        vertical-align: middle;\n",
       "    }\n",
       "\n",
       "    .dataframe tbody tr th {\n",
       "        vertical-align: top;\n",
       "    }\n",
       "\n",
       "    .dataframe thead th {\n",
       "        text-align: right;\n",
       "    }\n",
       "</style>\n",
       "<table border=\"1\" class=\"dataframe\">\n",
       "  <thead>\n",
       "    <tr style=\"text-align: right;\">\n",
       "      <th></th>\n",
       "      <th>BrainDataset</th>\n",
       "      <th>BigBrainDataset</th>\n",
       "      <th>UltraBigBrainDataset</th>\n",
       "      <th>UltraDuperBigBrainDataset</th>\n",
       "    </tr>\n",
       "  </thead>\n",
       "  <tbody>\n",
       "    <tr>\n",
       "      <th>min</th>\n",
       "      <td>181.288712</td>\n",
       "      <td>5.160608</td>\n",
       "      <td>40.68819</td>\n",
       "      <td>94.401154</td>\n",
       "    </tr>\n",
       "    <tr>\n",
       "      <th>max</th>\n",
       "      <td>218.490753</td>\n",
       "      <td>211.335129</td>\n",
       "      <td>214.8703</td>\n",
       "      <td>220.816605</td>\n",
       "    </tr>\n",
       "    <tr>\n",
       "      <th>mean</th>\n",
       "      <td>201.625258</td>\n",
       "      <td>86.801508</td>\n",
       "      <td>99.885966</td>\n",
       "      <td>214.479947</td>\n",
       "    </tr>\n",
       "    <tr>\n",
       "      <th>median</th>\n",
       "      <td>202.0905</td>\n",
       "      <td>86.996895</td>\n",
       "      <td>97.963375</td>\n",
       "      <td>215.920349</td>\n",
       "    </tr>\n",
       "    <tr>\n",
       "      <th>sample</th>\n",
       "      <td>[181.28871154785156, 186.3905029296875, 189.74...</td>\n",
       "      <td>[83.24451446533203, 8.362367630004883, 7.21852...</td>\n",
       "      <td>[79.82940673828125, 128.16323852539062, 113.28...</td>\n",
       "      <td>[213.0489959716797, 216.43283081054688, 215.44...</td>\n",
       "    </tr>\n",
       "  </tbody>\n",
       "</table>\n",
       "</div>"
      ],
      "text/plain": [
       "                                             BrainDataset  ...                          UltraDuperBigBrainDataset\n",
       "min                                            181.288712  ...                                          94.401154\n",
       "max                                            218.490753  ...                                         220.816605\n",
       "mean                                           201.625258  ...                                         214.479947\n",
       "median                                           202.0905  ...                                         215.920349\n",
       "sample  [181.28871154785156, 186.3905029296875, 189.74...  ...  [213.0489959716797, 216.43283081054688, 215.44...\n",
       "\n",
       "[5 rows x 4 columns]"
      ]
     },
     "execution_count": 10,
     "metadata": {},
     "output_type": "execute_result"
    }
   ],
   "source": [
    "df"
   ]
  },
  {
   "cell_type": "code",
   "execution_count": null,
   "id": "18213dc2-0ac4-4928-bf6f-71c23cf5db7c",
   "metadata": {},
   "outputs": [],
   "source": []
  }
 ],
 "metadata": {
  "kernelspec": {
   "display_name": "DataSphere Kernel",
   "language": "python",
   "name": "python3"
  },
  "language_info": {
   "codemirror_mode": {
    "name": "ipython",
    "version": 3
   },
   "file_extension": ".py",
   "mimetype": "text/x-python",
   "name": "python",
   "nbconvert_exporter": "python",
   "pygments_lexer": "ipython3",
   "version": "3.10.12"
  }
 },
 "nbformat": 4,
 "nbformat_minor": 5
}
