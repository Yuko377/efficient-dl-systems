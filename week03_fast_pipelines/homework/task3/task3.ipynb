{
 "cells": [
  {
   "cell_type": "markdown",
   "id": "5db2c77a-71ab-4e47-9065-dc1ae9264d9c",
   "metadata": {},
   "source": [
    "### Задача 3\n",
    "\n",
    "Я успел только написать хуки для слоев, чтобы померить время каждого. Не стал мучить датасет, ниже просто запуск на одном примере. Это немного, но зато я разобрался как работают хуки, лол"
   ]
  },
  {
   "cell_type": "code",
   "execution_count": null,
   "id": "7fccb4fa-81b7-4ca8-9ef4-9b7591d08b35",
   "metadata": {
    "execution": {
     "iopub.execute_input": "2025-02-16T13:30:54.744432Z",
     "iopub.status.busy": "2025-02-16T13:30:54.743141Z",
     "iopub.status.idle": "2025-02-16T13:31:06.859017Z",
     "shell.execute_reply": "2025-02-16T13:31:06.858234Z",
     "shell.execute_reply.started": "2025-02-16T13:30:54.744370Z"
    },
    "tags": []
   },
   "outputs": [],
   "source": [
    "from vit import ViT\n",
    "from profiler import Profile"
   ]
  },
  {
   "cell_type": "code",
   "execution_count": 6,
   "id": "dc7cfb76-ffae-4c91-9a9d-7b6a5bd2cc14",
   "metadata": {
    "execution": {
     "iopub.execute_input": "2025-02-16T13:31:54.022875Z",
     "iopub.status.busy": "2025-02-16T13:31:54.021979Z",
     "iopub.status.idle": "2025-02-16T13:31:54.147028Z",
     "shell.execute_reply": "2025-02-16T13:31:54.146273Z",
     "shell.execute_reply.started": "2025-02-16T13:31:54.022833Z"
    },
    "tags": []
   },
   "outputs": [],
   "source": [
    "m = ViT(image_size=256,\n",
    "        patch_size=16,\n",
    "        num_classes=10,\n",
    "        depth=3,\n",
    "        heads=8).to('cuda')"
   ]
  },
  {
   "cell_type": "code",
   "execution_count": 11,
   "id": "508848e5-07bd-40d1-a944-0ca987e21cf4",
   "metadata": {
    "execution": {
     "iopub.execute_input": "2025-02-16T13:33:15.648102Z",
     "iopub.status.busy": "2025-02-16T13:33:15.646923Z",
     "iopub.status.idle": "2025-02-16T13:33:15.733993Z",
     "shell.execute_reply": "2025-02-16T13:33:15.733198Z",
     "shell.execute_reply.started": "2025-02-16T13:33:15.648058Z"
    },
    "tags": []
   },
   "outputs": [],
   "source": [
    "import torch\n",
    "inp = torch.rand(4, 3, 256, 256, device='cuda')\n",
    "ans = torch.randint(10, (4,), device='cuda')"
   ]
  },
  {
   "cell_type": "code",
   "execution_count": 12,
   "id": "e7882c0d-e858-4953-b611-9530edf609fb",
   "metadata": {
    "execution": {
     "iopub.execute_input": "2025-02-16T13:33:25.002964Z",
     "iopub.status.busy": "2025-02-16T13:33:25.002009Z",
     "iopub.status.idle": "2025-02-16T13:33:25.058051Z",
     "shell.execute_reply": "2025-02-16T13:33:25.057327Z",
     "shell.execute_reply.started": "2025-02-16T13:33:25.002921Z"
    },
    "tags": []
   },
   "outputs": [
    {
     "data": {
      "text/plain": [
       "torch.Size([4, 10])"
      ]
     },
     "execution_count": 12,
     "metadata": {},
     "output_type": "execute_result"
    }
   ],
   "source": [
    "preds.shape"
   ]
  },
  {
   "cell_type": "code",
   "execution_count": 13,
   "id": "30ada2c7-2e93-4354-8791-ea0bb38ce342",
   "metadata": {
    "execution": {
     "iopub.execute_input": "2025-02-16T13:33:25.143484Z",
     "iopub.status.busy": "2025-02-16T13:33:25.142562Z",
     "iopub.status.idle": "2025-02-16T13:33:25.602551Z",
     "shell.execute_reply": "2025-02-16T13:33:25.601864Z",
     "shell.execute_reply.started": "2025-02-16T13:33:25.143443Z"
    },
    "tags": []
   },
   "outputs": [
    {
     "name": "stdout",
     "output_type": "stream",
     "text": [
      "Summary:\n",
      "('fwd', 'to_patch_embedding.0: Rearrange', 0.20124800503253937)\n",
      "('fwd', 'to_patch_embedding.1: Linear', 0.5424320101737976)\n",
      "('fwd', 'to_patch_embedding: Sequential', 0.9482560157775879)\n",
      "('fwd', 'dropout: Dropout', 0.07187200337648392)\n",
      "('fwd', 'transformer.layers.0.0.queries: Linear', 0.24937599897384644)\n",
      "('fwd', 'transformer.layers.0.0.keys: Linear', 0.21635200083255768)\n",
      "('fwd', 'transformer.layers.0.0.values: Linear', 0.20057600736618042)\n",
      "('fwd', 'transformer.layers.0.0.attend: Softmax', 0.0793600007891655)\n",
      "('fwd', 'transformer.layers.0.0.dropout: Dropout', 0.04508800059556961)\n",
      "('fwd', 'transformer.layers.0.0.to_out.0: Linear', 0.23017600178718567)\n",
      "('fwd', 'transformer.layers.0.0.to_out.1: Dropout', 0.04505600035190582)\n",
      "('fwd', 'transformer.layers.0.0.to_out: Sequential', 0.47308799624443054)\n",
      "('fwd', 'transformer.layers.0.0: Attention', 2.203711986541748)\n",
      "('fwd', 'transformer.layers.0.1.net.0: LayerNorm', 0.18435199558734894)\n",
      "('fwd', 'transformer.layers.0.1.net.1: Linear', 0.3019840121269226)\n",
      "('fwd', 'transformer.layers.0.1.net.2: GELU', 0.07152000069618225)\n",
      "('fwd', 'transformer.layers.0.1.net.3: Dropout', 0.046271998435258865)\n",
      "('fwd', 'transformer.layers.0.1.net.4: Linear', 0.27852800488471985)\n",
      "('fwd', 'transformer.layers.0.1.net.5: Dropout', 0.055135998874902725)\n",
      "('fwd', 'transformer.layers.0.1.net: Sequential', 1.4431040287017822)\n",
      "('fwd', 'transformer.layers.0.1: FeedForward', 1.5527360439300537)\n",
      "('fwd', 'transformer.layers.1.0.queries: Linear', 0.21884800493717194)\n",
      "('fwd', 'transformer.layers.1.0.keys: Linear', 0.35129600763320923)\n",
      "('fwd', 'transformer.layers.1.0.values: Linear', 0.20899200439453125)\n",
      "('fwd', 'transformer.layers.1.0.attend: Softmax', 0.07152000069618225)\n",
      "('fwd', 'transformer.layers.1.0.dropout: Dropout', 0.04556800052523613)\n",
      "('fwd', 'transformer.layers.1.0.to_out.0: Linear', 0.33744001388549805)\n",
      "('fwd', 'transformer.layers.1.0.to_out.1: Dropout', 0.12070400267839432)\n",
      "('fwd', 'transformer.layers.1.0.to_out: Sequential', 0.6588799953460693)\n",
      "('fwd', 'transformer.layers.1.0: Attention', 2.512576103210449)\n",
      "('fwd', 'transformer.layers.1.1.net.0: LayerNorm', 0.178847998380661)\n",
      "('fwd', 'transformer.layers.1.1.net.1: Linear', 0.26310399174690247)\n",
      "('fwd', 'transformer.layers.1.1.net.2: GELU', 0.06617599725723267)\n",
      "('fwd', 'transformer.layers.1.1.net.3: Dropout', 0.046592000871896744)\n",
      "('fwd', 'transformer.layers.1.1.net.4: Linear', 0.25407999753952026)\n",
      "('fwd', 'transformer.layers.1.1.net.5: Dropout', 0.05075199902057648)\n",
      "('fwd', 'transformer.layers.1.1.net: Sequential', 1.347551941871643)\n",
      "('fwd', 'transformer.layers.1.1: FeedForward', 1.4691200256347656)\n",
      "('fwd', 'transformer.layers.2.0.queries: Linear', 0.22323200106620789)\n",
      "('fwd', 'transformer.layers.2.0.keys: Linear', 0.21475200355052948)\n",
      "('fwd', 'transformer.layers.2.0.values: Linear', 0.2011840045452118)\n",
      "('fwd', 'transformer.layers.2.0.attend: Softmax', 0.07497599720954895)\n",
      "('fwd', 'transformer.layers.2.0.dropout: Dropout', 0.04870399832725525)\n",
      "('fwd', 'transformer.layers.2.0.to_out.0: Linear', 0.22380800545215607)\n",
      "('fwd', 'transformer.layers.2.0.to_out.1: Dropout', 0.04710400104522705)\n",
      "('fwd', 'transformer.layers.2.0.to_out: Sequential', 0.4625599980354309)\n",
      "('fwd', 'transformer.layers.2.0: Attention', 2.224128007888794)\n",
      "('fwd', 'transformer.layers.2.1.net.0: LayerNorm', 0.1753920018672943)\n",
      "('fwd', 'transformer.layers.2.1.net.1: Linear', 0.28729599714279175)\n",
      "('fwd', 'transformer.layers.2.1.net.2: GELU', 0.06966400146484375)\n",
      "('fwd', 'transformer.layers.2.1.net.3: Dropout', 0.05392000079154968)\n",
      "('fwd', 'transformer.layers.2.1.net.4: Linear', 0.26416000723838806)\n",
      "('fwd', 'transformer.layers.2.1.net.5: Dropout', 0.048895999789237976)\n",
      "('fwd', 'transformer.layers.2.1.net: Sequential', 1.397439956665039)\n",
      "('fwd', 'transformer.layers.2.1: FeedForward', 1.509727954864502)\n",
      "('fwd', 'transformer: Transformer', 12.121824264526367)\n",
      "('fwd', 'to_latent: Identity', 0.04912000149488449)\n",
      "('fwd', 'mlp_head.0: BatchNorm1d', 0.190528005361557)\n",
      "('fwd', 'mlp_head.1: Linear', 0.09622400254011154)\n",
      "('fwd', 'mlp_head: Sequential', 0.49055999517440796)\n",
      "('fwd', 'model: ViT', 14.293024063110352)\n",
      "('bwd', 'model: ViT', 0.018400000408291817)\n",
      "('bwd', 'mlp_head.1: Linear', 165.25718688964844)\n",
      "('bwd', 'mlp_head.0: BatchNorm1d', 14.006048202514648)\n",
      "('bwd', 'mlp_head: Sequential', 179.44650268554688)\n",
      "('bwd', 'to_latent: Identity', 0.02364799939095974)\n",
      "('bwd', 'transformer.layers.2.1.net.5: Dropout', 0.021023999899625778)\n",
      "('bwd', 'transformer.layers.2.1.net.4: Linear', 0.3494719862937927)\n",
      "('bwd', 'transformer.layers.2.1.net.3: Dropout', 0.022495999932289124)\n",
      "('bwd', 'transformer.layers.2.1.net.2: GELU', 11.409536361694336)\n",
      "('bwd', 'transformer.layers.2.1.net.1: Linear', 0.23465600609779358)\n",
      "('bwd', 'transformer.layers.2.1.net.0: LayerNorm', 5.599999904632568)\n",
      "('bwd', 'transformer.layers.2.1.net: Sequential', 17.96940803527832)\n",
      "('bwd', 'transformer.layers.2.1: FeedForward', 18.034847259521484)\n",
      "('bwd', 'transformer.layers.2.0.to_out.1: Dropout', 0.02067199908196926)\n",
      "('bwd', 'transformer.layers.2.0.to_out.0: Linear', 0.36454400420188904)\n",
      "('bwd', 'transformer.layers.2.0.to_out: Sequential', 0.49344000220298767)\n",
      "('bwd', 'transformer.layers.2.0.dropout: Dropout', 0.028095999732613564)\n",
      "('bwd', 'transformer.layers.2.0.attend: Softmax', 3.2296640872955322)\n",
      "('bwd', 'transformer.layers.2.0.values: Linear', 0.3242560029029846)\n",
      "('bwd', 'transformer.layers.2.0.keys: Linear', 0.34726399183273315)\n",
      "('bwd', 'transformer.layers.2.0.queries: Linear', 0.31747201085090637)\n",
      "('bwd', 'transformer.layers.2.0: Attention', 9.84505558013916)\n",
      "('bwd', 'transformer.layers.1.1.net.5: Dropout', 0.020287999883294106)\n",
      "('bwd', 'transformer.layers.1.1.net.4: Linear', 0.19968000054359436)\n",
      "('bwd', 'transformer.layers.1.1.net.3: Dropout', 0.022495999932289124)\n",
      "('bwd', 'transformer.layers.1.1.net.2: GELU', 0.06239999830722809)\n",
      "('bwd', 'transformer.layers.1.1.net.1: Linear', 0.22655999660491943)\n",
      "('bwd', 'transformer.layers.1.1.net.0: LayerNorm', 0.07782399654388428)\n",
      "('bwd', 'transformer.layers.1.1.net: Sequential', 0.8988479971885681)\n",
      "('bwd', 'transformer.layers.1.1: FeedForward', 0.9702720046043396)\n",
      "('bwd', 'transformer.layers.1.0.to_out.1: Dropout', 0.10623999685049057)\n",
      "('bwd', 'transformer.layers.1.0.to_out.0: Linear', 0.3337920010089874)\n",
      "('bwd', 'transformer.layers.1.0.to_out: Sequential', 0.5550079941749573)\n",
      "('bwd', 'transformer.layers.1.0.dropout: Dropout', 0.024320000782608986)\n",
      "('bwd', 'transformer.layers.1.0.attend: Softmax', 0.05510399863123894)\n",
      "('bwd', 'transformer.layers.1.0.values: Linear', 0.30000001192092896)\n",
      "('bwd', 'transformer.layers.1.0.keys: Linear', 0.33958399295806885)\n",
      "('bwd', 'transformer.layers.1.0.queries: Linear', 0.2984960079193115)\n",
      "('bwd', 'transformer.layers.1.0: Attention', 2.64467191696167)\n",
      "('bwd', 'transformer.layers.0.1.net.5: Dropout', 0.02380800060927868)\n",
      "('bwd', 'transformer.layers.0.1.net.4: Linear', 0.2030400037765503)\n",
      "('bwd', 'transformer.layers.0.1.net.3: Dropout', 0.025696000084280968)\n",
      "('bwd', 'transformer.layers.0.1.net.2: GELU', 0.04505600035190582)\n",
      "('bwd', 'transformer.layers.0.1.net.1: Linear', 0.19833600521087646)\n",
      "('bwd', 'transformer.layers.0.1.net.0: LayerNorm', 0.09008000046014786)\n",
      "('bwd', 'transformer.layers.0.1.net: Sequential', 0.884768009185791)\n",
      "('bwd', 'transformer.layers.0.1: FeedForward', 0.954367995262146)\n",
      "('bwd', 'transformer.layers.0.0.to_out.1: Dropout', 0.022016000002622604)\n",
      "('bwd', 'transformer.layers.0.0.to_out.0: Linear', 0.32924801111221313)\n",
      "('bwd', 'transformer.layers.0.0.to_out: Sequential', 0.45743998885154724)\n",
      "('bwd', 'transformer.layers.0.0.dropout: Dropout', 0.024480000138282776)\n",
      "('bwd', 'transformer.layers.0.0.attend: Softmax', 0.055456001311540604)\n",
      "('bwd', 'transformer.layers.0.0.values: Linear', 0.30035200715065)\n",
      "('bwd', 'transformer.layers.0.0.keys: Linear', 0.3391039967536926)\n",
      "('bwd', 'transformer.layers.0.0.queries: Linear', 0.32419198751449585)\n",
      "('bwd', 'transformer.layers.0.0: Attention', 2.5803840160369873)\n",
      "('bwd', 'transformer: Transformer', 35.47951889038086)\n",
      "('bwd', 'dropout: Dropout', 0.022304000332951546)\n",
      "('bwd', 'to_patch_embedding: Sequential', 0.01408000010997057)\n",
      "('bwd', 'to_patch_embedding.1: Linear', 0.012191999703645706)\n"
     ]
    }
   ],
   "source": [
    "from torch import nn\n",
    "crit = nn.CrossEntropyLoss()\n",
    "with Profile(m) as p:\n",
    "    preds =m (inp)\n",
    "    loss = crit(preds, ans)\n",
    "    loss.backward()"
   ]
  },
  {
   "cell_type": "code",
   "execution_count": null,
   "id": "bb8e8919-f0db-406d-95f5-8df94a0b142b",
   "metadata": {},
   "outputs": [],
   "source": []
  }
 ],
 "metadata": {
  "kernelspec": {
   "display_name": "DataSphere Kernel",
   "language": "python",
   "name": "python3"
  },
  "language_info": {
   "codemirror_mode": {
    "name": "ipython",
    "version": 3
   },
   "file_extension": ".py",
   "mimetype": "text/x-python",
   "name": "python",
   "nbconvert_exporter": "python",
   "pygments_lexer": "ipython3",
   "version": "3.10.12"
  }
 },
 "nbformat": 4,
 "nbformat_minor": 5
}
